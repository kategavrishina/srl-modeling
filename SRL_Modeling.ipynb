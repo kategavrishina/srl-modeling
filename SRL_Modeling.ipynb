{
  "nbformat": 4,
  "nbformat_minor": 0,
  "metadata": {
    "colab": {
      "name": "SRL_Modeling.ipynb",
      "provenance": [],
      "collapsed_sections": [],
      "include_colab_link": true
    },
    "kernelspec": {
      "name": "python3",
      "display_name": "Python 3"
    },
    "language_info": {
      "name": "python"
    },
    "accelerator": "GPU",
    "widgets": {
      "application/vnd.jupyter.widget-state+json": {
        "107799ee56b349818c2d3f911c544229": {
          "model_module": "@jupyter-widgets/controls",
          "model_name": "HBoxModel",
          "state": {
            "_view_name": "HBoxView",
            "_dom_classes": [],
            "_model_name": "HBoxModel",
            "_view_module": "@jupyter-widgets/controls",
            "_model_module_version": "1.5.0",
            "_view_count": null,
            "_view_module_version": "1.5.0",
            "box_style": "",
            "layout": "IPY_MODEL_5b0a506f34ac49cb90b7b7b9198c7487",
            "_model_module": "@jupyter-widgets/controls",
            "children": [
              "IPY_MODEL_7b8fb18e3a3640fab5655902bd68dc3f",
              "IPY_MODEL_14e90582db2b4d04ab5f5a60ea805698"
            ]
          }
        },
        "5b0a506f34ac49cb90b7b7b9198c7487": {
          "model_module": "@jupyter-widgets/base",
          "model_name": "LayoutModel",
          "state": {
            "_view_name": "LayoutView",
            "grid_template_rows": null,
            "right": null,
            "justify_content": null,
            "_view_module": "@jupyter-widgets/base",
            "overflow": null,
            "_model_module_version": "1.2.0",
            "_view_count": null,
            "flex_flow": null,
            "width": null,
            "min_width": null,
            "border": null,
            "align_items": null,
            "bottom": null,
            "_model_module": "@jupyter-widgets/base",
            "top": null,
            "grid_column": null,
            "overflow_y": null,
            "overflow_x": null,
            "grid_auto_flow": null,
            "grid_area": null,
            "grid_template_columns": null,
            "flex": null,
            "_model_name": "LayoutModel",
            "justify_items": null,
            "grid_row": null,
            "max_height": null,
            "align_content": null,
            "visibility": null,
            "align_self": null,
            "height": null,
            "min_height": null,
            "padding": null,
            "grid_auto_rows": null,
            "grid_gap": null,
            "max_width": null,
            "order": null,
            "_view_module_version": "1.2.0",
            "grid_template_areas": null,
            "object_position": null,
            "object_fit": null,
            "grid_auto_columns": null,
            "margin": null,
            "display": null,
            "left": null
          }
        },
        "7b8fb18e3a3640fab5655902bd68dc3f": {
          "model_module": "@jupyter-widgets/controls",
          "model_name": "FloatProgressModel",
          "state": {
            "_view_name": "ProgressView",
            "style": "IPY_MODEL_d207330def5b423b836777cd2d932d6f",
            "_dom_classes": [],
            "description": "100%",
            "_model_name": "FloatProgressModel",
            "bar_style": "success",
            "max": 17257,
            "_view_module": "@jupyter-widgets/controls",
            "_model_module_version": "1.5.0",
            "value": 17257,
            "_view_count": null,
            "_view_module_version": "1.5.0",
            "orientation": "horizontal",
            "min": 0,
            "description_tooltip": null,
            "_model_module": "@jupyter-widgets/controls",
            "layout": "IPY_MODEL_c799dd76c65846629c5a74d1d8b0e156"
          }
        },
        "14e90582db2b4d04ab5f5a60ea805698": {
          "model_module": "@jupyter-widgets/controls",
          "model_name": "HTMLModel",
          "state": {
            "_view_name": "HTMLView",
            "style": "IPY_MODEL_7caebb069a934bcabd48448903e33f25",
            "_dom_classes": [],
            "description": "",
            "_model_name": "HTMLModel",
            "placeholder": "​",
            "_view_module": "@jupyter-widgets/controls",
            "_model_module_version": "1.5.0",
            "value": " 17257/17257 [03:06&lt;00:00, 92.59it/s]",
            "_view_count": null,
            "_view_module_version": "1.5.0",
            "description_tooltip": null,
            "_model_module": "@jupyter-widgets/controls",
            "layout": "IPY_MODEL_8c8064aa8dac4203854fab832ee354af"
          }
        },
        "d207330def5b423b836777cd2d932d6f": {
          "model_module": "@jupyter-widgets/controls",
          "model_name": "ProgressStyleModel",
          "state": {
            "_view_name": "StyleView",
            "_model_name": "ProgressStyleModel",
            "description_width": "initial",
            "_view_module": "@jupyter-widgets/base",
            "_model_module_version": "1.5.0",
            "_view_count": null,
            "_view_module_version": "1.2.0",
            "bar_color": null,
            "_model_module": "@jupyter-widgets/controls"
          }
        },
        "c799dd76c65846629c5a74d1d8b0e156": {
          "model_module": "@jupyter-widgets/base",
          "model_name": "LayoutModel",
          "state": {
            "_view_name": "LayoutView",
            "grid_template_rows": null,
            "right": null,
            "justify_content": null,
            "_view_module": "@jupyter-widgets/base",
            "overflow": null,
            "_model_module_version": "1.2.0",
            "_view_count": null,
            "flex_flow": null,
            "width": null,
            "min_width": null,
            "border": null,
            "align_items": null,
            "bottom": null,
            "_model_module": "@jupyter-widgets/base",
            "top": null,
            "grid_column": null,
            "overflow_y": null,
            "overflow_x": null,
            "grid_auto_flow": null,
            "grid_area": null,
            "grid_template_columns": null,
            "flex": null,
            "_model_name": "LayoutModel",
            "justify_items": null,
            "grid_row": null,
            "max_height": null,
            "align_content": null,
            "visibility": null,
            "align_self": null,
            "height": null,
            "min_height": null,
            "padding": null,
            "grid_auto_rows": null,
            "grid_gap": null,
            "max_width": null,
            "order": null,
            "_view_module_version": "1.2.0",
            "grid_template_areas": null,
            "object_position": null,
            "object_fit": null,
            "grid_auto_columns": null,
            "margin": null,
            "display": null,
            "left": null
          }
        },
        "7caebb069a934bcabd48448903e33f25": {
          "model_module": "@jupyter-widgets/controls",
          "model_name": "DescriptionStyleModel",
          "state": {
            "_view_name": "StyleView",
            "_model_name": "DescriptionStyleModel",
            "description_width": "",
            "_view_module": "@jupyter-widgets/base",
            "_model_module_version": "1.5.0",
            "_view_count": null,
            "_view_module_version": "1.2.0",
            "_model_module": "@jupyter-widgets/controls"
          }
        },
        "8c8064aa8dac4203854fab832ee354af": {
          "model_module": "@jupyter-widgets/base",
          "model_name": "LayoutModel",
          "state": {
            "_view_name": "LayoutView",
            "grid_template_rows": null,
            "right": null,
            "justify_content": null,
            "_view_module": "@jupyter-widgets/base",
            "overflow": null,
            "_model_module_version": "1.2.0",
            "_view_count": null,
            "flex_flow": null,
            "width": null,
            "min_width": null,
            "border": null,
            "align_items": null,
            "bottom": null,
            "_model_module": "@jupyter-widgets/base",
            "top": null,
            "grid_column": null,
            "overflow_y": null,
            "overflow_x": null,
            "grid_auto_flow": null,
            "grid_area": null,
            "grid_template_columns": null,
            "flex": null,
            "_model_name": "LayoutModel",
            "justify_items": null,
            "grid_row": null,
            "max_height": null,
            "align_content": null,
            "visibility": null,
            "align_self": null,
            "height": null,
            "min_height": null,
            "padding": null,
            "grid_auto_rows": null,
            "grid_gap": null,
            "max_width": null,
            "order": null,
            "_view_module_version": "1.2.0",
            "grid_template_areas": null,
            "object_position": null,
            "object_fit": null,
            "grid_auto_columns": null,
            "margin": null,
            "display": null,
            "left": null
          }
        }
      }
    }
  },
  "cells": [
    {
      "cell_type": "markdown",
      "metadata": {
        "id": "view-in-github",
        "colab_type": "text"
      },
      "source": [
        "<a href=\"https://colab.research.google.com/github/kategavrishina/srl-modeling/blob/main/SRL_Modeling.ipynb\" target=\"_parent\"><img src=\"https://colab.research.google.com/assets/colab-badge.svg\" alt=\"Open In Colab\"/></a>"
      ]
    },
    {
      "cell_type": "code",
      "metadata": {
        "id": "P6KCBKgb2kTe",
        "colab": {
          "base_uri": "https://localhost:8080/"
        },
        "outputId": "8b377248-565c-4ad7-ae83-c881302c1cf6"
      },
      "source": [
        "from google.colab import drive\n",
        "drive.mount('gdrive')"
      ],
      "execution_count": 1,
      "outputs": [
        {
          "output_type": "stream",
          "text": [
            "Mounted at gdrive\n"
          ],
          "name": "stdout"
        }
      ]
    },
    {
      "cell_type": "code",
      "metadata": {
        "id": "Z26503P62nbx",
        "colab": {
          "base_uri": "https://localhost:8080/"
        },
        "outputId": "463ed489-0e3e-4eee-f4aa-71bd36244195"
      },
      "source": [
        "%cd /content/gdrive/My Drive"
      ],
      "execution_count": 2,
      "outputs": [
        {
          "output_type": "stream",
          "text": [
            "/content/gdrive/My Drive\n"
          ],
          "name": "stdout"
        }
      ]
    },
    {
      "cell_type": "code",
      "metadata": {
        "id": "9I4lj-mgDnHk",
        "colab": {
          "base_uri": "https://localhost:8080/"
        },
        "outputId": "47bd570c-0fab-4751-af04-7cd396c07769"
      },
      "source": [
        "! pip install gensim"
      ],
      "execution_count": 3,
      "outputs": [
        {
          "output_type": "stream",
          "text": [
            "Requirement already satisfied: gensim in /usr/local/lib/python3.7/dist-packages (3.6.0)\n",
            "Requirement already satisfied: smart-open>=1.2.1 in /usr/local/lib/python3.7/dist-packages (from gensim) (5.0.0)\n",
            "Requirement already satisfied: six>=1.5.0 in /usr/local/lib/python3.7/dist-packages (from gensim) (1.15.0)\n",
            "Requirement already satisfied: scipy>=0.18.1 in /usr/local/lib/python3.7/dist-packages (from gensim) (1.4.1)\n",
            "Requirement already satisfied: numpy>=1.11.3 in /usr/local/lib/python3.7/dist-packages (from gensim) (1.19.5)\n"
          ],
          "name": "stdout"
        }
      ]
    },
    {
      "cell_type": "code",
      "metadata": {
        "id": "Hd34tOxnHBpk",
        "colab": {
          "base_uri": "https://localhost:8080/"
        },
        "outputId": "de9fedc6-ab37-4b95-f0e4-70debdef9f22"
      },
      "source": [
        "! pip install tensorflow-text tensorflow-hub"
      ],
      "execution_count": 4,
      "outputs": [
        {
          "output_type": "stream",
          "text": [
            "Collecting tensorflow-text\n",
            "\u001b[?25l  Downloading https://files.pythonhosted.org/packages/c0/ed/bbb51e9eccca0c2bfdf9df66e54cdff563b6f32daed9255da9b9a541368f/tensorflow_text-2.5.0-cp37-cp37m-manylinux1_x86_64.whl (4.3MB)\n",
            "\u001b[K     |████████████████████████████████| 4.3MB 6.9MB/s \n",
            "\u001b[?25hRequirement already satisfied: tensorflow-hub in /usr/local/lib/python3.7/dist-packages (0.12.0)\n",
            "Collecting tensorflow<2.6,>=2.5.0\n",
            "\u001b[?25l  Downloading https://files.pythonhosted.org/packages/aa/fd/993aa1333eb54d9f000863fe8ec61e41d12eb833dea51484c76c038718b5/tensorflow-2.5.0-cp37-cp37m-manylinux2010_x86_64.whl (454.3MB)\n",
            "\u001b[K     |████████████████████████████████| 454.3MB 35kB/s \n",
            "\u001b[?25hRequirement already satisfied: numpy>=1.12.0 in /usr/local/lib/python3.7/dist-packages (from tensorflow-hub) (1.19.5)\n",
            "Requirement already satisfied: protobuf>=3.8.0 in /usr/local/lib/python3.7/dist-packages (from tensorflow-hub) (3.12.4)\n",
            "Requirement already satisfied: typing-extensions~=3.7.4 in /usr/local/lib/python3.7/dist-packages (from tensorflow<2.6,>=2.5.0->tensorflow-text) (3.7.4.3)\n",
            "Collecting h5py~=3.1.0\n",
            "\u001b[?25l  Downloading https://files.pythonhosted.org/packages/9d/74/9eae2bedd8201ab464308f42c601a12d79727a1c87f0c867fdefb212c6cf/h5py-3.1.0-cp37-cp37m-manylinux1_x86_64.whl (4.0MB)\n",
            "\u001b[K     |████████████████████████████████| 4.0MB 37.7MB/s \n",
            "\u001b[?25hCollecting keras-nightly~=2.5.0.dev\n",
            "\u001b[?25l  Downloading https://files.pythonhosted.org/packages/aa/e7/53bc896aa4e11a87aac10a625c676b3a3d57d1c8d9929e4809d31fa0b7d5/keras_nightly-2.5.0.dev2021032900-py2.py3-none-any.whl (1.2MB)\n",
            "\u001b[K     |████████████████████████████████| 1.2MB 43.5MB/s \n",
            "\u001b[?25hCollecting tensorboard~=2.5\n",
            "\u001b[?25l  Downloading https://files.pythonhosted.org/packages/44/f5/7feea02a3fb54d5db827ac4b822a7ba8933826b36de21880518250b8733a/tensorboard-2.5.0-py3-none-any.whl (6.0MB)\n",
            "\u001b[K     |████████████████████████████████| 6.0MB 25.1MB/s \n",
            "\u001b[?25hRequirement already satisfied: keras-preprocessing~=1.1.2 in /usr/local/lib/python3.7/dist-packages (from tensorflow<2.6,>=2.5.0->tensorflow-text) (1.1.2)\n",
            "Collecting grpcio~=1.34.0\n",
            "\u001b[?25l  Downloading https://files.pythonhosted.org/packages/d5/d1/f38a91d8724706427fe973a7dfa11e938cee98aa7196b03d870a25a08bab/grpcio-1.34.1-cp37-cp37m-manylinux2014_x86_64.whl (4.0MB)\n",
            "\u001b[K     |████████████████████████████████| 4.0MB 18.9MB/s \n",
            "\u001b[?25hCollecting tensorflow-estimator<2.6.0,>=2.5.0rc0\n",
            "\u001b[?25l  Downloading https://files.pythonhosted.org/packages/ec/78/b27f73e923becc6e79e18fe112cf75e3200d1ee35b0dba8fa46181bce56c/tensorflow_estimator-2.5.0-py2.py3-none-any.whl (462kB)\n",
            "\u001b[K     |████████████████████████████████| 471kB 59.2MB/s \n",
            "\u001b[?25hRequirement already satisfied: google-pasta~=0.2 in /usr/local/lib/python3.7/dist-packages (from tensorflow<2.6,>=2.5.0->tensorflow-text) (0.2.0)\n",
            "Requirement already satisfied: termcolor~=1.1.0 in /usr/local/lib/python3.7/dist-packages (from tensorflow<2.6,>=2.5.0->tensorflow-text) (1.1.0)\n",
            "Requirement already satisfied: absl-py~=0.10 in /usr/local/lib/python3.7/dist-packages (from tensorflow<2.6,>=2.5.0->tensorflow-text) (0.12.0)\n",
            "Requirement already satisfied: astunparse~=1.6.3 in /usr/local/lib/python3.7/dist-packages (from tensorflow<2.6,>=2.5.0->tensorflow-text) (1.6.3)\n",
            "Requirement already satisfied: opt-einsum~=3.3.0 in /usr/local/lib/python3.7/dist-packages (from tensorflow<2.6,>=2.5.0->tensorflow-text) (3.3.0)\n",
            "Requirement already satisfied: six~=1.15.0 in /usr/local/lib/python3.7/dist-packages (from tensorflow<2.6,>=2.5.0->tensorflow-text) (1.15.0)\n",
            "Requirement already satisfied: wrapt~=1.12.1 in /usr/local/lib/python3.7/dist-packages (from tensorflow<2.6,>=2.5.0->tensorflow-text) (1.12.1)\n",
            "Requirement already satisfied: wheel~=0.35 in /usr/local/lib/python3.7/dist-packages (from tensorflow<2.6,>=2.5.0->tensorflow-text) (0.36.2)\n",
            "Requirement already satisfied: flatbuffers~=1.12.0 in /usr/local/lib/python3.7/dist-packages (from tensorflow<2.6,>=2.5.0->tensorflow-text) (1.12)\n",
            "Collecting gast==0.4.0\n",
            "  Downloading https://files.pythonhosted.org/packages/b6/48/583c032b79ae5b3daa02225a675aeb673e58d2cb698e78510feceb11958c/gast-0.4.0-py3-none-any.whl\n",
            "Requirement already satisfied: setuptools in /usr/local/lib/python3.7/dist-packages (from protobuf>=3.8.0->tensorflow-hub) (56.1.0)\n",
            "Collecting cached-property; python_version < \"3.8\"\n",
            "  Downloading https://files.pythonhosted.org/packages/48/19/f2090f7dad41e225c7f2326e4cfe6fff49e57dedb5b53636c9551f86b069/cached_property-1.5.2-py2.py3-none-any.whl\n",
            "Requirement already satisfied: requests<3,>=2.21.0 in /usr/local/lib/python3.7/dist-packages (from tensorboard~=2.5->tensorflow<2.6,>=2.5.0->tensorflow-text) (2.23.0)\n",
            "Requirement already satisfied: werkzeug>=0.11.15 in /usr/local/lib/python3.7/dist-packages (from tensorboard~=2.5->tensorflow<2.6,>=2.5.0->tensorflow-text) (2.0.0)\n",
            "Requirement already satisfied: google-auth-oauthlib<0.5,>=0.4.1 in /usr/local/lib/python3.7/dist-packages (from tensorboard~=2.5->tensorflow<2.6,>=2.5.0->tensorflow-text) (0.4.4)\n",
            "Requirement already satisfied: tensorboard-plugin-wit>=1.6.0 in /usr/local/lib/python3.7/dist-packages (from tensorboard~=2.5->tensorflow<2.6,>=2.5.0->tensorflow-text) (1.8.0)\n",
            "Collecting tensorboard-data-server<0.7.0,>=0.6.0\n",
            "\u001b[?25l  Downloading https://files.pythonhosted.org/packages/60/f9/802efd84988bffd9f644c03b6e66fde8e76c3aa33db4279ddd11c5d61f4b/tensorboard_data_server-0.6.1-py3-none-manylinux2010_x86_64.whl (4.9MB)\n",
            "\u001b[K     |████████████████████████████████| 4.9MB 24.2MB/s \n",
            "\u001b[?25hRequirement already satisfied: google-auth<2,>=1.6.3 in /usr/local/lib/python3.7/dist-packages (from tensorboard~=2.5->tensorflow<2.6,>=2.5.0->tensorflow-text) (1.30.0)\n",
            "Requirement already satisfied: markdown>=2.6.8 in /usr/local/lib/python3.7/dist-packages (from tensorboard~=2.5->tensorflow<2.6,>=2.5.0->tensorflow-text) (3.3.4)\n",
            "Requirement already satisfied: urllib3!=1.25.0,!=1.25.1,<1.26,>=1.21.1 in /usr/local/lib/python3.7/dist-packages (from requests<3,>=2.21.0->tensorboard~=2.5->tensorflow<2.6,>=2.5.0->tensorflow-text) (1.24.3)\n",
            "Requirement already satisfied: idna<3,>=2.5 in /usr/local/lib/python3.7/dist-packages (from requests<3,>=2.21.0->tensorboard~=2.5->tensorflow<2.6,>=2.5.0->tensorflow-text) (2.10)\n",
            "Requirement already satisfied: chardet<4,>=3.0.2 in /usr/local/lib/python3.7/dist-packages (from requests<3,>=2.21.0->tensorboard~=2.5->tensorflow<2.6,>=2.5.0->tensorflow-text) (3.0.4)\n",
            "Requirement already satisfied: certifi>=2017.4.17 in /usr/local/lib/python3.7/dist-packages (from requests<3,>=2.21.0->tensorboard~=2.5->tensorflow<2.6,>=2.5.0->tensorflow-text) (2020.12.5)\n",
            "Requirement already satisfied: requests-oauthlib>=0.7.0 in /usr/local/lib/python3.7/dist-packages (from google-auth-oauthlib<0.5,>=0.4.1->tensorboard~=2.5->tensorflow<2.6,>=2.5.0->tensorflow-text) (1.3.0)\n",
            "Requirement already satisfied: cachetools<5.0,>=2.0.0 in /usr/local/lib/python3.7/dist-packages (from google-auth<2,>=1.6.3->tensorboard~=2.5->tensorflow<2.6,>=2.5.0->tensorflow-text) (4.2.2)\n",
            "Requirement already satisfied: pyasn1-modules>=0.2.1 in /usr/local/lib/python3.7/dist-packages (from google-auth<2,>=1.6.3->tensorboard~=2.5->tensorflow<2.6,>=2.5.0->tensorflow-text) (0.2.8)\n",
            "Requirement already satisfied: rsa<5,>=3.1.4; python_version >= \"3.6\" in /usr/local/lib/python3.7/dist-packages (from google-auth<2,>=1.6.3->tensorboard~=2.5->tensorflow<2.6,>=2.5.0->tensorflow-text) (4.7.2)\n",
            "Requirement already satisfied: importlib-metadata; python_version < \"3.8\" in /usr/local/lib/python3.7/dist-packages (from markdown>=2.6.8->tensorboard~=2.5->tensorflow<2.6,>=2.5.0->tensorflow-text) (4.0.1)\n",
            "Requirement already satisfied: oauthlib>=3.0.0 in /usr/local/lib/python3.7/dist-packages (from requests-oauthlib>=0.7.0->google-auth-oauthlib<0.5,>=0.4.1->tensorboard~=2.5->tensorflow<2.6,>=2.5.0->tensorflow-text) (3.1.0)\n",
            "Requirement already satisfied: pyasn1<0.5.0,>=0.4.6 in /usr/local/lib/python3.7/dist-packages (from pyasn1-modules>=0.2.1->google-auth<2,>=1.6.3->tensorboard~=2.5->tensorflow<2.6,>=2.5.0->tensorflow-text) (0.4.8)\n",
            "Requirement already satisfied: zipp>=0.5 in /usr/local/lib/python3.7/dist-packages (from importlib-metadata; python_version < \"3.8\"->markdown>=2.6.8->tensorboard~=2.5->tensorflow<2.6,>=2.5.0->tensorflow-text) (3.4.1)\n",
            "Installing collected packages: cached-property, h5py, keras-nightly, tensorboard-data-server, grpcio, tensorboard, tensorflow-estimator, gast, tensorflow, tensorflow-text\n",
            "  Found existing installation: h5py 2.10.0\n",
            "    Uninstalling h5py-2.10.0:\n",
            "      Successfully uninstalled h5py-2.10.0\n",
            "  Found existing installation: grpcio 1.32.0\n",
            "    Uninstalling grpcio-1.32.0:\n",
            "      Successfully uninstalled grpcio-1.32.0\n",
            "  Found existing installation: tensorboard 2.4.1\n",
            "    Uninstalling tensorboard-2.4.1:\n",
            "      Successfully uninstalled tensorboard-2.4.1\n",
            "  Found existing installation: tensorflow-estimator 2.4.0\n",
            "    Uninstalling tensorflow-estimator-2.4.0:\n",
            "      Successfully uninstalled tensorflow-estimator-2.4.0\n",
            "  Found existing installation: gast 0.3.3\n",
            "    Uninstalling gast-0.3.3:\n",
            "      Successfully uninstalled gast-0.3.3\n",
            "  Found existing installation: tensorflow 2.4.1\n",
            "    Uninstalling tensorflow-2.4.1:\n",
            "      Successfully uninstalled tensorflow-2.4.1\n",
            "Successfully installed cached-property-1.5.2 gast-0.4.0 grpcio-1.34.1 h5py-3.1.0 keras-nightly-2.5.0.dev2021032900 tensorboard-2.5.0 tensorboard-data-server-0.6.1 tensorflow-2.5.0 tensorflow-estimator-2.5.0 tensorflow-text-2.5.0\n"
          ],
          "name": "stdout"
        }
      ]
    },
    {
      "cell_type": "code",
      "metadata": {
        "id": "afU1mR_vDEhU"
      },
      "source": [
        "import json\n",
        "import pandas as pd\n",
        "import gensim\n",
        "import urllib.request\n",
        "from collections import Counter\n",
        "\n",
        "from tqdm import tqdm\n",
        "from gensim.models import word2vec"
      ],
      "execution_count": 5,
      "outputs": []
    },
    {
      "cell_type": "code",
      "metadata": {
        "id": "wyfB52wfLaZ0"
      },
      "source": [
        "from sklearn.model_selection import train_test_split\n",
        "from tensorflow.keras.preprocessing.sequence import pad_sequences\n",
        "from tensorflow.keras.utils import to_categorical"
      ],
      "execution_count": 6,
      "outputs": []
    },
    {
      "cell_type": "code",
      "metadata": {
        "id": "D0w7niYT7DFa"
      },
      "source": [
        "import warnings\n",
        "warnings.filterwarnings('ignore')"
      ],
      "execution_count": 7,
      "outputs": []
    },
    {
      "cell_type": "code",
      "metadata": {
        "id": "BoEvBQchLfGr"
      },
      "source": [
        "tqdm.pandas()"
      ],
      "execution_count": 8,
      "outputs": []
    },
    {
      "cell_type": "markdown",
      "metadata": {
        "id": "M4TRYDZSHT7P"
      },
      "source": [
        "Данные [framebank](http://nlp.isa.ru/framebank_parser/data/), синтаксическая разметка при помощи SyntaxNet"
      ]
    },
    {
      "cell_type": "code",
      "metadata": {
        "id": "rDG5S6qs3MK2"
      },
      "source": [
        "with open('annotated_corpus_fixed+syntaxnet.json', 'r', encoding='utf-8') as f:\n",
        "    syntax = json.load(f)"
      ],
      "execution_count": null,
      "outputs": []
    },
    {
      "cell_type": "code",
      "metadata": {
        "id": "RX30omnVDMwJ",
        "colab": {
          "base_uri": "https://localhost:8080/"
        },
        "outputId": "1e29f654-9f66-4c59-c1d7-831403184967"
      },
      "source": [
        "length = 0\n",
        "for el in syntax:\n",
        "    length += len(el)\n",
        "print('Количество предложений в корпусе framebank+syntaxnet:', length)"
      ],
      "execution_count": null,
      "outputs": [
        {
          "output_type": "stream",
          "text": [
            "Количество предложений в корпусе framebank+syntaxnet: 322357\n"
          ],
          "name": "stdout"
        }
      ]
    },
    {
      "cell_type": "code",
      "metadata": {
        "colab": {
          "base_uri": "https://localhost:8080/"
        },
        "id": "u2utMYfYGNQu",
        "outputId": "2895420b-4758-428a-84e9-41eec45ccd86"
      },
      "source": [
        "len(syntax.keys())"
      ],
      "execution_count": null,
      "outputs": [
        {
          "output_type": "execute_result",
          "data": {
            "text/plain": [
              "59860"
            ]
          },
          "metadata": {
            "tags": []
          },
          "execution_count": 20
        }
      ]
    },
    {
      "cell_type": "markdown",
      "metadata": {
        "id": "9v53aHLoHz_C"
      },
      "source": [
        "# Создание датафрейма из json-формата Framebank"
      ]
    },
    {
      "cell_type": "code",
      "metadata": {
        "id": "2XCdpXCuWDkG"
      },
      "source": [
        "syntax_df = pd.DataFrame(columns=['ExIndex', 'SentIndex', 'feat', 'feat_p', 'form', 'lemma',\n",
        "                           'link_name', 'parent', 'postag_p', 'rank', 'rolepred1', 'sem', 'sem2'])"
      ],
      "execution_count": null,
      "outputs": []
    },
    {
      "cell_type": "code",
      "metadata": {
        "id": "D_DA-ajnARME"
      },
      "source": [
        "for key in tqdm(list(syntax.keys())):\n",
        "    for i, example in enumerate(syntax[key]):\n",
        "        temp = pd.DataFrame.from_dict(example)\n",
        "        if 'rank' in temp.columns:\n",
        "            temp['ExIndex'] = key\n",
        "            temp['SentIndex'] = i\n",
        "            syntax_df = syntax_df.append(temp)"
      ],
      "execution_count": null,
      "outputs": []
    },
    {
      "cell_type": "code",
      "metadata": {
        "id": "eA0v22Wb_wHK"
      },
      "source": [
        "syntax_df.reset_index(inplace=True)"
      ],
      "execution_count": null,
      "outputs": []
    },
    {
      "cell_type": "markdown",
      "metadata": {
        "id": "jayrS-emIX41"
      },
      "source": [
        "Количество предложений в корпусе framebank с размеченной структурой ролей"
      ]
    },
    {
      "cell_type": "code",
      "metadata": {
        "colab": {
          "base_uri": "https://localhost:8080/"
        },
        "id": "w8U86C12IG5M",
        "outputId": "c98d3ffc-c9c0-4519-a798-ba9ecc5657a4"
      },
      "source": [
        "len(syntax_df['FullIndex'].unique())"
      ],
      "execution_count": null,
      "outputs": [
        {
          "output_type": "execute_result",
          "data": {
            "text/plain": [
              "7952"
            ]
          },
          "metadata": {
            "tags": []
          },
          "execution_count": 8
        }
      ]
    },
    {
      "cell_type": "markdown",
      "metadata": {
        "id": "EKNtmC1uH9SC"
      },
      "source": [
        "Приведение данных к формату корпуса [SynTagRus](https://github.com/UniversalDependencies/UD_Russian-SynTagRus)\n",
        "\n",
        "\n",
        "*   Индексация должна начинаться с 1\n",
        "*   Некоторые признаки избыточны (семантика, синтаксический ранг, fPOS, feat - морфолгические признаки в неудобном формате, индекс предиката)\n",
        "\n",
        "\n",
        "\n"
      ]
    },
    {
      "cell_type": "code",
      "metadata": {
        "id": "wjKOksEqUMZK"
      },
      "source": [
        "syntax_df['index'] += 1"
      ],
      "execution_count": null,
      "outputs": []
    },
    {
      "cell_type": "code",
      "metadata": {
        "id": "Bohx0XW7UeQi"
      },
      "source": [
        "syntax_df['parent'] += 1"
      ],
      "execution_count": null,
      "outputs": []
    },
    {
      "cell_type": "code",
      "metadata": {
        "id": "ZXzuwUbphj73"
      },
      "source": [
        "syntax_df['fillpred'] += 1"
      ],
      "execution_count": null,
      "outputs": []
    },
    {
      "cell_type": "code",
      "metadata": {
        "id": "HBVaDXyneinb"
      },
      "source": [
        "syntax_df['FullIndex'] = syntax_df['ExIndex'] + '_' + syntax_df['SentIndex'].astype('str')"
      ],
      "execution_count": null,
      "outputs": []
    },
    {
      "cell_type": "code",
      "metadata": {
        "id": "KIqoFLTlZu64"
      },
      "source": [
        "syntax_df.drop(['feat', 'sem', 'sem2', 'pred'], axis=1, inplace=True)"
      ],
      "execution_count": null,
      "outputs": []
    },
    {
      "cell_type": "code",
      "metadata": {
        "id": "7aOlidIDEwLy"
      },
      "source": [
        "syntax_df.rename(columns={'postag_p':'POS', 'rolepred1':'Role', 'fillpred':'lemma_pred'}, inplace=True)"
      ],
      "execution_count": null,
      "outputs": []
    },
    {
      "cell_type": "code",
      "metadata": {
        "id": "FNOKGKC8-NPm"
      },
      "source": [
        "syntax_df.to_csv('syntax_df.xlsx', sep='\\t', encoding='utf-8')"
      ],
      "execution_count": null,
      "outputs": []
    },
    {
      "cell_type": "code",
      "metadata": {
        "id": "mCX9qVPrcugE"
      },
      "source": [
        "syntax_df = pd.read_csv('syntax_df.xlsx', delimiter='\\t', index_col=0, encoding='utf-8')"
      ],
      "execution_count": null,
      "outputs": []
    },
    {
      "cell_type": "code",
      "metadata": {
        "colab": {
          "base_uri": "https://localhost:8080/",
          "height": 194
        },
        "id": "VC80olTqIqlT",
        "outputId": "93cb95f9-7c56-473b-f857-68cd3f9bdf5d"
      },
      "source": [
        "syntax_df.head()"
      ],
      "execution_count": null,
      "outputs": [
        {
          "output_type": "execute_result",
          "data": {
            "text/html": [
              "<div>\n",
              "<style scoped>\n",
              "    .dataframe tbody tr th:only-of-type {\n",
              "        vertical-align: middle;\n",
              "    }\n",
              "\n",
              "    .dataframe tbody tr th {\n",
              "        vertical-align: top;\n",
              "    }\n",
              "\n",
              "    .dataframe thead th {\n",
              "        text-align: right;\n",
              "    }\n",
              "</style>\n",
              "<table border=\"1\" class=\"dataframe\">\n",
              "  <thead>\n",
              "    <tr style=\"text-align: right;\">\n",
              "      <th></th>\n",
              "      <th>index</th>\n",
              "      <th>ExIndex</th>\n",
              "      <th>SentIndex</th>\n",
              "      <th>feat_p</th>\n",
              "      <th>form</th>\n",
              "      <th>lemma</th>\n",
              "      <th>link_name</th>\n",
              "      <th>parent</th>\n",
              "      <th>POS</th>\n",
              "      <th>rank</th>\n",
              "      <th>Role</th>\n",
              "      <th>lemma_pred</th>\n",
              "      <th>FullIndex</th>\n",
              "    </tr>\n",
              "  </thead>\n",
              "  <tbody>\n",
              "    <tr>\n",
              "      <th>0</th>\n",
              "      <td>1</td>\n",
              "      <td>106303</td>\n",
              "      <td>3</td>\n",
              "      <td>Degree=Pos|fPOS=ADV++</td>\n",
              "      <td>Уже</td>\n",
              "      <td>уже</td>\n",
              "      <td>advmod</td>\n",
              "      <td>2</td>\n",
              "      <td>ADV</td>\n",
              "      <td>NaN</td>\n",
              "      <td>NaN</td>\n",
              "      <td>NaN</td>\n",
              "      <td>106303_3</td>\n",
              "    </tr>\n",
              "    <tr>\n",
              "      <th>1</th>\n",
              "      <td>2</td>\n",
              "      <td>106303</td>\n",
              "      <td>3</td>\n",
              "      <td>Aspect=Imp|Mood=Imp|Number=Sing|Person=2|VerbF...</td>\n",
              "      <td>май</td>\n",
              "      <td>май</td>\n",
              "      <td>ROOT</td>\n",
              "      <td>0</td>\n",
              "      <td>NOUN</td>\n",
              "      <td>NaN</td>\n",
              "      <td>NaN</td>\n",
              "      <td>NaN</td>\n",
              "      <td>106303_3</td>\n",
              "    </tr>\n",
              "    <tr>\n",
              "      <th>2</th>\n",
              "      <td>3</td>\n",
              "      <td>106303</td>\n",
              "      <td>3</td>\n",
              "      <td>fPOS=PUNCT++,</td>\n",
              "      <td>,</td>\n",
              "      <td>NaN</td>\n",
              "      <td>punct</td>\n",
              "      <td>2</td>\n",
              "      <td>PUNCT</td>\n",
              "      <td>NaN</td>\n",
              "      <td>NaN</td>\n",
              "      <td>NaN</td>\n",
              "      <td>106303_3</td>\n",
              "    </tr>\n",
              "    <tr>\n",
              "      <th>3</th>\n",
              "      <td>4</td>\n",
              "      <td>106303</td>\n",
              "      <td>3</td>\n",
              "      <td>Aspect=Imp|Mood=Ind|Number=Plur|Person=3|Tense...</td>\n",
              "      <td>цветут</td>\n",
              "      <td>цвести</td>\n",
              "      <td>conj</td>\n",
              "      <td>2</td>\n",
              "      <td>VERB</td>\n",
              "      <td>Предикат</td>\n",
              "      <td>NaN</td>\n",
              "      <td>NaN</td>\n",
              "      <td>106303_3</td>\n",
              "    </tr>\n",
              "    <tr>\n",
              "      <th>4</th>\n",
              "      <td>5</td>\n",
              "      <td>106303</td>\n",
              "      <td>3</td>\n",
              "      <td>Case=Nom|Degree=Pos|Number=Plur|fPOS=ADJ++</td>\n",
              "      <td>вишнёвые</td>\n",
              "      <td>вишневый</td>\n",
              "      <td>amod</td>\n",
              "      <td>6</td>\n",
              "      <td>ADJ</td>\n",
              "      <td>NaN</td>\n",
              "      <td>NaN</td>\n",
              "      <td>NaN</td>\n",
              "      <td>106303_3</td>\n",
              "    </tr>\n",
              "  </tbody>\n",
              "</table>\n",
              "</div>"
            ],
            "text/plain": [
              "   index  ExIndex  SentIndex  ... Role lemma_pred FullIndex\n",
              "0      1   106303          3  ...  NaN        NaN  106303_3\n",
              "1      2   106303          3  ...  NaN        NaN  106303_3\n",
              "2      3   106303          3  ...  NaN        NaN  106303_3\n",
              "3      4   106303          3  ...  NaN        NaN  106303_3\n",
              "4      5   106303          3  ...  NaN        NaN  106303_3\n",
              "\n",
              "[5 rows x 13 columns]"
            ]
          },
          "metadata": {
            "tags": []
          },
          "execution_count": 9
        }
      ]
    },
    {
      "cell_type": "code",
      "metadata": {
        "colab": {
          "base_uri": "https://localhost:8080/"
        },
        "id": "NVYKDU3D2oMx",
        "outputId": "92e74c2f-b219-4cac-c65e-b39311bcc1e9"
      },
      "source": [
        "syntax_df.shape"
      ],
      "execution_count": null,
      "outputs": [
        {
          "output_type": "execute_result",
          "data": {
            "text/plain": [
              "(215437, 13)"
            ]
          },
          "metadata": {
            "tags": []
          },
          "execution_count": 10
        }
      ]
    },
    {
      "cell_type": "code",
      "metadata": {
        "id": "zK5reFAM7eT6"
      },
      "source": [
        "def change_feat_p(feats):\n",
        "    if feats.startswith('fPOS'):\n",
        "        return '_'\n",
        "    else:\n",
        "        return feats.split('|fPOS')[0]"
      ],
      "execution_count": null,
      "outputs": []
    },
    {
      "cell_type": "code",
      "metadata": {
        "colab": {
          "base_uri": "https://localhost:8080/"
        },
        "id": "pU5Z12Da8HNS",
        "outputId": "cc232c70-4c2c-444d-ed7d-e4c1bd7655d4"
      },
      "source": [
        "syntax_df['feat_p'] = syntax_df['feat_p'].progress_apply(lambda x: change_feat_p(x))"
      ],
      "execution_count": null,
      "outputs": [
        {
          "output_type": "stream",
          "text": [
            "100%|██████████| 215437/215437 [00:00<00:00, 722724.73it/s]\n"
          ],
          "name": "stderr"
        }
      ]
    },
    {
      "cell_type": "markdown",
      "metadata": {
        "id": "hx9dHUaJIy3O"
      },
      "source": [
        "Будем считать синтаксический ранг \"Предикат\" одной из предсказываемых семантчиеских ролей"
      ]
    },
    {
      "cell_type": "code",
      "metadata": {
        "id": "7hubofD895DJ"
      },
      "source": [
        "for index, row in syntax_df[syntax_df['rank'] == 'Предикат'].iterrows():\n",
        "    syntax_df.loc[index, 'Role'] = 'предикат'"
      ],
      "execution_count": null,
      "outputs": []
    },
    {
      "cell_type": "code",
      "metadata": {
        "id": "IMlaez2FcPzE"
      },
      "source": [
        "syntax_df['lemma'].fillna(syntax_df['form'], inplace=True)"
      ],
      "execution_count": null,
      "outputs": []
    },
    {
      "cell_type": "code",
      "metadata": {
        "id": "IxDmtv4P71d3"
      },
      "source": [
        "syntax_df.drop('rank', axis=1, inplace=True)"
      ],
      "execution_count": null,
      "outputs": []
    },
    {
      "cell_type": "code",
      "metadata": {
        "id": "-4E1ElB7fhtm"
      },
      "source": [
        "syntax_df.replace({'ROOT': 'root', 'CONJ': 'CCONJ'}, inplace=True)"
      ],
      "execution_count": null,
      "outputs": []
    },
    {
      "cell_type": "code",
      "metadata": {
        "id": "QwBLDk87f88W"
      },
      "source": [
        "syntax_df.fillna('_', inplace=True)"
      ],
      "execution_count": null,
      "outputs": []
    },
    {
      "cell_type": "code",
      "metadata": {
        "colab": {
          "base_uri": "https://localhost:8080/",
          "height": 194
        },
        "id": "Mu1mWGWofdz5",
        "outputId": "3350418c-4f6d-446d-b5f3-26de7a17f6b1"
      },
      "source": [
        "syntax_df.head()"
      ],
      "execution_count": null,
      "outputs": [
        {
          "output_type": "execute_result",
          "data": {
            "text/html": [
              "<div>\n",
              "<style scoped>\n",
              "    .dataframe tbody tr th:only-of-type {\n",
              "        vertical-align: middle;\n",
              "    }\n",
              "\n",
              "    .dataframe tbody tr th {\n",
              "        vertical-align: top;\n",
              "    }\n",
              "\n",
              "    .dataframe thead th {\n",
              "        text-align: right;\n",
              "    }\n",
              "</style>\n",
              "<table border=\"1\" class=\"dataframe\">\n",
              "  <thead>\n",
              "    <tr style=\"text-align: right;\">\n",
              "      <th></th>\n",
              "      <th>index</th>\n",
              "      <th>ExIndex</th>\n",
              "      <th>SentIndex</th>\n",
              "      <th>feat_p</th>\n",
              "      <th>form</th>\n",
              "      <th>lemma</th>\n",
              "      <th>link_name</th>\n",
              "      <th>parent</th>\n",
              "      <th>POS</th>\n",
              "      <th>Role</th>\n",
              "      <th>lemma_pred</th>\n",
              "      <th>FullIndex</th>\n",
              "    </tr>\n",
              "  </thead>\n",
              "  <tbody>\n",
              "    <tr>\n",
              "      <th>0</th>\n",
              "      <td>1</td>\n",
              "      <td>106303</td>\n",
              "      <td>3</td>\n",
              "      <td>Degree=Pos</td>\n",
              "      <td>Уже</td>\n",
              "      <td>уже</td>\n",
              "      <td>advmod</td>\n",
              "      <td>2</td>\n",
              "      <td>ADV</td>\n",
              "      <td>_</td>\n",
              "      <td>_</td>\n",
              "      <td>106303_3</td>\n",
              "    </tr>\n",
              "    <tr>\n",
              "      <th>1</th>\n",
              "      <td>2</td>\n",
              "      <td>106303</td>\n",
              "      <td>3</td>\n",
              "      <td>Aspect=Imp|Mood=Imp|Number=Sing|Person=2|VerbF...</td>\n",
              "      <td>май</td>\n",
              "      <td>май</td>\n",
              "      <td>root</td>\n",
              "      <td>0</td>\n",
              "      <td>NOUN</td>\n",
              "      <td>_</td>\n",
              "      <td>_</td>\n",
              "      <td>106303_3</td>\n",
              "    </tr>\n",
              "    <tr>\n",
              "      <th>2</th>\n",
              "      <td>3</td>\n",
              "      <td>106303</td>\n",
              "      <td>3</td>\n",
              "      <td>_</td>\n",
              "      <td>,</td>\n",
              "      <td>,</td>\n",
              "      <td>punct</td>\n",
              "      <td>2</td>\n",
              "      <td>PUNCT</td>\n",
              "      <td>_</td>\n",
              "      <td>_</td>\n",
              "      <td>106303_3</td>\n",
              "    </tr>\n",
              "    <tr>\n",
              "      <th>3</th>\n",
              "      <td>4</td>\n",
              "      <td>106303</td>\n",
              "      <td>3</td>\n",
              "      <td>Aspect=Imp|Mood=Ind|Number=Plur|Person=3|Tense...</td>\n",
              "      <td>цветут</td>\n",
              "      <td>цвести</td>\n",
              "      <td>conj</td>\n",
              "      <td>2</td>\n",
              "      <td>VERB</td>\n",
              "      <td>предикат</td>\n",
              "      <td>_</td>\n",
              "      <td>106303_3</td>\n",
              "    </tr>\n",
              "    <tr>\n",
              "      <th>4</th>\n",
              "      <td>5</td>\n",
              "      <td>106303</td>\n",
              "      <td>3</td>\n",
              "      <td>Case=Nom|Degree=Pos|Number=Plur</td>\n",
              "      <td>вишнёвые</td>\n",
              "      <td>вишневый</td>\n",
              "      <td>amod</td>\n",
              "      <td>6</td>\n",
              "      <td>ADJ</td>\n",
              "      <td>_</td>\n",
              "      <td>_</td>\n",
              "      <td>106303_3</td>\n",
              "    </tr>\n",
              "  </tbody>\n",
              "</table>\n",
              "</div>"
            ],
            "text/plain": [
              "   index  ExIndex  SentIndex  ...      Role lemma_pred FullIndex\n",
              "0      1   106303          3  ...         _          _  106303_3\n",
              "1      2   106303          3  ...         _          _  106303_3\n",
              "2      3   106303          3  ...         _          _  106303_3\n",
              "3      4   106303          3  ...  предикат          _  106303_3\n",
              "4      5   106303          3  ...         _          _  106303_3\n",
              "\n",
              "[5 rows x 12 columns]"
            ]
          },
          "metadata": {
            "tags": []
          },
          "execution_count": 20
        }
      ]
    },
    {
      "cell_type": "markdown",
      "metadata": {
        "id": "Zwf-_tROCFj6"
      },
      "source": [
        "Что может быть предикатом?"
      ]
    },
    {
      "cell_type": "code",
      "metadata": {
        "colab": {
          "base_uri": "https://localhost:8080/"
        },
        "id": "y5xoLDCVLgS8",
        "outputId": "ba53662c-a7a0-4238-aaed-060a89c7b816"
      },
      "source": [
        "predicates = Counter(syntax_df[syntax_df['Role'] == 'предикат']['POS'])\n",
        "[(l,k) for k,l in sorted([(j,i) for i,j in predicates.items()], reverse=True)]"
      ],
      "execution_count": null,
      "outputs": [
        {
          "output_type": "execute_result",
          "data": {
            "text/plain": [
              "[('VERB', 7216),\n",
              " ('NOUN', 79),\n",
              " ('ADJ', 43),\n",
              " ('PART', 5),\n",
              " ('ADV', 5),\n",
              " ('AUX', 4),\n",
              " ('ADP', 4),\n",
              " ('PUNCT', 1)]"
            ]
          },
          "metadata": {
            "tags": []
          },
          "execution_count": 21
        }
      ]
    },
    {
      "cell_type": "markdown",
      "metadata": {
        "id": "aR9RBkR3Juue"
      },
      "source": [
        "Добавляем признаки: лемма и часть речи вершины"
      ]
    },
    {
      "cell_type": "code",
      "metadata": {
        "colab": {
          "base_uri": "https://localhost:8080/"
        },
        "id": "9A9BVQyNgGuQ",
        "outputId": "98785803-c193-4a6e-eb07-617a9ab78465"
      },
      "source": [
        "for index, row in tqdm(syntax_df.iterrows()):\n",
        "    parent = row.parent\n",
        "    fullindex = row.FullIndex\n",
        "    if parent != 0:\n",
        "        value = syntax_df.loc[(syntax_df['FullIndex'] == fullindex) & (syntax_df['index'] == parent)]\n",
        "        syntax_df.loc[index, 'lemma_parent'] = value['lemma'].values[0]\n",
        "        syntax_df.loc[index, 'pos_parent'] = value['POS'].values[0]\n",
        "    else:\n",
        "        syntax_df.loc[index, 'lemma_parent'] = '_'\n",
        "        syntax_df.loc[index, 'pos_parent'] = '_'"
      ],
      "execution_count": null,
      "outputs": [
        {
          "output_type": "stream",
          "text": [
            "215437it [1:02:32, 57.42it/s]\n"
          ],
          "name": "stderr"
        }
      ]
    },
    {
      "cell_type": "markdown",
      "metadata": {
        "id": "qp6IChOhL8H3"
      },
      "source": [
        "Добавляем новый признак - положение зависимого относительно вершины (до/после и на каком расстоянии)"
      ]
    },
    {
      "cell_type": "code",
      "metadata": {
        "id": "jCRZyo3T9ZfJ"
      },
      "source": [
        "def create_parent_index(self_index, parent_index):\n",
        "    if int(parent_index) != 0:\n",
        "        return int(parent_index) - int(self_index)\n",
        "    else:\n",
        "        return 0"
      ],
      "execution_count": null,
      "outputs": []
    },
    {
      "cell_type": "code",
      "metadata": {
        "colab": {
          "base_uri": "https://localhost:8080/"
        },
        "id": "NhTTnLRH9qnz",
        "outputId": "1d4c033d-edd4-4a4d-e505-f8e1fcf01bbd"
      },
      "source": [
        "syntax_df['parent'] = syntax_df[['index', 'parent']].progress_apply(lambda x: create_parent_index(*x), axis=1)"
      ],
      "execution_count": null,
      "outputs": [
        {
          "output_type": "stream",
          "text": [
            "100%|██████████| 215437/215437 [00:02<00:00, 98838.91it/s] \n"
          ],
          "name": "stderr"
        }
      ]
    },
    {
      "cell_type": "code",
      "metadata": {
        "id": "ZHGbP6ugN6eQ"
      },
      "source": [
        "syntax_df.drop(['lemma_pred', 'ExIndex', 'SentIndex', 'form'], axis=1, inplace=True)"
      ],
      "execution_count": null,
      "outputs": []
    },
    {
      "cell_type": "code",
      "metadata": {
        "id": "4BmQlREBGbUE"
      },
      "source": [
        "syntax_df.to_csv('syntax_simple.xlsx', sep='\\t')"
      ],
      "execution_count": null,
      "outputs": []
    },
    {
      "cell_type": "code",
      "metadata": {
        "id": "soD9HmiwX1Ap"
      },
      "source": [
        "syntax_df = pd.read_csv('syntax_simple.xlsx', sep='\\t', index_col=0)"
      ],
      "execution_count": 9,
      "outputs": []
    },
    {
      "cell_type": "code",
      "metadata": {
        "id": "YEsnUF1IN1Xp"
      },
      "source": [
        "x = Counter(syntax_df['Role'])"
      ],
      "execution_count": 10,
      "outputs": []
    },
    {
      "cell_type": "code",
      "metadata": {
        "colab": {
          "base_uri": "https://localhost:8080/"
        },
        "id": "-qIyLCu2PmpK",
        "outputId": "16a9ca59-63f9-4938-ccd0-abcce1502409"
      },
      "source": [
        "[(l,k) for k,l in sorted([(j,i) for i,j in x.items()], reverse=True)][:10]"
      ],
      "execution_count": 11,
      "outputs": [
        {
          "output_type": "execute_result",
          "data": {
            "text/plain": [
              "[('_', 193988),\n",
              " ('предикат', 7357),\n",
              " ('агенс', 1441),\n",
              " ('пациенс', 1266),\n",
              " ('тема', 971),\n",
              " ('субъект психологического состояния', 677),\n",
              " ('субъект перемещения', 659),\n",
              " ('говорящий', 573),\n",
              " ('причина', 567),\n",
              " ('содержание высказывания', 521)]"
            ]
          },
          "metadata": {
            "tags": []
          },
          "execution_count": 11
        }
      ]
    },
    {
      "cell_type": "code",
      "metadata": {
        "colab": {
          "base_uri": "https://localhost:8080/"
        },
        "id": "JrmvhwXcCdrb",
        "outputId": "fe29c7bd-0538-406f-f120-b0d8e774e69a"
      },
      "source": [
        "[(l,k) for k,l in sorted([(j,i) for i,j in x.items()], reverse=True)][-10:]"
      ],
      "execution_count": 12,
      "outputs": [
        {
          "output_type": "execute_result",
          "data": {
            "text/plain": [
              "[('источник звука - пациенс', 1),\n",
              " ('значение параметра - начальная точка', 1),\n",
              " ('значение параметра - конечная точка', 1),\n",
              " ('запах метаф.', 1),\n",
              " ('заместитель', 1),\n",
              " ('говорящий - субъект физиологической реакции', 1),\n",
              " ('говорящий - субъект ментального состояния', 1),\n",
              " ('агенс / субъект ментального состояния', 1),\n",
              " ('агенс - конечный посессор', 1),\n",
              " ('агенс - говорящий', 1)]"
            ]
          },
          "metadata": {
            "tags": []
          },
          "execution_count": 12
        }
      ]
    },
    {
      "cell_type": "markdown",
      "metadata": {
        "id": "vqLPzYdEGSk-"
      },
      "source": [
        "Удаляем редкие роли (< 20 примеров)"
      ]
    },
    {
      "cell_type": "code",
      "metadata": {
        "colab": {
          "base_uri": "https://localhost:8080/"
        },
        "id": "HvxWMAGpRK-o",
        "outputId": "1c45e33e-6bfd-4476-c088-fcc489b22abd"
      },
      "source": [
        "for index, row in tqdm(syntax_df.iterrows()):\n",
        "    if x[row['Role']] < 20:\n",
        "        syntax_df.at[index, 'Role'] = '_'"
      ],
      "execution_count": 13,
      "outputs": [
        {
          "output_type": "stream",
          "text": [
            "215437it [00:17, 12631.92it/s]\n"
          ],
          "name": "stderr"
        }
      ]
    },
    {
      "cell_type": "code",
      "metadata": {
        "colab": {
          "base_uri": "https://localhost:8080/"
        },
        "id": "4qHd5D0H3kZP",
        "outputId": "9527b4c9-f2a9-487a-d972-4c36b119da23"
      },
      "source": [
        "len(syntax_df[syntax_df['Role'] == 'предикат']['lemma'].unique())"
      ],
      "execution_count": 14,
      "outputs": [
        {
          "output_type": "execute_result",
          "data": {
            "text/plain": [
              "609"
            ]
          },
          "metadata": {
            "tags": []
          },
          "execution_count": 14
        }
      ]
    },
    {
      "cell_type": "markdown",
      "metadata": {
        "id": "wH9h1FcXmQz4"
      },
      "source": [
        "# Словари для кодирования признаков"
      ]
    },
    {
      "cell_type": "code",
      "metadata": {
        "id": "2RVkRerz0zRd"
      },
      "source": [
        "syntax_df['lemma'] = syntax_df['lemma'].astype('str')"
      ],
      "execution_count": 15,
      "outputs": []
    },
    {
      "cell_type": "code",
      "metadata": {
        "id": "bMQU_kQNuPtk"
      },
      "source": [
        "groups = syntax_df.groupby('FullIndex').indices"
      ],
      "execution_count": 16,
      "outputs": []
    },
    {
      "cell_type": "code",
      "metadata": {
        "colab": {
          "base_uri": "https://localhost:8080/",
          "height": 283
        },
        "id": "LjGYBIDfqkkt",
        "outputId": "519de4f1-8851-4cfb-9cfb-ecaf5ee1b965"
      },
      "source": [
        "syntax_df['FullIndex'].value_counts().plot(kind='hist')"
      ],
      "execution_count": 17,
      "outputs": [
        {
          "output_type": "execute_result",
          "data": {
            "text/plain": [
              "<matplotlib.axes._subplots.AxesSubplot at 0x7f421cbf0c10>"
            ]
          },
          "metadata": {
            "tags": []
          },
          "execution_count": 17
        },
        {
          "output_type": "display_data",
          "data": {
            "image/png": "[encoded data removed]",
            "text/plain": [
              "<Figure size 432x288 with 1 Axes>"
            ]
          },
          "metadata": {
            "tags": [],
            "needs_background": "light"
          }
        }
      ]
    },
    {
      "cell_type": "markdown",
      "metadata": {
        "id": "xw0az7spKlXS"
      },
      "source": [
        "**Максимальную длину последовательности** берём из данных **SynTagRus**, которые позднее будут использованы в качестве тестовых"
      ]
    },
    {
      "cell_type": "code",
      "metadata": {
        "id": "WpdgIGHnohPv"
      },
      "source": [
        "sent_max_len = 123"
      ],
      "execution_count": 18,
      "outputs": []
    },
    {
      "cell_type": "markdown",
      "metadata": {
        "id": "yK-r7PcjK1w3"
      },
      "source": [
        "Удаляем из выборки предложения, которые превышают максимальную длину"
      ]
    },
    {
      "cell_type": "code",
      "metadata": {
        "id": "-yIx7TJ5rTXU"
      },
      "source": [
        "for full_index in groups.keys():\n",
        "    if len(syntax_df[syntax_df.FullIndex == full_index]) > sent_max_len:\n",
        "        syntax_df.drop(syntax_df[syntax_df.FullIndex == full_index].index, inplace=True)"
      ],
      "execution_count": 19,
      "outputs": []
    },
    {
      "cell_type": "code",
      "metadata": {
        "colab": {
          "base_uri": "https://localhost:8080/",
          "height": 283
        },
        "id": "XTY2GxXjtsBj",
        "outputId": "5413314d-c55b-434a-950e-33b16696b651"
      },
      "source": [
        "syntax_df['FullIndex'].value_counts().plot(kind='hist')"
      ],
      "execution_count": 20,
      "outputs": [
        {
          "output_type": "execute_result",
          "data": {
            "text/plain": [
              "<matplotlib.axes._subplots.AxesSubplot at 0x7f421cb53ed0>"
            ]
          },
          "metadata": {
            "tags": []
          },
          "execution_count": 20
        },
        {
          "output_type": "display_data",
          "data": {
            "image/png": "[encoded data removed]",
            "text/plain": [
              "<Figure size 432x288 with 1 Axes>"
            ]
          },
          "metadata": {
            "tags": [],
            "needs_background": "light"
          }
        }
      ]
    },
    {
      "cell_type": "code",
      "metadata": {
        "colab": {
          "base_uri": "https://localhost:8080/"
        },
        "id": "tlzI0bb0UloT",
        "outputId": "192959a6-6d55-49d0-c2dd-59251a4345e1"
      },
      "source": [
        "len(syntax_df['FullIndex'].unique())"
      ],
      "execution_count": 21,
      "outputs": [
        {
          "output_type": "execute_result",
          "data": {
            "text/plain": [
              "7872"
            ]
          },
          "metadata": {
            "tags": []
          },
          "execution_count": 21
        }
      ]
    },
    {
      "cell_type": "markdown",
      "metadata": {
        "id": "fGtgkV91LAJN"
      },
      "source": [
        "Делим данные корпуса framebank на обучающую, валидационную и тестовую выборки"
      ]
    },
    {
      "cell_type": "code",
      "metadata": {
        "id": "rTZywHf9uFM0"
      },
      "source": [
        "train_index, test_index = train_test_split(list(groups.keys()), test_size=0.2, random_state=123)"
      ],
      "execution_count": 22,
      "outputs": []
    },
    {
      "cell_type": "code",
      "metadata": {
        "id": "qmoksAodRhL1"
      },
      "source": [
        "train_index, val_index = train_test_split(train_index, test_size=0.25, random_state=123)"
      ],
      "execution_count": 23,
      "outputs": []
    },
    {
      "cell_type": "code",
      "metadata": {
        "colab": {
          "base_uri": "https://localhost:8080/"
        },
        "id": "MChwyQ7TR5da",
        "outputId": "5acbbd90-2531-4906-be47-56ab3bc994a7"
      },
      "source": [
        "len(train_index), len(val_index), len(test_index)"
      ],
      "execution_count": 24,
      "outputs": [
        {
          "output_type": "execute_result",
          "data": {
            "text/plain": [
              "(4770, 1591, 1591)"
            ]
          },
          "metadata": {
            "tags": []
          },
          "execution_count": 24
        }
      ]
    },
    {
      "cell_type": "markdown",
      "metadata": {
        "id": "wqCFhl9nLPh0"
      },
      "source": [
        "Словарь лемм"
      ]
    },
    {
      "cell_type": "code",
      "metadata": {
        "id": "Iylr9EIzm06u"
      },
      "source": [
        "vocab = Counter()\n",
        "for full_index in train_index:\n",
        "    start = groups[full_index][0]\n",
        "    end = groups[full_index][-1]\n",
        "    vocab.update(syntax_df.lemma[start:end+1])"
      ],
      "execution_count": 25,
      "outputs": []
    },
    {
      "cell_type": "code",
      "metadata": {
        "id": "ojxxkreinbma"
      },
      "source": [
        "word2id = {'unk':1, 'pad':0}\n",
        "\n",
        "for word in vocab:\n",
        "    word2id[word] = len(word2id)"
      ],
      "execution_count": 26,
      "outputs": []
    },
    {
      "cell_type": "code",
      "metadata": {
        "id": "NFj7c6VZoQS6"
      },
      "source": [
        "id2word = {i:word for word, i in word2id.items()}"
      ],
      "execution_count": 27,
      "outputs": []
    },
    {
      "cell_type": "markdown",
      "metadata": {
        "id": "lnOHbQFnLjI8"
      },
      "source": [
        "Части речи"
      ]
    },
    {
      "cell_type": "code",
      "metadata": {
        "id": "hA8TgDewq1Sh"
      },
      "source": [
        "pos2id = {'pad':0, 'unk':1}  \n",
        "for full_index in train_index:\n",
        "    start = groups[full_index][0]\n",
        "    end = groups[full_index][-1]\n",
        "    tags = syntax_df.POS[start:end+1]\n",
        "    for tag in tags:\n",
        "      if tag not in pos2id:\n",
        "        pos2id[tag] = len(pos2id)\n",
        "\n",
        "id2pos = {i:tag for tag, i in pos2id.items()}"
      ],
      "execution_count": 28,
      "outputs": []
    },
    {
      "cell_type": "markdown",
      "metadata": {
        "id": "sOVP6eGLLuNl"
      },
      "source": [
        "Синтаксическая информация"
      ]
    },
    {
      "cell_type": "code",
      "metadata": {
        "id": "qDhL2ixUrlFv"
      },
      "source": [
        "rank2id = {'pad':0, 'unk':1}  \n",
        "for full_index in train_index:\n",
        "    start = groups[full_index][0]\n",
        "    end = groups[full_index][-1]\n",
        "    tags = syntax_df.link_name[start:end+1]\n",
        "    for tag in tags:\n",
        "      if tag not in rank2id:\n",
        "        rank2id[tag] = len(rank2id)\n",
        "\n",
        "id2rank = {i:tag for tag, i in rank2id.items()}"
      ],
      "execution_count": 29,
      "outputs": []
    },
    {
      "cell_type": "markdown",
      "metadata": {
        "id": "kCbE6XibL1z2"
      },
      "source": [
        "Морфологические признаки"
      ]
    },
    {
      "cell_type": "code",
      "metadata": {
        "id": "haL7J8vZBEnC"
      },
      "source": [
        "morph2id = {'pad':0, 'unk':1}  \n",
        "for full_index in train_index:\n",
        "    start = groups[full_index][0]\n",
        "    end = groups[full_index][-1]\n",
        "    tags = syntax_df.feat_p[start:end+1]\n",
        "    for tag in tags:\n",
        "      if tag not in morph2id:\n",
        "        morph2id[tag] = len(morph2id)\n",
        "\n",
        "id2morph = {i:tag for tag, i in morph2id.items()}"
      ],
      "execution_count": 30,
      "outputs": []
    },
    {
      "cell_type": "markdown",
      "metadata": {
        "id": "Y1UNH8XwL3wm"
      },
      "source": [
        "Расположение относительно вершины"
      ]
    },
    {
      "cell_type": "code",
      "metadata": {
        "id": "oeoK12x4BjL_"
      },
      "source": [
        "rel2id = {'pad':0, 'unk':1}  \n",
        "for full_index in train_index:\n",
        "    start = groups[full_index][0]\n",
        "    end = groups[full_index][-1]\n",
        "    tags = syntax_df.parent[start:end+1]\n",
        "    for tag in tags:\n",
        "      if tag not in rel2id:\n",
        "        rel2id[tag] = len(rel2id)\n",
        "\n",
        "id2rel = {i:tag for tag, i in rel2id.items()}"
      ],
      "execution_count": 31,
      "outputs": []
    },
    {
      "cell_type": "markdown",
      "metadata": {
        "id": "LDUu9KeDLyPn"
      },
      "source": [
        "Целевая переменная - семантическая роль"
      ]
    },
    {
      "cell_type": "code",
      "metadata": {
        "id": "wcUm3eCos6Ql"
      },
      "source": [
        "role2id = {'pad':0, 'unk':1}  \n",
        "for full_index in train_index:\n",
        "    start = groups[full_index][0]\n",
        "    end = groups[full_index][-1]\n",
        "    tags = syntax_df.Role[start:end+1]\n",
        "    for tag in tags:\n",
        "      if tag not in role2id:\n",
        "        role2id[tag] = len(role2id)\n",
        "\n",
        "id2role = {i:tag for tag, i in role2id.items()}"
      ],
      "execution_count": 32,
      "outputs": []
    },
    {
      "cell_type": "code",
      "metadata": {
        "id": "0Bi23AdoyvYI"
      },
      "source": [
        "def data2ints(train_or_test_index, column, smth2id):\n",
        "    int_data = []\n",
        "    for full_index in train_or_test_index:\n",
        "        start = groups[full_index][0]\n",
        "        end = groups[full_index][-1]\n",
        "        seq = column[start:end+1]\n",
        "        int_seq = []\n",
        "        for i in seq:\n",
        "          int_seq.append(smth2id.get(i, 1))\n",
        "  \n",
        "        int_data.append(int_seq)\n",
        "    return int_data"
      ],
      "execution_count": 33,
      "outputs": []
    },
    {
      "cell_type": "code",
      "metadata": {
        "id": "ic32Mv0Yz0j1"
      },
      "source": [
        "X_train_sent_ids, X_val_sent_ids, X_test_sent_ids = data2ints(train_index, syntax_df.lemma, word2id),data2ints(val_index, syntax_df.lemma, word2id), data2ints(test_index, syntax_df.lemma, word2id)\n",
        "X_train_pos_ids, X_val_pos_ids, X_test_pos_ids = data2ints(train_index, syntax_df.POS, pos2id), data2ints(val_index, syntax_df.POS, pos2id), data2ints(test_index, syntax_df.POS, pos2id)\n",
        "X_train_rank_ids, X_val_rank_ids, X_test_rank_ids = data2ints(train_index, syntax_df.link_name, rank2id), data2ints(val_index, syntax_df.link_name, rank2id), data2ints(test_index, syntax_df.link_name, rank2id)\n",
        "X_train_morph_ids, X_val_morph_ids, X_test_morph_ids = data2ints(train_index, syntax_df.feat_p, morph2id), data2ints(val_index, syntax_df.feat_p, morph2id), data2ints(test_index, syntax_df.feat_p, morph2id)\n",
        "X_train_rel_ids, X_val_rel_ids, X_test_rel_ids = data2ints(train_index, syntax_df.parent, rel2id), data2ints(val_index, syntax_df.parent, rel2id), data2ints(test_index, syntax_df.parent, rel2id)\n",
        "X_train_head_ids, X_val_head_ids, X_test_head_ids = data2ints(train_index, syntax_df.lemma_parent, word2id), data2ints(val_index, syntax_df.lemma_parent, word2id), data2ints(test_index, syntax_df.lemma_parent, word2id)\n",
        "X_train_headpos_ids, X_val_headpos_ids, X_test_headpos_ids = data2ints(train_index, syntax_df.pos_parent, pos2id), data2ints(val_index, syntax_df.pos_parent, pos2id), data2ints(test_index, syntax_df.pos_parent, pos2id)\n",
        "\n",
        "y_train_ids, y_val_ids, y_test_ids = data2ints(train_index, syntax_df.Role, role2id), data2ints(val_index, syntax_df.Role, role2id), data2ints(test_index, syntax_df.Role, role2id)"
      ],
      "execution_count": 34,
      "outputs": []
    },
    {
      "cell_type": "code",
      "metadata": {
        "colab": {
          "base_uri": "https://localhost:8080/"
        },
        "id": "UGmg0mrq1A6L",
        "outputId": "cd5d5d2b-e1fa-40ef-b411-83c6fe060fed"
      },
      "source": [
        "print(\"максимальная длина предложения:\", sent_max_len)"
      ],
      "execution_count": 35,
      "outputs": [
        {
          "output_type": "stream",
          "text": [
            "максимальная длина предложения: 123\n"
          ],
          "name": "stdout"
        }
      ]
    },
    {
      "cell_type": "markdown",
      "metadata": {
        "id": "e6iOdfMOMn--"
      },
      "source": [
        "Добавляем паддинг"
      ]
    },
    {
      "cell_type": "code",
      "metadata": {
        "id": "lVUz1zvm1eTJ"
      },
      "source": [
        "X_train_sent, X_val_sent, X_test_sent = pad_sequences(X_train_sent_ids, maxlen=sent_max_len, padding='post'), pad_sequences(X_val_sent_ids, maxlen=sent_max_len, padding='post'), pad_sequences(X_test_sent_ids, maxlen=sent_max_len, padding='post')\n",
        "X_train_pos, X_val_pos, X_test_pos = pad_sequences(X_train_pos_ids, maxlen=sent_max_len, padding='post'), pad_sequences(X_val_pos_ids, maxlen=sent_max_len, padding='post'), pad_sequences(X_test_pos_ids, maxlen=sent_max_len, padding='post')\n",
        "X_train_rank, X_val_rank, X_test_rank = pad_sequences(X_train_rank_ids, maxlen=sent_max_len, padding='post'), pad_sequences(X_val_rank_ids, maxlen=sent_max_len, padding='post'), pad_sequences(X_test_rank_ids, maxlen=sent_max_len, padding='post')\n",
        "X_train_morph, X_val_morph, X_test_morph = pad_sequences(X_train_morph_ids, maxlen=sent_max_len, padding='post'), pad_sequences(X_val_morph_ids, maxlen=sent_max_len, padding='post'), pad_sequences(X_test_morph_ids, maxlen=sent_max_len, padding='post')\n",
        "X_train_rel, X_val_rel, X_test_rel = pad_sequences(X_train_rel_ids, maxlen=sent_max_len, padding='post'), pad_sequences(X_val_rel_ids, maxlen=sent_max_len, padding='post'), pad_sequences(X_test_rel_ids, maxlen=sent_max_len, padding='post')\n",
        "X_train_head, X_val_head, X_test_head = pad_sequences(X_train_head_ids, maxlen=sent_max_len, padding='post'), pad_sequences(X_val_head_ids, maxlen=sent_max_len, padding='post'), pad_sequences(X_test_head_ids, maxlen=sent_max_len, padding='post')\n",
        "X_train_headpos, X_val_headpos, X_test_headpos = pad_sequences(X_train_headpos_ids, maxlen=sent_max_len, padding='post'), pad_sequences(X_val_headpos_ids, maxlen=sent_max_len, padding='post'), pad_sequences(X_test_headpos_ids, maxlen=sent_max_len, padding='post')\n",
        "\n",
        "y_train, y_val, y_test = pad_sequences(y_train_ids, maxlen=sent_max_len, padding='post'), pad_sequences(y_val_ids, maxlen=sent_max_len, padding='post'), pad_sequences(y_test_ids, maxlen=sent_max_len, padding='post')"
      ],
      "execution_count": 36,
      "outputs": []
    },
    {
      "cell_type": "code",
      "metadata": {
        "colab": {
          "base_uri": "https://localhost:8080/"
        },
        "id": "-4OvVXCk2SnP",
        "outputId": "bc3077f2-6afe-408f-fc94-52cbe13f7677"
      },
      "source": [
        "print(X_train_sent.shape, y_train.shape, X_val_sent.shape, y_val.shape, X_test_sent.shape, y_test.shape)"
      ],
      "execution_count": 37,
      "outputs": [
        {
          "output_type": "stream",
          "text": [
            "(4770, 123) (4770, 123) (1591, 123) (1591, 123) (1591, 123) (1591, 123)\n"
          ],
          "name": "stdout"
        }
      ]
    },
    {
      "cell_type": "code",
      "metadata": {
        "id": "LzFA-Oav2hgJ"
      },
      "source": [
        "y_train, y_val, y_test = to_categorical(y_train, num_classes=len(role2id)), to_categorical(y_val, num_classes=len(role2id)), to_categorical(y_test, num_classes=len(role2id))"
      ],
      "execution_count": 38,
      "outputs": []
    },
    {
      "cell_type": "code",
      "metadata": {
        "colab": {
          "base_uri": "https://localhost:8080/"
        },
        "id": "SrZ949Ft2rkb",
        "outputId": "966735be-918a-4ad3-8bba-3b2362e48f45"
      },
      "source": [
        "y_train.shape"
      ],
      "execution_count": 39,
      "outputs": [
        {
          "output_type": "execute_result",
          "data": {
            "text/plain": [
              "(4770, 123, 71)"
            ]
          },
          "metadata": {
            "tags": []
          },
          "execution_count": 39
        }
      ]
    },
    {
      "cell_type": "markdown",
      "metadata": {
        "id": "Y4eEi8pCMyCj"
      },
      "source": [
        "Матрица весов для эмбеддинг-слоя"
      ]
    },
    {
      "cell_type": "markdown",
      "metadata": {
        "id": "6qOH1CmUTD92"
      },
      "source": [
        "### Предобученная модель 1\n",
        "ruwikiruscorpora_upos_skipgram_300_2_2019\t608 Мбайт\tНКРЯ и Википедия за декабрь 2018\t788 миллионов слов\t248 978\t5 (потолок словаря 250К)\tUniversal Tags\tContinuous Skipgram\t300"
      ]
    },
    {
      "cell_type": "code",
      "metadata": {
        "colab": {
          "base_uri": "https://localhost:8080/"
        },
        "id": "l1QoJAMbzwyw",
        "outputId": "b36252af-3fe0-4141-f36f-ec9b9c81c76f"
      },
      "source": [
        "urllib.request.urlretrieve(\"http://vectors.nlpl.eu/repository/20/182.zip\", \"182.zip\")"
      ],
      "execution_count": null,
      "outputs": [
        {
          "output_type": "execute_result",
          "data": {
            "text/plain": [
              "('182.zip', <http.client.HTTPMessage at 0x7faf485f2b50>)"
            ]
          },
          "metadata": {
            "tags": []
          },
          "execution_count": 9
        }
      ]
    },
    {
      "cell_type": "code",
      "metadata": {
        "id": "9t5j2LbNDafg"
      },
      "source": [
        "! unzip 182.zip"
      ],
      "execution_count": null,
      "outputs": []
    },
    {
      "cell_type": "code",
      "metadata": {
        "id": "QsWEgr3BWlUD"
      },
      "source": [
        "m = 'model.bin'\n",
        "\n",
        "model_gensim_1 = gensim.models.KeyedVectors.load_word2vec_format(m, binary=True)"
      ],
      "execution_count": 40,
      "outputs": []
    },
    {
      "cell_type": "markdown",
      "metadata": {
        "id": "bJMTF51iTNGm"
      },
      "source": [
        "### Предобученная модель 2\n",
        "news_upos_skipgram_300_5_2019\t611 Мбайт\tРусскоязычные новости\t2.6 миллиарда слов\t249 318\t5 (потолок словаря 250К)\tUniversal Tags\tContinuous Skipgram\t300"
      ]
    },
    {
      "cell_type": "code",
      "metadata": {
        "colab": {
          "base_uri": "https://localhost:8080/"
        },
        "id": "Z1bbCHktURRp",
        "outputId": "866813e5-3784-44be-a9f0-26840d584523"
      },
      "source": [
        "urllib.request.urlretrieve(\"http://vectors.nlpl.eu/repository/20/184.zip\", \"184.zip\")"
      ],
      "execution_count": null,
      "outputs": [
        {
          "output_type": "execute_result",
          "data": {
            "text/plain": [
              "('184.zip', <http.client.HTTPMessage at 0x7faefcf0afd0>)"
            ]
          },
          "metadata": {
            "tags": []
          },
          "execution_count": 12
        }
      ]
    },
    {
      "cell_type": "code",
      "metadata": {
        "id": "vFYikK0VUjap"
      },
      "source": [
        "! unzip 184.zip"
      ],
      "execution_count": null,
      "outputs": []
    },
    {
      "cell_type": "code",
      "metadata": {
        "id": "hs0aBVa_Ujaq"
      },
      "source": [
        "m = 'model_2.bin'\n",
        "\n",
        "model_gensim_2 = gensim.models.KeyedVectors.load_word2vec_format(m, binary=True)"
      ],
      "execution_count": 41,
      "outputs": []
    },
    {
      "cell_type": "markdown",
      "metadata": {
        "id": "5bDBcw-covUk"
      },
      "source": [
        "### Предобученная модель 3"
      ]
    },
    {
      "cell_type": "code",
      "metadata": {
        "id": "ixOo3FClHPP6",
        "colab": {
          "base_uri": "https://localhost:8080/"
        },
        "outputId": "0de63a06-d743-42df-a4bc-75ef2a34c737"
      },
      "source": [
        "import tensorflow as tf\n",
        "import tensorflow_text\n",
        "import tensorflow_hub as hub\n",
        "\n",
        "module_url = \"https://tfhub.dev/google/universal-sentence-encoder-multilingual/3\"\n",
        "use_model = hub.load(module_url)\n",
        "print(\"module %s loaded\" % module_url)"
      ],
      "execution_count": 42,
      "outputs": [
        {
          "output_type": "stream",
          "text": [
            "module https://tfhub.dev/google/universal-sentence-encoder-multilingual/3 loaded\n"
          ],
          "name": "stdout"
        }
      ]
    },
    {
      "cell_type": "code",
      "metadata": {
        "id": "-rbDEP13HTgN"
      },
      "source": [
        "import numpy as np\n",
        "import tqdm.notebook as tq\n",
        "\n",
        "\n",
        "def use_get_embedding(text, model):\n",
        "    return model([text]).numpy()[0]\n",
        "\n",
        "def use_records_to_embeds(list_text, model):\n",
        "    embeddings = np.zeros((len(list_text), 512))\n",
        "    for i in tq.tqdm(range(len(list_text))):\n",
        "        embeddings[i] = use_get_embedding(list_text[i], model)\n",
        "    return embeddings"
      ],
      "execution_count": 43,
      "outputs": []
    },
    {
      "cell_type": "code",
      "metadata": {
        "id": "WgnoFdvu313H"
      },
      "source": [
        "lemma_pos = dict(zip(syntax_df['lemma'], syntax_df['POS']))"
      ],
      "execution_count": 44,
      "outputs": []
    },
    {
      "cell_type": "code",
      "metadata": {
        "id": "jfsjFn7-5IoI"
      },
      "source": [
        "import numpy as np"
      ],
      "execution_count": 45,
      "outputs": []
    },
    {
      "cell_type": "code",
      "metadata": {
        "id": "WxEjVVpqeLED"
      },
      "source": [
        "def create_weights_w2v(vocab, model_gensim, dict_of_forms):\n",
        "    weights = []\n",
        "    not_found = 0\n",
        "    for word in vocab.values():\n",
        "        if word != 'unk' and word != 'pad':\n",
        "            norm_pos = str(word) + '_' + dict_of_forms[word]\n",
        "            if norm_pos in model_gensim:\n",
        "                weights.append(model_gensim[norm_pos])\n",
        "            else:\n",
        "                not_found += 1\n",
        "                weights.append(np.zeros(model_gensim.vector_size))\n",
        "        else:\n",
        "            weights.append(np.zeros(model_gensim.vector_size))\n",
        "    print(\"Не найдено в модели:\", not_found)\n",
        "    return np.asarray(weights)"
      ],
      "execution_count": 46,
      "outputs": []
    },
    {
      "cell_type": "code",
      "metadata": {
        "id": "DfKQ2c-D3YQ9",
        "colab": {
          "base_uri": "https://localhost:8080/"
        },
        "outputId": "090296e8-0796-42d6-c444-4c7f234061b5"
      },
      "source": [
        "weights = create_weights_w2v(id2word, model_gensim_1, lemma_pos)"
      ],
      "execution_count": 47,
      "outputs": [
        {
          "output_type": "stream",
          "text": [
            "Не найдено в модели: 3450\n"
          ],
          "name": "stdout"
        }
      ]
    },
    {
      "cell_type": "code",
      "metadata": {
        "id": "YbJReCVEaJiN",
        "colab": {
          "base_uri": "https://localhost:8080/"
        },
        "outputId": "f93561a2-c6be-4c5c-fe62-9e51e06af2f4"
      },
      "source": [
        "weights_2 = create_weights_w2v(id2word, model_gensim_2, lemma_pos)"
      ],
      "execution_count": 48,
      "outputs": [
        {
          "output_type": "stream",
          "text": [
            "Не найдено в модели: 4340\n"
          ],
          "name": "stdout"
        }
      ]
    },
    {
      "cell_type": "code",
      "metadata": {
        "colab": {
          "base_uri": "https://localhost:8080/",
          "height": 67,
          "referenced_widgets": [
            "107799ee56b349818c2d3f911c544229",
            "5b0a506f34ac49cb90b7b7b9198c7487",
            "7b8fb18e3a3640fab5655902bd68dc3f",
            "14e90582db2b4d04ab5f5a60ea805698",
            "d207330def5b423b836777cd2d932d6f",
            "c799dd76c65846629c5a74d1d8b0e156",
            "7caebb069a934bcabd48448903e33f25",
            "8c8064aa8dac4203854fab832ee354af"
          ]
        },
        "id": "fdy5-yY0NqZH",
        "outputId": "dd7b5a3d-dc01-44bf-ebf9-ae7862c8f4b7"
      },
      "source": [
        "weights_3 = use_records_to_embeds([word for word in id2word.values()], use_model)"
      ],
      "execution_count": 49,
      "outputs": [
        {
          "output_type": "display_data",
          "data": {
            "application/vnd.jupyter.widget-view+json": {
              "model_id": "107799ee56b349818c2d3f911c544229",
              "version_minor": 0,
              "version_major": 2
            },
            "text/plain": [
              "HBox(children=(FloatProgress(value=0.0, max=17257.0), HTML(value='')))"
            ]
          },
          "metadata": {
            "tags": []
          }
        },
        {
          "output_type": "stream",
          "text": [
            "\n"
          ],
          "name": "stdout"
        }
      ]
    },
    {
      "cell_type": "code",
      "metadata": {
        "colab": {
          "base_uri": "https://localhost:8080/",
          "height": 194
        },
        "id": "Nx53RgMrIlLa",
        "outputId": "1a65032c-d71a-44e0-e321-4148daf77193"
      },
      "source": [
        "syntax_df.head()"
      ],
      "execution_count": 50,
      "outputs": [
        {
          "output_type": "execute_result",
          "data": {
            "text/html": [
              "<div>\n",
              "<style scoped>\n",
              "    .dataframe tbody tr th:only-of-type {\n",
              "        vertical-align: middle;\n",
              "    }\n",
              "\n",
              "    .dataframe tbody tr th {\n",
              "        vertical-align: top;\n",
              "    }\n",
              "\n",
              "    .dataframe thead th {\n",
              "        text-align: right;\n",
              "    }\n",
              "</style>\n",
              "<table border=\"1\" class=\"dataframe\">\n",
              "  <thead>\n",
              "    <tr style=\"text-align: right;\">\n",
              "      <th></th>\n",
              "      <th>index</th>\n",
              "      <th>feat_p</th>\n",
              "      <th>lemma</th>\n",
              "      <th>link_name</th>\n",
              "      <th>parent</th>\n",
              "      <th>POS</th>\n",
              "      <th>Role</th>\n",
              "      <th>FullIndex</th>\n",
              "      <th>lemma_parent</th>\n",
              "      <th>pos_parent</th>\n",
              "    </tr>\n",
              "  </thead>\n",
              "  <tbody>\n",
              "    <tr>\n",
              "      <th>0</th>\n",
              "      <td>1</td>\n",
              "      <td>Degree=Pos</td>\n",
              "      <td>уже</td>\n",
              "      <td>advmod</td>\n",
              "      <td>1</td>\n",
              "      <td>ADV</td>\n",
              "      <td>_</td>\n",
              "      <td>106303_3</td>\n",
              "      <td>май</td>\n",
              "      <td>NOUN</td>\n",
              "    </tr>\n",
              "    <tr>\n",
              "      <th>1</th>\n",
              "      <td>2</td>\n",
              "      <td>Aspect=Imp|Mood=Imp|Number=Sing|Person=2|VerbF...</td>\n",
              "      <td>май</td>\n",
              "      <td>root</td>\n",
              "      <td>0</td>\n",
              "      <td>NOUN</td>\n",
              "      <td>_</td>\n",
              "      <td>106303_3</td>\n",
              "      <td>_</td>\n",
              "      <td>_</td>\n",
              "    </tr>\n",
              "    <tr>\n",
              "      <th>2</th>\n",
              "      <td>3</td>\n",
              "      <td>_</td>\n",
              "      <td>,</td>\n",
              "      <td>punct</td>\n",
              "      <td>-1</td>\n",
              "      <td>PUNCT</td>\n",
              "      <td>_</td>\n",
              "      <td>106303_3</td>\n",
              "      <td>май</td>\n",
              "      <td>NOUN</td>\n",
              "    </tr>\n",
              "    <tr>\n",
              "      <th>3</th>\n",
              "      <td>4</td>\n",
              "      <td>Aspect=Imp|Mood=Ind|Number=Plur|Person=3|Tense...</td>\n",
              "      <td>цвести</td>\n",
              "      <td>conj</td>\n",
              "      <td>-2</td>\n",
              "      <td>VERB</td>\n",
              "      <td>предикат</td>\n",
              "      <td>106303_3</td>\n",
              "      <td>май</td>\n",
              "      <td>NOUN</td>\n",
              "    </tr>\n",
              "    <tr>\n",
              "      <th>4</th>\n",
              "      <td>5</td>\n",
              "      <td>Case=Nom|Degree=Pos|Number=Plur</td>\n",
              "      <td>вишневый</td>\n",
              "      <td>amod</td>\n",
              "      <td>1</td>\n",
              "      <td>ADJ</td>\n",
              "      <td>_</td>\n",
              "      <td>106303_3</td>\n",
              "      <td>дерево</td>\n",
              "      <td>NOUN</td>\n",
              "    </tr>\n",
              "  </tbody>\n",
              "</table>\n",
              "</div>"
            ],
            "text/plain": [
              "   index  ... pos_parent\n",
              "0      1  ...       NOUN\n",
              "1      2  ...          _\n",
              "2      3  ...       NOUN\n",
              "3      4  ...       NOUN\n",
              "4      5  ...       NOUN\n",
              "\n",
              "[5 rows x 10 columns]"
            ]
          },
          "metadata": {
            "tags": []
          },
          "execution_count": 50
        }
      ]
    },
    {
      "cell_type": "markdown",
      "metadata": {
        "id": "IInywcKM2xQn"
      },
      "source": [
        "# Сеть"
      ]
    },
    {
      "cell_type": "code",
      "metadata": {
        "id": "A9h6Ouox2mqH"
      },
      "source": [
        "from tensorflow.keras.models import Sequential, Model\n",
        "from tensorflow.keras.layers import Dense, Activation, Dropout, LSTM, Bidirectional, TimeDistributed, InputLayer\n",
        "from tensorflow.keras.layers import Embedding, Conv1D, Input, concatenate, SpatialDropout1D, Flatten, Attention, Layer\n",
        "from tensorflow.keras import optimizers"
      ],
      "execution_count": 51,
      "outputs": []
    },
    {
      "cell_type": "code",
      "metadata": {
        "id": "LPtH7-u2QAon"
      },
      "source": [
        "from tensorflow.keras.metrics import Accuracy, Precision, Recall"
      ],
      "execution_count": 52,
      "outputs": []
    },
    {
      "cell_type": "code",
      "metadata": {
        "id": "qAzGVQhyJ-43"
      },
      "source": [
        "import tensorflow.keras.backend as K"
      ],
      "execution_count": 53,
      "outputs": []
    },
    {
      "cell_type": "code",
      "metadata": {
        "id": "-Pb_UrxmcwCL"
      },
      "source": [
        "import tensorflow as tf"
      ],
      "execution_count": 54,
      "outputs": []
    },
    {
      "cell_type": "code",
      "metadata": {
        "id": "zSrPImC3O93Q"
      },
      "source": [
        "def ignore_accuracy(y_true, y_pred):\n",
        "    y_true_class = K.argmax(y_true, axis=-1)\n",
        "    y_pred_class = K.argmax(y_pred, axis=-1)\n",
        "\n",
        "    ignore_mask = K.cast(K.not_equal(y_pred_class, role2id['_']), 'int32')\n",
        "    ignore_mask_2 = K.cast(K.not_equal(y_pred_class, role2id['pad']), 'int32')\n",
        "    matches = K.cast(K.equal(y_true_class, y_pred_class), 'int32') * (ignore_mask & ignore_mask_2)\n",
        "    accuracy = K.sum(matches) / K.maximum(K.sum(ignore_mask & ignore_mask_2), 1)\n",
        "    return accuracy"
      ],
      "execution_count": 55,
      "outputs": []
    },
    {
      "cell_type": "code",
      "metadata": {
        "id": "S99fCn1aIC4i"
      },
      "source": [
        "def predicate_recall(y_true, y_pred):\n",
        "    class_id_true = K.argmax(y_true, axis=-1)\n",
        "    class_id_preds = K.argmax(y_pred, axis=-1)\n",
        "\n",
        "    accuracy_mask = K.cast(K.equal(class_id_true, role2id['предикат']), 'int32')\n",
        "    class_acc_tensor = K.cast(K.equal(class_id_true, class_id_preds), 'int32') * accuracy_mask\n",
        "    class_acc = K.sum(class_acc_tensor) / K.maximum(K.sum(accuracy_mask), 1)\n",
        "    return class_acc\n",
        "\n",
        "def predicate_precision(y_true, y_pred):\n",
        "    class_id_true = K.argmax(y_true, axis=-1)\n",
        "    class_id_preds = K.argmax(y_pred, axis=-1)\n",
        "\n",
        "    accuracy_mask = K.cast(K.equal(class_id_preds, role2id['предикат']), 'int32')\n",
        "    class_acc_tensor = K.cast(K.equal(class_id_true, class_id_preds), 'int32') * accuracy_mask\n",
        "    class_acc = K.sum(class_acc_tensor) / K.maximum(K.sum(accuracy_mask), 1)\n",
        "    return class_acc\n",
        "    \n",
        "def agent_recall(y_true, y_pred):\n",
        "    class_id_true = K.argmax(y_true, axis=-1)\n",
        "    class_id_preds = K.argmax(y_pred, axis=-1)\n",
        "\n",
        "    accuracy_mask = K.cast(K.equal(class_id_true, role2id['агенс']), 'int32')\n",
        "    class_acc_tensor = K.cast(K.equal(class_id_true, class_id_preds), 'int32') * accuracy_mask\n",
        "    class_acc = K.sum(class_acc_tensor) / K.maximum(K.sum(accuracy_mask), 1)\n",
        "    return class_acc\n",
        "\n",
        "def agent_precision(y_true, y_pred):\n",
        "    class_id_true = K.argmax(y_true, axis=-1)\n",
        "    class_id_preds = K.argmax(y_pred, axis=-1)\n",
        "\n",
        "    accuracy_mask = K.cast(K.equal(class_id_preds, role2id['агенс']), 'int32')\n",
        "    class_acc_tensor = K.cast(K.equal(class_id_true, class_id_preds), 'int32') * accuracy_mask\n",
        "    class_acc = K.sum(class_acc_tensor) / K.maximum(K.sum(accuracy_mask), 1)\n",
        "    return class_acc\n",
        "    \n",
        "def patient_recall(y_true, y_pred):\n",
        "    class_id_true = K.argmax(y_true, axis=-1)\n",
        "    class_id_preds = K.argmax(y_pred, axis=-1)\n",
        "\n",
        "    accuracy_mask = K.cast(K.equal(class_id_true, role2id['пациенс']), 'int32')\n",
        "    class_acc_tensor = K.cast(K.equal(class_id_true, class_id_preds), 'int32') * accuracy_mask\n",
        "    class_acc = K.sum(class_acc_tensor) / K.maximum(K.sum(accuracy_mask), 1)\n",
        "    return class_acc\n",
        "\n",
        "def patient_precision(y_true, y_pred):\n",
        "    class_id_true = K.argmax(y_true, axis=-1)\n",
        "    class_id_preds = K.argmax(y_pred, axis=-1)\n",
        "\n",
        "    accuracy_mask = K.cast(K.equal(class_id_preds, role2id['пациенс']), 'int32')\n",
        "    class_acc_tensor = K.cast(K.equal(class_id_true, class_id_preds), 'int32') * accuracy_mask\n",
        "    class_acc = K.sum(class_acc_tensor) / K.maximum(K.sum(accuracy_mask), 1)\n",
        "    return class_acc"
      ],
      "execution_count": 56,
      "outputs": []
    },
    {
      "cell_type": "markdown",
      "metadata": {
        "id": "x127BGkDaktk"
      },
      "source": [
        "## Модель 1 (4 входа, biLSTM, Dense)"
      ]
    },
    {
      "cell_type": "code",
      "metadata": {
        "id": "0_vWgRn12RJD"
      },
      "source": [
        "# один вход для лексических эмбеддингов\n",
        "word_in = Input(shape=(sent_max_len))\n",
        "emb_word = Embedding(input_dim=len(word2id), output_dim=300, trainable=False, weights=[weights], mask_zero=True)(word_in)\n",
        "\n",
        "# другой вход для частей речи\n",
        "pos_in = Input(shape=(sent_max_len))\n",
        "emb_pos = Embedding(input_dim=len(pos2id), output_dim=20, mask_zero=True)(pos_in)\n",
        "\n",
        "# и вход для синтаксических рангов\n",
        "rank_in = Input(shape=(sent_max_len))\n",
        "emb_rank = Embedding(input_dim=len(rank2id), output_dim=30, mask_zero=True)(rank_in)\n",
        "\n",
        "# и вход для морф признаков\n",
        "morph_in = Input(shape=(sent_max_len))\n",
        "emb_morph = Embedding(input_dim=len(morph2id), output_dim=100, mask_zero=True)(morph_in)\n",
        "\n",
        "x = concatenate([emb_word, emb_pos, emb_rank, emb_morph])\n",
        "\n",
        "main_lstm = Bidirectional(LSTM(units=128, return_sequences=True,\n",
        "                               recurrent_dropout=0.2))(x)\n",
        "\n",
        "out = TimeDistributed(Dense(len(role2id), activation=\"softmax\"))(main_lstm)\n",
        "\n",
        "model_1 = Model(inputs=[word_in, pos_in, rank_in, morph_in], outputs=out)\n",
        "\n",
        "\n",
        "optimizer = optimizers.Adam(learning_rate=0.001)\n",
        "model_1.compile(optimizer=optimizer, loss=\"categorical_crossentropy\", metrics=[\"acc\", Precision(), Recall(), ignore_accuracy])"
      ],
      "execution_count": 87,
      "outputs": []
    },
    {
      "cell_type": "code",
      "metadata": {
        "colab": {
          "base_uri": "https://localhost:8080/",
          "height": 533
        },
        "id": "8Btz3fPj9NOE",
        "outputId": "26e31761-db6d-441d-e75c-6006e762265b"
      },
      "source": [
        "from keras.utils.vis_utils import plot_model\n",
        "plot_model(model_1, show_shapes=True, show_layer_names=False)"
      ],
      "execution_count": 88,
      "outputs": [
        {
          "output_type": "execute_result",
          "data": {
            "image/png": "[encoded data removed]",
            "text/plain": [
              "<IPython.core.display.Image object>"
            ]
          },
          "metadata": {
            "tags": []
          },
          "execution_count": 88
        }
      ]
    },
    {
      "cell_type": "code",
      "metadata": {
        "colab": {
          "base_uri": "https://localhost:8080/"
        },
        "id": "B2ua8FaqRQen",
        "outputId": "63d3608d-4d91-4198-a630-0c022aad8ff5"
      },
      "source": [
        "model_1.fit([X_train_sent, X_train_pos, X_train_rank, X_train_morph], y_train,\n",
        "          validation_data=([X_val_sent, X_val_pos, X_val_rank, X_val_morph], y_val),\n",
        "          batch_size=128, epochs=15, verbose=1)"
      ],
      "execution_count": 89,
      "outputs": [
        {
          "output_type": "stream",
          "text": [
            "Epoch 1/15\n",
            "38/38 [==============================] - 90s 2s/step - loss: 0.2596 - acc: 0.8733 - precision_2: 0.8960 - recall_2: 0.6861 - ignore_accuracy: 2.5445e-05 - val_loss: 0.1377 - val_acc: 0.8984 - val_precision_2: 0.8971 - val_recall_2: 0.8551 - val_ignore_accuracy: 0.0000e+00\n",
            "Epoch 2/15\n",
            "38/38 [==============================] - 84s 2s/step - loss: 0.1268 - acc: 0.8982 - precision_2: 0.8990 - recall_2: 0.8852 - ignore_accuracy: 0.0000e+00 - val_loss: 0.1196 - val_acc: 0.8984 - val_precision_2: 0.9009 - val_recall_2: 0.8876 - val_ignore_accuracy: 0.0000e+00\n",
            "Epoch 3/15\n",
            "38/38 [==============================] - 84s 2s/step - loss: 0.1120 - acc: 0.8983 - precision_2: 0.9028 - recall_2: 0.8865 - ignore_accuracy: 0.2832 - val_loss: 0.1068 - val_acc: 0.8992 - val_precision_2: 0.9050 - val_recall_2: 0.8836 - val_ignore_accuracy: 0.6593\n",
            "Epoch 4/15\n",
            "38/38 [==============================] - 83s 2s/step - loss: 0.1015 - acc: 0.8996 - precision_2: 0.9064 - recall_2: 0.8857 - ignore_accuracy: 0.5939 - val_loss: 0.0984 - val_acc: 0.9018 - val_precision_2: 0.9085 - val_recall_2: 0.8855 - val_ignore_accuracy: 0.6898\n",
            "Epoch 5/15\n",
            "38/38 [==============================] - 84s 2s/step - loss: 0.0959 - acc: 0.9008 - precision_2: 0.9076 - recall_2: 0.8873 - ignore_accuracy: 0.5914 - val_loss: 0.0948 - val_acc: 0.9028 - val_precision_2: 0.9079 - val_recall_2: 0.8899 - val_ignore_accuracy: 0.6744\n",
            "Epoch 6/15\n",
            "38/38 [==============================] - 84s 2s/step - loss: 0.0931 - acc: 0.9015 - precision_2: 0.9077 - recall_2: 0.8897 - ignore_accuracy: 0.5915 - val_loss: 0.0931 - val_acc: 0.9026 - val_precision_2: 0.9072 - val_recall_2: 0.8925 - val_ignore_accuracy: 0.6986\n",
            "Epoch 7/15\n",
            "38/38 [==============================] - 84s 2s/step - loss: 0.0910 - acc: 0.9021 - precision_2: 0.9086 - recall_2: 0.8912 - ignore_accuracy: 0.6107 - val_loss: 0.0911 - val_acc: 0.9033 - val_precision_2: 0.9105 - val_recall_2: 0.8926 - val_ignore_accuracy: 0.6244\n",
            "Epoch 8/15\n",
            "38/38 [==============================] - 84s 2s/step - loss: 0.0892 - acc: 0.9022 - precision_2: 0.9101 - recall_2: 0.8915 - ignore_accuracy: 0.5940 - val_loss: 0.0896 - val_acc: 0.9040 - val_precision_2: 0.9113 - val_recall_2: 0.8930 - val_ignore_accuracy: 0.6407\n",
            "Epoch 9/15\n",
            "38/38 [==============================] - 83s 2s/step - loss: 0.0876 - acc: 0.9027 - precision_2: 0.9111 - recall_2: 0.8920 - ignore_accuracy: 0.6058 - val_loss: 0.0890 - val_acc: 0.9031 - val_precision_2: 0.9077 - val_recall_2: 0.8967 - val_ignore_accuracy: 0.7345\n",
            "Epoch 10/15\n",
            "38/38 [==============================] - 84s 2s/step - loss: 0.0860 - acc: 0.9030 - precision_2: 0.9114 - recall_2: 0.8933 - ignore_accuracy: 0.6120 - val_loss: 0.0868 - val_acc: 0.9044 - val_precision_2: 0.9158 - val_recall_2: 0.8915 - val_ignore_accuracy: 0.6378\n",
            "Epoch 11/15\n",
            "38/38 [==============================] - 83s 2s/step - loss: 0.0844 - acc: 0.9037 - precision_2: 0.9133 - recall_2: 0.8940 - ignore_accuracy: 0.6234 - val_loss: 0.0855 - val_acc: 0.9045 - val_precision_2: 0.9127 - val_recall_2: 0.8960 - val_ignore_accuracy: 0.6566\n",
            "Epoch 12/15\n",
            "38/38 [==============================] - 83s 2s/step - loss: 0.0830 - acc: 0.9036 - precision_2: 0.9138 - recall_2: 0.8942 - ignore_accuracy: 0.6170 - val_loss: 0.0847 - val_acc: 0.9045 - val_precision_2: 0.9139 - val_recall_2: 0.8950 - val_ignore_accuracy: 0.6696\n",
            "Epoch 13/15\n",
            "38/38 [==============================] - 83s 2s/step - loss: 0.0817 - acc: 0.9040 - precision_2: 0.9148 - recall_2: 0.8939 - ignore_accuracy: 0.6193 - val_loss: 0.0834 - val_acc: 0.9055 - val_precision_2: 0.9155 - val_recall_2: 0.8964 - val_ignore_accuracy: 0.6438\n",
            "Epoch 14/15\n",
            "38/38 [==============================] - 83s 2s/step - loss: 0.0803 - acc: 0.9044 - precision_2: 0.9162 - recall_2: 0.8940 - ignore_accuracy: 0.6195 - val_loss: 0.0826 - val_acc: 0.9049 - val_precision_2: 0.9131 - val_recall_2: 0.8976 - val_ignore_accuracy: 0.6835\n",
            "Epoch 15/15\n",
            "38/38 [==============================] - 84s 2s/step - loss: 0.0792 - acc: 0.9050 - precision_2: 0.9173 - recall_2: 0.8944 - ignore_accuracy: 0.6274 - val_loss: 0.0821 - val_acc: 0.9054 - val_precision_2: 0.9120 - val_recall_2: 0.9000 - val_ignore_accuracy: 0.6979\n"
          ],
          "name": "stdout"
        },
        {
          "output_type": "execute_result",
          "data": {
            "text/plain": [
              "<tensorflow.python.keras.callbacks.History at 0x7f1585a11a90>"
            ]
          },
          "metadata": {
            "tags": []
          },
          "execution_count": 89
        }
      ]
    },
    {
      "cell_type": "code",
      "metadata": {
        "colab": {
          "base_uri": "https://localhost:8080/"
        },
        "id": "4JnqjyfZUYTy",
        "outputId": "22eeaf87-14f6-46d3-82c2-895062e49983"
      },
      "source": [
        "model_1.save('my_model_1')"
      ],
      "execution_count": 90,
      "outputs": [
        {
          "output_type": "stream",
          "text": [
            "INFO:tensorflow:Assets written to: my_model_1/assets\n"
          ],
          "name": "stdout"
        },
        {
          "output_type": "stream",
          "text": [
            "INFO:tensorflow:Assets written to: my_model_1/assets\n"
          ],
          "name": "stderr"
        }
      ]
    },
    {
      "cell_type": "code",
      "metadata": {
        "colab": {
          "base_uri": "https://localhost:8080/"
        },
        "id": "I9InXSAHZFbi",
        "outputId": "0cba0caf-bbef-4222-d7ee-b514f5e16c85"
      },
      "source": [
        "eval_results_1 = model_1.evaluate(x=[X_test_sent, X_test_pos, X_test_rank, X_test_morph],\n",
        "               y=y_test)"
      ],
      "execution_count": 91,
      "outputs": [
        {
          "output_type": "stream",
          "text": [
            "50/50 [==============================] - 9s 182ms/step - loss: 0.0796 - acc: 0.9054 - precision_2: 0.9123 - recall_2: 0.8997 - ignore_accuracy: 0.6936\n"
          ],
          "name": "stdout"
        }
      ]
    },
    {
      "cell_type": "code",
      "metadata": {
        "id": "Ppny1BvJmwWO"
      },
      "source": [
        "metrics_df = pd.DataFrame(columns=['Model type', 'Loss', 'Accuracy', 'Precision', 'Recall', 'Custom accuracy'])"
      ],
      "execution_count": 98,
      "outputs": []
    },
    {
      "cell_type": "code",
      "metadata": {
        "id": "cDF_bwDBnAPx"
      },
      "source": [
        "metrics_df.loc[len(metrics_df)] = ['4 Input, biLSTM, Dense', eval_results_1[0], eval_results_1[1], eval_results_1[2], eval_results_1[3], eval_results_1[4]]"
      ],
      "execution_count": 99,
      "outputs": []
    },
    {
      "cell_type": "code",
      "metadata": {
        "colab": {
          "base_uri": "https://localhost:8080/",
          "height": 76
        },
        "id": "cRqGyqMdnr6L",
        "outputId": "35135568-aaf8-471f-b961-1d35d0f35cb0"
      },
      "source": [
        "metrics_df"
      ],
      "execution_count": 100,
      "outputs": [
        {
          "output_type": "execute_result",
          "data": {
            "text/html": [
              "<div>\n",
              "<style scoped>\n",
              "    .dataframe tbody tr th:only-of-type {\n",
              "        vertical-align: middle;\n",
              "    }\n",
              "\n",
              "    .dataframe tbody tr th {\n",
              "        vertical-align: top;\n",
              "    }\n",
              "\n",
              "    .dataframe thead th {\n",
              "        text-align: right;\n",
              "    }\n",
              "</style>\n",
              "<table border=\"1\" class=\"dataframe\">\n",
              "  <thead>\n",
              "    <tr style=\"text-align: right;\">\n",
              "      <th></th>\n",
              "      <th>Model type</th>\n",
              "      <th>Loss</th>\n",
              "      <th>Accuracy</th>\n",
              "      <th>Precision</th>\n",
              "      <th>Recall</th>\n",
              "      <th>Custom accuracy</th>\n",
              "    </tr>\n",
              "  </thead>\n",
              "  <tbody>\n",
              "    <tr>\n",
              "      <th>0</th>\n",
              "      <td>4 Input, biLSTM, Dense</td>\n",
              "      <td>0.079551</td>\n",
              "      <td>0.905396</td>\n",
              "      <td>0.912322</td>\n",
              "      <td>0.899707</td>\n",
              "      <td>0.693643</td>\n",
              "    </tr>\n",
              "  </tbody>\n",
              "</table>\n",
              "</div>"
            ],
            "text/plain": [
              "               Model type      Loss  ...    Recall  Custom accuracy\n",
              "0  4 Input, biLSTM, Dense  0.079551  ...  0.899707         0.693643\n",
              "\n",
              "[1 rows x 6 columns]"
            ]
          },
          "metadata": {
            "tags": []
          },
          "execution_count": 100
        }
      ]
    },
    {
      "cell_type": "code",
      "metadata": {
        "id": "n7YgVwcYKpA0"
      },
      "source": [
        "metrics_df.to_csv('metrics.xlsx', sep='\\t')"
      ],
      "execution_count": 101,
      "outputs": []
    },
    {
      "cell_type": "code",
      "metadata": {
        "id": "AUdgeODRaxee"
      },
      "source": [
        "preds_1 = model_1.predict([X_test_sent, X_test_pos, X_test_rank, X_test_morph])"
      ],
      "execution_count": 92,
      "outputs": []
    },
    {
      "cell_type": "code",
      "metadata": {
        "id": "_90cEskbaxek"
      },
      "source": [
        "pred_pr_1 = predicate_precision(y_test, preds_1).numpy()\n",
        "pred_re_1 = predicate_recall(y_test, preds_1).numpy()\n",
        "agent_pr_1 = agent_precision(y_test, preds_1).numpy()\n",
        "agent_re_1 = agent_recall(y_test, preds_1).numpy()\n",
        "patient_pr_1 = patient_precision(y_test, preds_1).numpy()\n",
        "patient_re_1 = patient_recall(y_test, preds_1).numpy()"
      ],
      "execution_count": 93,
      "outputs": []
    },
    {
      "cell_type": "code",
      "metadata": {
        "id": "wjt3uoddUVUX"
      },
      "source": [
        "role_metrics_df = pd.DataFrame(columns=['Model type', 'Predicate Precision', 'Predicate Recall', 'Agent Precision', 'Agent Recall', 'Patient Precision', 'Patient Recall'])"
      ],
      "execution_count": 94,
      "outputs": []
    },
    {
      "cell_type": "code",
      "metadata": {
        "id": "NZDr8NGeUVUo"
      },
      "source": [
        "role_metrics_df.loc[len(role_metrics_df)] = ['4 Input, biLSTM, Dense', pred_pr_1, pred_re_1, agent_pr_1, agent_re_1, patient_pr_1, patient_re_1]"
      ],
      "execution_count": 95,
      "outputs": []
    },
    {
      "cell_type": "code",
      "metadata": {
        "colab": {
          "base_uri": "https://localhost:8080/",
          "height": 76
        },
        "id": "12WdAlKIUeZL",
        "outputId": "ba7fce29-13c8-492f-9b05-b60c4511528c"
      },
      "source": [
        "role_metrics_df"
      ],
      "execution_count": 96,
      "outputs": [
        {
          "output_type": "execute_result",
          "data": {
            "text/html": [
              "<div>\n",
              "<style scoped>\n",
              "    .dataframe tbody tr th:only-of-type {\n",
              "        vertical-align: middle;\n",
              "    }\n",
              "\n",
              "    .dataframe tbody tr th {\n",
              "        vertical-align: top;\n",
              "    }\n",
              "\n",
              "    .dataframe thead th {\n",
              "        text-align: right;\n",
              "    }\n",
              "</style>\n",
              "<table border=\"1\" class=\"dataframe\">\n",
              "  <thead>\n",
              "    <tr style=\"text-align: right;\">\n",
              "      <th></th>\n",
              "      <th>Model type</th>\n",
              "      <th>Predicate Precision</th>\n",
              "      <th>Predicate Recall</th>\n",
              "      <th>Agent Precision</th>\n",
              "      <th>Agent Recall</th>\n",
              "      <th>Patient Precision</th>\n",
              "      <th>Patient Recall</th>\n",
              "    </tr>\n",
              "  </thead>\n",
              "  <tbody>\n",
              "    <tr>\n",
              "      <th>0</th>\n",
              "      <td>4 Input, biLSTM, Dense</td>\n",
              "      <td>0.706337</td>\n",
              "      <td>0.322058</td>\n",
              "      <td>0.25</td>\n",
              "      <td>0.003497</td>\n",
              "      <td>0.0</td>\n",
              "      <td>0.0</td>\n",
              "    </tr>\n",
              "  </tbody>\n",
              "</table>\n",
              "</div>"
            ],
            "text/plain": [
              "               Model type  ...  Patient Recall\n",
              "0  4 Input, biLSTM, Dense  ...             0.0\n",
              "\n",
              "[1 rows x 7 columns]"
            ]
          },
          "metadata": {
            "tags": []
          },
          "execution_count": 96
        }
      ]
    },
    {
      "cell_type": "code",
      "metadata": {
        "id": "lLaIijFRKYUK"
      },
      "source": [
        "role_metrics_df.to_csv('role_metrics.xlsx', sep='\\t')"
      ],
      "execution_count": 97,
      "outputs": []
    },
    {
      "cell_type": "markdown",
      "metadata": {
        "id": "Bd6tnf3YhhSg"
      },
      "source": [
        "## Модель 2 (7 входов, biLSTM, Dense)"
      ]
    },
    {
      "cell_type": "code",
      "metadata": {
        "id": "CYPOh2Mec2I2"
      },
      "source": [
        "# один вход для лексических эмбеддингов\n",
        "word_in = Input(shape=(sent_max_len))\n",
        "emb_word = Embedding(input_dim=len(word2id), output_dim=300, trainable=False, weights=[weights], mask_zero=True)(word_in)\n",
        "\n",
        "# другой вход для частей речи\n",
        "pos_in = Input(shape=(sent_max_len))\n",
        "emb_pos = Embedding(input_dim=len(pos2id), output_dim=20, mask_zero=True)(pos_in)\n",
        "\n",
        "# и вход для синтаксических рангов\n",
        "rank_in = Input(shape=(sent_max_len))\n",
        "emb_rank = Embedding(input_dim=len(rank2id), output_dim=30, mask_zero=True)(rank_in)\n",
        "\n",
        "# и вход для морф признаков\n",
        "morph_in = Input(shape=(sent_max_len))\n",
        "emb_morph = Embedding(input_dim=len(morph2id), output_dim=100, mask_zero=True)(morph_in)\n",
        "\n",
        "# и вход для отношения к вершине\n",
        "rel_in = Input(shape=(sent_max_len))\n",
        "emb_rel = Embedding(input_dim=len(rel2id), output_dim=20, mask_zero=True)(rel_in)\n",
        "\n",
        "# один вход для лексических эмбеддингов вершин\n",
        "head_in = Input(shape=(sent_max_len))\n",
        "emb_head = Embedding(input_dim=len(word2id), output_dim=300, trainable=False, weights=[weights], mask_zero=True)(head_in)\n",
        "\n",
        "# другой вход для частей речи вершин\n",
        "headpos_in = Input(shape=(sent_max_len))\n",
        "emb_headpos = Embedding(input_dim=len(pos2id), output_dim=20, mask_zero=True)(headpos_in)\n",
        "\n",
        "x = concatenate([emb_word, emb_pos, emb_rank, emb_morph, emb_rel, emb_head, emb_headpos])\n",
        "\n",
        "main_lstm = Bidirectional(LSTM(units=128, return_sequences=True,\n",
        "                               recurrent_dropout=0.2))(x)\n",
        "\n",
        "out = TimeDistributed(Dense(len(role2id), activation=\"softmax\"))(main_lstm)\n",
        "\n",
        "model_2 = Model(inputs=[word_in, pos_in, rank_in, morph_in, rel_in, head_in, headpos_in], outputs=out)\n",
        "\n",
        "\n",
        "optimizer = optimizers.Adam(learning_rate=0.001)\n",
        "model_2.compile(optimizer=optimizer, loss=\"categorical_crossentropy\", metrics=[\"acc\", Precision(), Recall(), ignore_accuracy])"
      ],
      "execution_count": 58,
      "outputs": []
    },
    {
      "cell_type": "code",
      "metadata": {
        "colab": {
          "base_uri": "https://localhost:8080/"
        },
        "id": "nqhIUYVxdTdH",
        "outputId": "3c43fb84-3475-4d4d-e5c4-3be9b1949393"
      },
      "source": [
        "model_2.fit([X_train_sent, X_train_pos, X_train_rank, X_train_morph, X_train_rel, X_train_head, X_train_headpos], y_train,\n",
        "          validation_data=([X_val_sent, X_val_pos, X_val_rank, X_val_morph, X_val_rel, X_val_head, X_val_headpos], y_val),\n",
        "          batch_size=128, epochs=15, verbose=1)"
      ],
      "execution_count": 59,
      "outputs": [
        {
          "output_type": "stream",
          "text": [
            "Epoch 1/15\n",
            "38/38 [==============================] - 143s 4s/step - loss: 0.2128 - acc: 0.8726 - precision_1: 0.8976 - recall_1: 0.7583 - ignore_accuracy: 2.6523e-04 - val_loss: 0.1279 - val_acc: 0.8984 - val_precision_1: 0.8985 - val_recall_1: 0.8770 - val_ignore_accuracy: 0.0000e+00\n",
            "Epoch 2/15\n",
            "38/38 [==============================] - 135s 4s/step - loss: 0.1156 - acc: 0.8982 - precision_1: 0.9002 - recall_1: 0.8885 - ignore_accuracy: 0.0580 - val_loss: 0.1087 - val_acc: 0.8987 - val_precision_1: 0.9048 - val_recall_1: 0.8842 - val_ignore_accuracy: 0.5921\n",
            "Epoch 3/15\n",
            "38/38 [==============================] - 135s 4s/step - loss: 0.1018 - acc: 0.8994 - precision_1: 0.9059 - recall_1: 0.8869 - ignore_accuracy: 0.6171 - val_loss: 0.0971 - val_acc: 0.9019 - val_precision_1: 0.9104 - val_recall_1: 0.8867 - val_ignore_accuracy: 0.6538\n",
            "Epoch 4/15\n",
            "38/38 [==============================] - 135s 4s/step - loss: 0.0933 - acc: 0.9005 - precision_1: 0.9091 - recall_1: 0.8882 - ignore_accuracy: 0.5731 - val_loss: 0.0911 - val_acc: 0.9030 - val_precision_1: 0.9118 - val_recall_1: 0.8889 - val_ignore_accuracy: 0.6469\n",
            "Epoch 5/15\n",
            "38/38 [==============================] - 135s 4s/step - loss: 0.0885 - acc: 0.9012 - precision_1: 0.9108 - recall_1: 0.8893 - ignore_accuracy: 0.5854 - val_loss: 0.0875 - val_acc: 0.9026 - val_precision_1: 0.9109 - val_recall_1: 0.8915 - val_ignore_accuracy: 0.6529\n",
            "Epoch 6/15\n",
            "38/38 [==============================] - 134s 4s/step - loss: 0.0846 - acc: 0.9019 - precision_1: 0.9118 - recall_1: 0.8911 - ignore_accuracy: 0.6007 - val_loss: 0.0849 - val_acc: 0.9026 - val_precision_1: 0.9105 - val_recall_1: 0.8934 - val_ignore_accuracy: 0.7050\n",
            "Epoch 7/15\n",
            "38/38 [==============================] - 134s 4s/step - loss: 0.0812 - acc: 0.9030 - precision_1: 0.9136 - recall_1: 0.8920 - ignore_accuracy: 0.6172 - val_loss: 0.0820 - val_acc: 0.9039 - val_precision_1: 0.9151 - val_recall_1: 0.8922 - val_ignore_accuracy: 0.6612\n",
            "Epoch 8/15\n",
            "38/38 [==============================] - 134s 4s/step - loss: 0.0783 - acc: 0.9040 - precision_1: 0.9155 - recall_1: 0.8930 - ignore_accuracy: 0.6302 - val_loss: 0.0799 - val_acc: 0.9050 - val_precision_1: 0.9203 - val_recall_1: 0.8891 - val_ignore_accuracy: 0.6113\n",
            "Epoch 9/15\n",
            "38/38 [==============================] - 134s 4s/step - loss: 0.0756 - acc: 0.9054 - precision_1: 0.9186 - recall_1: 0.8933 - ignore_accuracy: 0.6387 - val_loss: 0.0783 - val_acc: 0.9044 - val_precision_1: 0.9150 - val_recall_1: 0.8958 - val_ignore_accuracy: 0.6572\n",
            "Epoch 10/15\n",
            "38/38 [==============================] - 134s 4s/step - loss: 0.0733 - acc: 0.9069 - precision_1: 0.9202 - recall_1: 0.8949 - ignore_accuracy: 0.6515 - val_loss: 0.0766 - val_acc: 0.9063 - val_precision_1: 0.9182 - val_recall_1: 0.8961 - val_ignore_accuracy: 0.6516\n",
            "Epoch 11/15\n",
            "38/38 [==============================] - 134s 4s/step - loss: 0.0712 - acc: 0.9080 - precision_1: 0.9219 - recall_1: 0.8964 - ignore_accuracy: 0.6471 - val_loss: 0.0753 - val_acc: 0.9073 - val_precision_1: 0.9197 - val_recall_1: 0.8969 - val_ignore_accuracy: 0.6518\n",
            "Epoch 12/15\n",
            "38/38 [==============================] - 134s 4s/step - loss: 0.0695 - acc: 0.9088 - precision_1: 0.9240 - recall_1: 0.8965 - ignore_accuracy: 0.6576 - val_loss: 0.0744 - val_acc: 0.9074 - val_precision_1: 0.9182 - val_recall_1: 0.8982 - val_ignore_accuracy: 0.6567\n",
            "Epoch 13/15\n",
            "38/38 [==============================] - 134s 4s/step - loss: 0.0672 - acc: 0.9113 - precision_1: 0.9260 - recall_1: 0.8995 - ignore_accuracy: 0.6762 - val_loss: 0.0734 - val_acc: 0.9081 - val_precision_1: 0.9228 - val_recall_1: 0.8952 - val_ignore_accuracy: 0.6382\n",
            "Epoch 14/15\n",
            "38/38 [==============================] - 134s 4s/step - loss: 0.0655 - acc: 0.9124 - precision_1: 0.9279 - recall_1: 0.8997 - ignore_accuracy: 0.6729 - val_loss: 0.0728 - val_acc: 0.9076 - val_precision_1: 0.9183 - val_recall_1: 0.8994 - val_ignore_accuracy: 0.6508\n",
            "Epoch 15/15\n",
            "38/38 [==============================] - 134s 4s/step - loss: 0.0640 - acc: 0.9135 - precision_1: 0.9292 - recall_1: 0.9011 - ignore_accuracy: 0.6837 - val_loss: 0.0720 - val_acc: 0.9092 - val_precision_1: 0.9239 - val_recall_1: 0.8955 - val_ignore_accuracy: 0.6072\n"
          ],
          "name": "stdout"
        },
        {
          "output_type": "execute_result",
          "data": {
            "text/plain": [
              "<tensorflow.python.keras.callbacks.History at 0x7f42074c7150>"
            ]
          },
          "metadata": {
            "tags": []
          },
          "execution_count": 59
        }
      ]
    },
    {
      "cell_type": "code",
      "metadata": {
        "colab": {
          "base_uri": "https://localhost:8080/"
        },
        "id": "qA_a3Fh3VnPa",
        "outputId": "92441334-e5ca-46a0-90f9-6cb932e0bf15"
      },
      "source": [
        "model_2.save('my_model_2')"
      ],
      "execution_count": 60,
      "outputs": [
        {
          "output_type": "stream",
          "text": [
            "INFO:tensorflow:Assets written to: my_model_2/assets\n"
          ],
          "name": "stdout"
        },
        {
          "output_type": "stream",
          "text": [
            "INFO:tensorflow:Assets written to: my_model_2/assets\n"
          ],
          "name": "stderr"
        }
      ]
    },
    {
      "cell_type": "code",
      "metadata": {
        "colab": {
          "base_uri": "https://localhost:8080/"
        },
        "id": "gH0I-ZfpdTdU",
        "outputId": "d419dffd-1c16-4119-d8ea-adc9e3e2040c"
      },
      "source": [
        "eval_results_2 = model_2.evaluate(x=[X_test_sent, X_test_pos, X_test_rank, X_test_morph, X_test_rel, X_test_head, X_test_headpos],\n",
        "                                y=y_test)"
      ],
      "execution_count": 61,
      "outputs": [
        {
          "output_type": "stream",
          "text": [
            "50/50 [==============================] - 17s 342ms/step - loss: 0.0698 - acc: 0.9088 - precision_1: 0.9252 - recall_1: 0.8947 - ignore_accuracy: 0.5997\n"
          ],
          "name": "stdout"
        }
      ]
    },
    {
      "cell_type": "code",
      "metadata": {
        "id": "JGGTZ3URqrBz"
      },
      "source": [
        "metrics_df = pd.read_csv('metrics.xlsx', sep='\\t', index_col=0)"
      ],
      "execution_count": 68,
      "outputs": []
    },
    {
      "cell_type": "code",
      "metadata": {
        "id": "73JamA4QqrBx"
      },
      "source": [
        "metrics_df.loc[len(metrics_df)] = ['7 Input, biLSTM, Dense', eval_results_2[0], eval_results_2[1], eval_results_2[2], eval_results_2[3], eval_results_2[4]]"
      ],
      "execution_count": 71,
      "outputs": []
    },
    {
      "cell_type": "code",
      "metadata": {
        "colab": {
          "base_uri": "https://localhost:8080/",
          "height": 106
        },
        "id": "uSG7ujGsqrBy",
        "outputId": "9a02ea5b-8c17-49d6-b4ef-7ef7ffa42eda"
      },
      "source": [
        "metrics_df"
      ],
      "execution_count": 83,
      "outputs": [
        {
          "output_type": "execute_result",
          "data": {
            "text/html": [
              "<div>\n",
              "<style scoped>\n",
              "    .dataframe tbody tr th:only-of-type {\n",
              "        vertical-align: middle;\n",
              "    }\n",
              "\n",
              "    .dataframe tbody tr th {\n",
              "        vertical-align: top;\n",
              "    }\n",
              "\n",
              "    .dataframe thead th {\n",
              "        text-align: right;\n",
              "    }\n",
              "</style>\n",
              "<table border=\"1\" class=\"dataframe\">\n",
              "  <thead>\n",
              "    <tr style=\"text-align: right;\">\n",
              "      <th></th>\n",
              "      <th>Model type</th>\n",
              "      <th>Loss</th>\n",
              "      <th>Accuracy</th>\n",
              "      <th>Precision</th>\n",
              "      <th>Recall</th>\n",
              "      <th>Custom accuracy</th>\n",
              "    </tr>\n",
              "  </thead>\n",
              "  <tbody>\n",
              "    <tr>\n",
              "      <th>0</th>\n",
              "      <td>4 Input, biLSTM, Dense</td>\n",
              "      <td>0.079551</td>\n",
              "      <td>0.905396</td>\n",
              "      <td>0.912322</td>\n",
              "      <td>0.899707</td>\n",
              "      <td>0.693643</td>\n",
              "    </tr>\n",
              "    <tr>\n",
              "      <th>1</th>\n",
              "      <td>7 Input, biLSTM, Dense</td>\n",
              "      <td>0.069799</td>\n",
              "      <td>0.908815</td>\n",
              "      <td>0.925157</td>\n",
              "      <td>0.894731</td>\n",
              "      <td>0.599692</td>\n",
              "    </tr>\n",
              "  </tbody>\n",
              "</table>\n",
              "</div>"
            ],
            "text/plain": [
              "               Model type      Loss  ...    Recall  Custom accuracy\n",
              "0  4 Input, biLSTM, Dense  0.079551  ...  0.899707         0.693643\n",
              "1  7 Input, biLSTM, Dense  0.069799  ...  0.894731         0.599692\n",
              "\n",
              "[2 rows x 6 columns]"
            ]
          },
          "metadata": {
            "tags": []
          },
          "execution_count": 83
        }
      ]
    },
    {
      "cell_type": "code",
      "metadata": {
        "id": "h-Q7QZj_dTdV"
      },
      "source": [
        "preds_2 = model_2.predict([X_test_sent, X_test_pos, X_test_rank, X_test_morph, X_test_rel, X_test_head, X_test_headpos])"
      ],
      "execution_count": 62,
      "outputs": []
    },
    {
      "cell_type": "code",
      "metadata": {
        "id": "IG2QglOcUsif"
      },
      "source": [
        "pred_pr_2 = predicate_precision(y_test, preds_2).numpy()\n",
        "pred_re_2 = predicate_recall(y_test, preds_2).numpy()\n",
        "agent_pr_2 = agent_precision(y_test, preds_2).numpy()\n",
        "agent_re_2 = agent_recall(y_test, preds_2).numpy()\n",
        "patient_pr_2 = patient_precision(y_test, preds_2).numpy()\n",
        "patient_re_2 = patient_recall(y_test, preds_2).numpy()"
      ],
      "execution_count": 63,
      "outputs": []
    },
    {
      "cell_type": "code",
      "metadata": {
        "id": "x-Itj3-hqTuv"
      },
      "source": [
        "role_metrics_df = pd.read_csv('role_metrics.xlsx', sep='\\t', index_col=0)"
      ],
      "execution_count": 65,
      "outputs": []
    },
    {
      "cell_type": "code",
      "metadata": {
        "id": "v2CtrWdBUsiu"
      },
      "source": [
        "role_metrics_df.loc[len(role_metrics_df)] = ['7 Input, biLSTM, Dense', pred_pr_2, pred_re_2, agent_pr_2, agent_re_2, patient_pr_2, patient_re_2]"
      ],
      "execution_count": 66,
      "outputs": []
    },
    {
      "cell_type": "code",
      "metadata": {
        "colab": {
          "base_uri": "https://localhost:8080/",
          "height": 106
        },
        "id": "hKUmvSrzUsiu",
        "outputId": "e10dc80a-d6fd-4f0e-e083-dcac4d145d70"
      },
      "source": [
        "role_metrics_df"
      ],
      "execution_count": 67,
      "outputs": [
        {
          "output_type": "execute_result",
          "data": {
            "text/html": [
              "<div>\n",
              "<style scoped>\n",
              "    .dataframe tbody tr th:only-of-type {\n",
              "        vertical-align: middle;\n",
              "    }\n",
              "\n",
              "    .dataframe tbody tr th {\n",
              "        vertical-align: top;\n",
              "    }\n",
              "\n",
              "    .dataframe thead th {\n",
              "        text-align: right;\n",
              "    }\n",
              "</style>\n",
              "<table border=\"1\" class=\"dataframe\">\n",
              "  <thead>\n",
              "    <tr style=\"text-align: right;\">\n",
              "      <th></th>\n",
              "      <th>Model type</th>\n",
              "      <th>Predicate Precision</th>\n",
              "      <th>Predicate Recall</th>\n",
              "      <th>Agent Precision</th>\n",
              "      <th>Agent Recall</th>\n",
              "      <th>Patient Precision</th>\n",
              "      <th>Patient Recall</th>\n",
              "    </tr>\n",
              "  </thead>\n",
              "  <tbody>\n",
              "    <tr>\n",
              "      <th>0</th>\n",
              "      <td>4 Input, biLSTM, Dense</td>\n",
              "      <td>0.706337</td>\n",
              "      <td>0.322058</td>\n",
              "      <td>0.250000</td>\n",
              "      <td>0.003497</td>\n",
              "      <td>0.000000</td>\n",
              "      <td>0.00</td>\n",
              "    </tr>\n",
              "    <tr>\n",
              "      <th>1</th>\n",
              "      <td>7 Input, biLSTM, Dense</td>\n",
              "      <td>0.635135</td>\n",
              "      <td>0.496829</td>\n",
              "      <td>0.488372</td>\n",
              "      <td>0.073427</td>\n",
              "      <td>0.483871</td>\n",
              "      <td>0.06</td>\n",
              "    </tr>\n",
              "  </tbody>\n",
              "</table>\n",
              "</div>"
            ],
            "text/plain": [
              "               Model type  ...  Patient Recall\n",
              "0  4 Input, biLSTM, Dense  ...            0.00\n",
              "1  7 Input, biLSTM, Dense  ...            0.06\n",
              "\n",
              "[2 rows x 7 columns]"
            ]
          },
          "metadata": {
            "tags": []
          },
          "execution_count": 67
        }
      ]
    },
    {
      "cell_type": "markdown",
      "metadata": {
        "id": "PtAZw6f4czEl"
      },
      "source": [
        "## Модель 3 (7 входов + Dense, biLSTM, Dense)"
      ]
    },
    {
      "cell_type": "code",
      "metadata": {
        "id": "oexhzO_FhhSk"
      },
      "source": [
        "# один вход для лексических эмбеддингов\n",
        "word_in = Input(shape=(sent_max_len))\n",
        "emb_word = Embedding(input_dim=len(word2id), output_dim=300, trainable=False, weights=[weights], mask_zero=True)(word_in)\n",
        "word_dense = Dense(128, activation='relu')(emb_word)\n",
        "word_dense = Dropout(0.5)(word_dense)\n",
        "\n",
        "# другой вход для частей речи\n",
        "pos_in = Input(shape=(sent_max_len))\n",
        "emb_pos = Embedding(input_dim=len(pos2id), output_dim=20, mask_zero=True)(pos_in)\n",
        "pos_dense = Dense(128, activation='relu')(emb_pos)\n",
        "pos_dense = Dropout(0.5)(pos_dense)\n",
        "\n",
        "# и вход для синтаксических рангов\n",
        "rank_in = Input(shape=(sent_max_len))\n",
        "emb_rank = Embedding(input_dim=len(rank2id), output_dim=30, mask_zero=True)(rank_in)\n",
        "rank_dense = Dense(128, activation='relu')(emb_rank)\n",
        "rank_dense = Dropout(0.5)(rank_dense)\n",
        "\n",
        "# и вход для морф признаков\n",
        "morph_in = Input(shape=(sent_max_len))\n",
        "emb_morph = Embedding(input_dim=len(morph2id), output_dim=100, mask_zero=True)(morph_in)\n",
        "morph_dense = Dense(128, activation='relu')(emb_morph)\n",
        "morph_dense = Dropout(0.5)(morph_dense)\n",
        "\n",
        "# и вход для отношения к вершине\n",
        "rel_in = Input(shape=(sent_max_len))\n",
        "emb_rel = Embedding(input_dim=len(rel2id), output_dim=20, mask_zero=True)(rel_in)\n",
        "rel_dense = Dense(128, activation='relu')(emb_rel)\n",
        "rel_dense = Dropout(0.5)(rel_dense)\n",
        "\n",
        "# один вход для лексических эмбеддингов вершин\n",
        "head_in = Input(shape=(sent_max_len))\n",
        "emb_head = Embedding(input_dim=len(word2id), output_dim=300, trainable=False, weights=[weights], mask_zero=True)(head_in)\n",
        "head_dense = Dense(128, activation='relu')(emb_head)\n",
        "head_dense = Dropout(0.5)(head_dense)\n",
        "\n",
        "# другой вход для частей речи вершин\n",
        "headpos_in = Input(shape=(sent_max_len))\n",
        "emb_headpos = Embedding(input_dim=len(pos2id), output_dim=20, mask_zero=True)(headpos_in)\n",
        "headpos_dense = Dense(128, activation='relu')(emb_headpos)\n",
        "headpos_dense = Dropout(0.5)(headpos_dense)\n",
        "\n",
        "x = concatenate([word_dense, pos_dense, rank_dense, morph_dense, rel_dense, head_dense, headpos_dense])\n",
        "\n",
        "main_lstm = Bidirectional(LSTM(units=128, return_sequences=True,\n",
        "                               recurrent_dropout=0.3))(x)\n",
        "\n",
        "out = TimeDistributed(Dense(len(role2id), activation=\"softmax\"))(main_lstm)\n",
        "\n",
        "model_3 = Model(inputs=[word_in, pos_in, rank_in, morph_in, rel_in, head_in, headpos_in], outputs=out)\n",
        "\n",
        "optimizer = optimizers.Adam(learning_rate=0.001)\n",
        "model_3.compile(optimizer=optimizer, loss=\"categorical_crossentropy\", metrics=[\"acc\", Precision(), Recall(), ignore_accuracy])"
      ],
      "execution_count": 73,
      "outputs": []
    },
    {
      "cell_type": "code",
      "metadata": {
        "colab": {
          "base_uri": "https://localhost:8080/"
        },
        "id": "QfVq8IZgTrYb",
        "outputId": "04a3dde0-e10f-48b2-dac8-51f0996bc3f2"
      },
      "source": [
        "model_3.fit([X_train_sent, X_train_pos, X_train_rank, X_train_morph, X_train_rel, X_train_head, X_train_headpos], y_train,\n",
        "          validation_data=([X_val_sent, X_val_pos, X_val_rank, X_val_morph, X_val_rel, X_val_head, X_val_headpos], y_val),\n",
        "          batch_size=128, epochs=15, verbose=1)"
      ],
      "execution_count": 74,
      "outputs": [
        {
          "output_type": "stream",
          "text": [
            "Epoch 1/15\n",
            "38/38 [==============================] - 164s 4s/step - loss: 0.2228 - acc: 0.8742 - precision_2: 0.8981 - recall_2: 0.7495 - ignore_accuracy: 2.5058e-05 - val_loss: 0.1273 - val_acc: 0.8984 - val_precision_2: 0.8980 - val_recall_2: 0.8942 - val_ignore_accuracy: 0.0000e+00\n",
            "Epoch 2/15\n",
            "38/38 [==============================] - 155s 4s/step - loss: 0.1161 - acc: 0.8982 - precision_2: 0.8998 - recall_2: 0.8949 - ignore_accuracy: 7.8588e-05 - val_loss: 0.1054 - val_acc: 0.8989 - val_precision_2: 0.9017 - val_recall_2: 0.8946 - val_ignore_accuracy: 2.3050e-04\n",
            "Epoch 3/15\n",
            "38/38 [==============================] - 155s 4s/step - loss: 0.0993 - acc: 0.8986 - precision_2: 0.9026 - recall_2: 0.8928 - ignore_accuracy: 0.0013 - val_loss: 0.0934 - val_acc: 0.9025 - val_precision_2: 0.9067 - val_recall_2: 0.8973 - val_ignore_accuracy: 0.6515\n",
            "Epoch 4/15\n",
            "38/38 [==============================] - 155s 4s/step - loss: 0.0932 - acc: 0.8994 - precision_2: 0.9050 - recall_2: 0.8929 - ignore_accuracy: 0.5306 - val_loss: 0.0904 - val_acc: 0.9028 - val_precision_2: 0.9054 - val_recall_2: 0.9007 - val_ignore_accuracy: 0.6916\n",
            "Epoch 5/15\n",
            "38/38 [==============================] - 155s 4s/step - loss: 0.0901 - acc: 0.9007 - precision_2: 0.9072 - recall_2: 0.8935 - ignore_accuracy: 0.5687 - val_loss: 0.0874 - val_acc: 0.9036 - val_precision_2: 0.9108 - val_recall_2: 0.8969 - val_ignore_accuracy: 0.6354\n",
            "Epoch 6/15\n",
            "38/38 [==============================] - 155s 4s/step - loss: 0.0870 - acc: 0.9014 - precision_2: 0.9100 - recall_2: 0.8932 - ignore_accuracy: 0.5872 - val_loss: 0.0847 - val_acc: 0.9040 - val_precision_2: 0.9154 - val_recall_2: 0.8941 - val_ignore_accuracy: 0.6692\n",
            "Epoch 7/15\n",
            "38/38 [==============================] - 156s 4s/step - loss: 0.0841 - acc: 0.9026 - precision_2: 0.9133 - recall_2: 0.8928 - ignore_accuracy: 0.5996 - val_loss: 0.0821 - val_acc: 0.9053 - val_precision_2: 0.9121 - val_recall_2: 0.9001 - val_ignore_accuracy: 0.6849\n",
            "Epoch 8/15\n",
            "38/38 [==============================] - 155s 4s/step - loss: 0.0814 - acc: 0.9034 - precision_2: 0.9146 - recall_2: 0.8942 - ignore_accuracy: 0.6116 - val_loss: 0.0796 - val_acc: 0.9067 - val_precision_2: 0.9176 - val_recall_2: 0.9001 - val_ignore_accuracy: 0.6830\n",
            "Epoch 9/15\n",
            "38/38 [==============================] - 154s 4s/step - loss: 0.0791 - acc: 0.9049 - precision_2: 0.9176 - recall_2: 0.8950 - ignore_accuracy: 0.6311 - val_loss: 0.0779 - val_acc: 0.9077 - val_precision_2: 0.9205 - val_recall_2: 0.8988 - val_ignore_accuracy: 0.6334\n",
            "Epoch 10/15\n",
            "38/38 [==============================] - 154s 4s/step - loss: 0.0769 - acc: 0.9061 - precision_2: 0.9195 - recall_2: 0.8960 - ignore_accuracy: 0.6378 - val_loss: 0.0763 - val_acc: 0.9094 - val_precision_2: 0.9243 - val_recall_2: 0.9000 - val_ignore_accuracy: 0.6926\n",
            "Epoch 11/15\n",
            "38/38 [==============================] - 154s 4s/step - loss: 0.0748 - acc: 0.9083 - precision_2: 0.9233 - recall_2: 0.8972 - ignore_accuracy: 0.6560 - val_loss: 0.0746 - val_acc: 0.9108 - val_precision_2: 0.9277 - val_recall_2: 0.8997 - val_ignore_accuracy: 0.6857\n",
            "Epoch 12/15\n",
            "38/38 [==============================] - 154s 4s/step - loss: 0.0727 - acc: 0.9098 - precision_2: 0.9257 - recall_2: 0.8983 - ignore_accuracy: 0.6586 - val_loss: 0.0731 - val_acc: 0.9125 - val_precision_2: 0.9280 - val_recall_2: 0.9022 - val_ignore_accuracy: 0.7066\n",
            "Epoch 13/15\n",
            "38/38 [==============================] - 155s 4s/step - loss: 0.0708 - acc: 0.9116 - precision_2: 0.9288 - recall_2: 0.8993 - ignore_accuracy: 0.6650 - val_loss: 0.0716 - val_acc: 0.9139 - val_precision_2: 0.9329 - val_recall_2: 0.8998 - val_ignore_accuracy: 0.6540\n",
            "Epoch 14/15\n",
            "38/38 [==============================] - 154s 4s/step - loss: 0.0692 - acc: 0.9135 - precision_2: 0.9314 - recall_2: 0.9007 - ignore_accuracy: 0.6790 - val_loss: 0.0701 - val_acc: 0.9150 - val_precision_2: 0.9355 - val_recall_2: 0.9004 - val_ignore_accuracy: 0.6634\n",
            "Epoch 15/15\n",
            "38/38 [==============================] - 154s 4s/step - loss: 0.0675 - acc: 0.9138 - precision_2: 0.9322 - recall_2: 0.9007 - ignore_accuracy: 0.6577 - val_loss: 0.0693 - val_acc: 0.9159 - val_precision_2: 0.9384 - val_recall_2: 0.8979 - val_ignore_accuracy: 0.6447\n"
          ],
          "name": "stdout"
        },
        {
          "output_type": "execute_result",
          "data": {
            "text/plain": [
              "<tensorflow.python.keras.callbacks.History at 0x7f4202196ad0>"
            ]
          },
          "metadata": {
            "tags": []
          },
          "execution_count": 74
        }
      ]
    },
    {
      "cell_type": "code",
      "metadata": {
        "colab": {
          "base_uri": "https://localhost:8080/"
        },
        "id": "LBIriucOsprP",
        "outputId": "9d122190-1654-4271-fec1-707e15509fe5"
      },
      "source": [
        "model_3.save('my_model_3')"
      ],
      "execution_count": 75,
      "outputs": [
        {
          "output_type": "stream",
          "text": [
            "INFO:tensorflow:Assets written to: my_model_3/assets\n"
          ],
          "name": "stdout"
        },
        {
          "output_type": "stream",
          "text": [
            "INFO:tensorflow:Assets written to: my_model_3/assets\n"
          ],
          "name": "stderr"
        }
      ]
    },
    {
      "cell_type": "code",
      "metadata": {
        "colab": {
          "base_uri": "https://localhost:8080/"
        },
        "id": "0SvI13lqji5X",
        "outputId": "a5b67e3f-18cf-435e-e25f-ef7fd55980af"
      },
      "source": [
        "eval_results_3 = model_3.evaluate(x=[X_test_sent, X_test_pos, X_test_rank, X_test_morph, X_test_rel, X_test_head, X_test_headpos],\n",
        "                                y=y_test)"
      ],
      "execution_count": 76,
      "outputs": [
        {
          "output_type": "stream",
          "text": [
            "50/50 [==============================] - 18s 369ms/step - loss: 0.0669 - acc: 0.9172 - precision_2: 0.9395 - recall_2: 0.8990 - ignore_accuracy: 0.6588\n"
          ],
          "name": "stdout"
        }
      ]
    },
    {
      "cell_type": "code",
      "metadata": {
        "id": "YKaTB6wnx9pf"
      },
      "source": [
        "metrics_df = pd.read_csv('metrics.xlsx', sep='\\t', index_col=0)"
      ],
      "execution_count": null,
      "outputs": []
    },
    {
      "cell_type": "code",
      "metadata": {
        "id": "ZBGlYAT8x9pq"
      },
      "source": [
        "metrics_df.loc[len(metrics_df)] = ['7 Input, biLSTM, Dense', eval_results_3[0], eval_results_3[1], eval_results_3[2], eval_results_3[3], eval_results_3[4]]"
      ],
      "execution_count": 88,
      "outputs": []
    },
    {
      "cell_type": "code",
      "metadata": {
        "colab": {
          "base_uri": "https://localhost:8080/",
          "height": 135
        },
        "id": "SCluTfv00ixN",
        "outputId": "b0fd9e52-9e98-4b87-e71a-a6dbd91da2c6"
      },
      "source": [
        "metrics_df"
      ],
      "execution_count": 89,
      "outputs": [
        {
          "output_type": "execute_result",
          "data": {
            "text/html": [
              "<div>\n",
              "<style scoped>\n",
              "    .dataframe tbody tr th:only-of-type {\n",
              "        vertical-align: middle;\n",
              "    }\n",
              "\n",
              "    .dataframe tbody tr th {\n",
              "        vertical-align: top;\n",
              "    }\n",
              "\n",
              "    .dataframe thead th {\n",
              "        text-align: right;\n",
              "    }\n",
              "</style>\n",
              "<table border=\"1\" class=\"dataframe\">\n",
              "  <thead>\n",
              "    <tr style=\"text-align: right;\">\n",
              "      <th></th>\n",
              "      <th>Model type</th>\n",
              "      <th>Loss</th>\n",
              "      <th>Accuracy</th>\n",
              "      <th>Precision</th>\n",
              "      <th>Recall</th>\n",
              "      <th>Custom accuracy</th>\n",
              "    </tr>\n",
              "  </thead>\n",
              "  <tbody>\n",
              "    <tr>\n",
              "      <th>0</th>\n",
              "      <td>4 Input, biLSTM, Dense</td>\n",
              "      <td>0.079551</td>\n",
              "      <td>0.905396</td>\n",
              "      <td>0.912322</td>\n",
              "      <td>0.899707</td>\n",
              "      <td>0.693643</td>\n",
              "    </tr>\n",
              "    <tr>\n",
              "      <th>1</th>\n",
              "      <td>7 Input, biLSTM, Dense</td>\n",
              "      <td>0.069799</td>\n",
              "      <td>0.908815</td>\n",
              "      <td>0.925157</td>\n",
              "      <td>0.894731</td>\n",
              "      <td>0.599692</td>\n",
              "    </tr>\n",
              "    <tr>\n",
              "      <th>2</th>\n",
              "      <td>7 Input, biLSTM, Dense</td>\n",
              "      <td>0.066909</td>\n",
              "      <td>0.917183</td>\n",
              "      <td>0.939530</td>\n",
              "      <td>0.899043</td>\n",
              "      <td>0.658773</td>\n",
              "    </tr>\n",
              "  </tbody>\n",
              "</table>\n",
              "</div>"
            ],
            "text/plain": [
              "               Model type      Loss  ...    Recall  Custom accuracy\n",
              "0  4 Input, biLSTM, Dense  0.079551  ...  0.899707         0.693643\n",
              "1  7 Input, biLSTM, Dense  0.069799  ...  0.894731         0.599692\n",
              "2  7 Input, biLSTM, Dense  0.066909  ...  0.899043         0.658773\n",
              "\n",
              "[3 rows x 6 columns]"
            ]
          },
          "metadata": {
            "tags": []
          },
          "execution_count": 89
        }
      ]
    },
    {
      "cell_type": "code",
      "metadata": {
        "id": "fb-wQTPod6z6"
      },
      "source": [
        "preds_3 = model_3.predict([X_test_sent, X_test_pos, X_test_rank, X_test_morph, X_test_rel, X_test_head, X_test_headpos])"
      ],
      "execution_count": 77,
      "outputs": []
    },
    {
      "cell_type": "code",
      "metadata": {
        "id": "TU05jIyJKNjx"
      },
      "source": [
        "pred_pr_3 = predicate_precision(y_test, preds_3).numpy()\n",
        "pred_re_3 = predicate_recall(y_test, preds_3).numpy()\n",
        "agent_pr_3 = agent_precision(y_test, preds_3).numpy()\n",
        "agent_re_3 = agent_recall(y_test, preds_3).numpy()\n",
        "patient_pr_3 = patient_precision(y_test, preds_3).numpy()\n",
        "patient_re_3 = patient_recall(y_test, preds_3).numpy()"
      ],
      "execution_count": 78,
      "outputs": []
    },
    {
      "cell_type": "code",
      "metadata": {
        "id": "fsSF3vuzKHGu"
      },
      "source": [
        "role_metrics_df.loc[len(role_metrics_df)] = ['7 Input, Dense, biLSTM, Dense', pred_pr_3, pred_re_3, agent_pr_3, agent_re_3, patient_pr_3, patient_re_3]"
      ],
      "execution_count": 79,
      "outputs": []
    },
    {
      "cell_type": "code",
      "metadata": {
        "colab": {
          "base_uri": "https://localhost:8080/",
          "height": 135
        },
        "id": "gwxfN2NpVKyt",
        "outputId": "e260bdf6-4efe-4512-d9de-ee57fb743d4d"
      },
      "source": [
        "role_metrics_df"
      ],
      "execution_count": 80,
      "outputs": [
        {
          "output_type": "execute_result",
          "data": {
            "text/html": [
              "<div>\n",
              "<style scoped>\n",
              "    .dataframe tbody tr th:only-of-type {\n",
              "        vertical-align: middle;\n",
              "    }\n",
              "\n",
              "    .dataframe tbody tr th {\n",
              "        vertical-align: top;\n",
              "    }\n",
              "\n",
              "    .dataframe thead th {\n",
              "        text-align: right;\n",
              "    }\n",
              "</style>\n",
              "<table border=\"1\" class=\"dataframe\">\n",
              "  <thead>\n",
              "    <tr style=\"text-align: right;\">\n",
              "      <th></th>\n",
              "      <th>Model type</th>\n",
              "      <th>Predicate Precision</th>\n",
              "      <th>Predicate Recall</th>\n",
              "      <th>Agent Precision</th>\n",
              "      <th>Agent Recall</th>\n",
              "      <th>Patient Precision</th>\n",
              "      <th>Patient Recall</th>\n",
              "    </tr>\n",
              "  </thead>\n",
              "  <tbody>\n",
              "    <tr>\n",
              "      <th>0</th>\n",
              "      <td>4 Input, biLSTM, Dense</td>\n",
              "      <td>0.706337</td>\n",
              "      <td>0.322058</td>\n",
              "      <td>0.250000</td>\n",
              "      <td>0.003497</td>\n",
              "      <td>0.000000</td>\n",
              "      <td>0.000</td>\n",
              "    </tr>\n",
              "    <tr>\n",
              "      <th>1</th>\n",
              "      <td>7 Input, biLSTM, Dense</td>\n",
              "      <td>0.635135</td>\n",
              "      <td>0.496829</td>\n",
              "      <td>0.488372</td>\n",
              "      <td>0.073427</td>\n",
              "      <td>0.483871</td>\n",
              "      <td>0.060</td>\n",
              "    </tr>\n",
              "    <tr>\n",
              "      <th>2</th>\n",
              "      <td>7 Input, Dense, biLSTM, Dense</td>\n",
              "      <td>0.726502</td>\n",
              "      <td>0.664553</td>\n",
              "      <td>0.451613</td>\n",
              "      <td>0.195804</td>\n",
              "      <td>0.413333</td>\n",
              "      <td>0.124</td>\n",
              "    </tr>\n",
              "  </tbody>\n",
              "</table>\n",
              "</div>"
            ],
            "text/plain": [
              "                      Model type  ...  Patient Recall\n",
              "0         4 Input, biLSTM, Dense  ...           0.000\n",
              "1         7 Input, biLSTM, Dense  ...           0.060\n",
              "2  7 Input, Dense, biLSTM, Dense  ...           0.124\n",
              "\n",
              "[3 rows x 7 columns]"
            ]
          },
          "metadata": {
            "tags": []
          },
          "execution_count": 80
        }
      ]
    },
    {
      "cell_type": "markdown",
      "metadata": {
        "id": "09DlRkJ41erZ"
      },
      "source": [
        "## Модель 4 (7 входов + Dense, biLSTM, 2 x Dense)"
      ]
    },
    {
      "cell_type": "code",
      "metadata": {
        "id": "_Sl4QzIAji5q"
      },
      "source": [
        "# один вход для лексических эмбеддингов\n",
        "word_in = Input(shape=(sent_max_len))\n",
        "emb_word = Embedding(input_dim=len(word2id), output_dim=300, trainable=False, weights=[weights], mask_zero=True)(word_in)\n",
        "word_dense = Dense(128, activation='relu')(emb_word)\n",
        "word_dense = Dropout(0.3)(word_dense)\n",
        "\n",
        "# другой вход для частей речи\n",
        "pos_in = Input(shape=(sent_max_len))\n",
        "emb_pos = Embedding(input_dim=len(pos2id), output_dim=20, mask_zero=True)(pos_in)\n",
        "pos_dense = Dense(128, activation='relu')(emb_pos)\n",
        "pos_dense = Dropout(0.3)(pos_dense)\n",
        "\n",
        "# и вход для синтаксических рангов\n",
        "rank_in = Input(shape=(sent_max_len))\n",
        "emb_rank = Embedding(input_dim=len(rank2id), output_dim=30, mask_zero=True)(rank_in)\n",
        "rank_dense = Dense(128, activation='relu')(emb_rank)\n",
        "rank_dense = Dropout(0.3)(rank_dense)\n",
        "\n",
        "# и вход для морф признаков\n",
        "morph_in = Input(shape=(sent_max_len))\n",
        "emb_morph = Embedding(input_dim=len(morph2id), output_dim=100, mask_zero=True)(morph_in)\n",
        "morph_dense = Dense(128, activation='relu')(emb_morph)\n",
        "morph_dense = Dropout(0.3)(morph_dense)\n",
        "\n",
        "# и вход для отношения к вершине\n",
        "rel_in = Input(shape=(sent_max_len))\n",
        "emb_rel = Embedding(input_dim=len(rel2id), output_dim=20, mask_zero=True)(rel_in)\n",
        "rel_dense = Dense(128, activation='relu')(emb_rel)\n",
        "rel_dense = Dropout(0.3)(rel_dense)\n",
        "\n",
        "# один вход для лексических эмбеддингов вершин\n",
        "head_in = Input(shape=(sent_max_len))\n",
        "emb_head = Embedding(input_dim=len(word2id), output_dim=300, trainable=False, weights=[weights], mask_zero=True)(head_in)\n",
        "head_dense = Dense(128, activation='relu')(emb_head)\n",
        "head_dense = Dropout(0.3)(head_dense)\n",
        "\n",
        "# другой вход для частей речи вершин\n",
        "headpos_in = Input(shape=(sent_max_len))\n",
        "emb_headpos = Embedding(input_dim=len(pos2id), output_dim=20, mask_zero=True)(headpos_in)\n",
        "headpos_dense = Dense(128, activation='relu')(emb_headpos)\n",
        "headpos_dense = Dropout(0.3)(headpos_dense)\n",
        "\n",
        "x = concatenate([word_dense, pos_dense, rank_dense, morph_dense, rel_dense, head_dense, headpos_dense])\n",
        "\n",
        "main_lstm = Bidirectional(LSTM(units=128, return_sequences=True,\n",
        "                               recurrent_dropout=0.2))(x)\n",
        "\n",
        "out_1 = TimeDistributed(Dense(128, activation=\"relu\"))(main_lstm)\n",
        "dropout = Dropout(0.5)(out_1)\n",
        "\n",
        "out = TimeDistributed(Dense(len(role2id), activation=\"softmax\"))(dropout)\n",
        "\n",
        "model_4 = Model(inputs=[word_in, pos_in, rank_in, morph_in, rel_in, head_in, headpos_in], outputs=out)\n",
        "\n",
        "\n",
        "optimizer = optimizers.Adam(learning_rate=0.001)\n",
        "model_4.compile(optimizer=optimizer, loss=\"categorical_crossentropy\", metrics=[\"acc\", Precision(), Recall(), ignore_accuracy])"
      ],
      "execution_count": 92,
      "outputs": []
    },
    {
      "cell_type": "code",
      "metadata": {
        "colab": {
          "base_uri": "https://localhost:8080/"
        },
        "id": "Mlyev3AL2vEd",
        "outputId": "de2f657b-c754-431e-8031-58541c9b0754"
      },
      "source": [
        "model_4.fit([X_train_sent, X_train_pos, X_train_rank, X_train_morph, X_train_rel, X_train_head, X_train_headpos], y_train,\n",
        "          validation_data=([X_val_sent, X_val_pos, X_val_rank, X_val_morph, X_val_rel, X_val_head, X_val_headpos], y_val),\n",
        "          batch_size=128, epochs=15, verbose=1)"
      ],
      "execution_count": 93,
      "outputs": [
        {
          "output_type": "stream",
          "text": [
            "Epoch 1/15\n",
            "38/38 [==============================] - 166s 4s/step - loss: 0.2641 - acc: 0.8649 - precision_4: 0.8984 - recall_4: 0.7031 - ignore_accuracy: 6.6767e-05 - val_loss: 0.1346 - val_acc: 0.8984 - val_precision_4: 0.8983 - val_recall_4: 0.8981 - val_ignore_accuracy: 0.0000e+00\n",
            "Epoch 2/15\n",
            "38/38 [==============================] - 157s 4s/step - loss: 0.1313 - acc: 0.8982 - precision_4: 0.9011 - recall_4: 0.8816 - ignore_accuracy: 0.0088 - val_loss: 0.1108 - val_acc: 0.8984 - val_precision_4: 0.8984 - val_recall_4: 0.8976 - val_ignore_accuracy: 0.0000e+00\n",
            "Epoch 3/15\n",
            "38/38 [==============================] - 157s 4s/step - loss: 0.1101 - acc: 0.8976 - precision_4: 0.9098 - recall_4: 0.8726 - ignore_accuracy: 0.3703 - val_loss: 0.0966 - val_acc: 0.8993 - val_precision_4: 0.9017 - val_recall_4: 0.8963 - val_ignore_accuracy: 0.7194\n",
            "Epoch 4/15\n",
            "38/38 [==============================] - 157s 4s/step - loss: 0.1021 - acc: 0.8967 - precision_4: 0.9085 - recall_4: 0.8754 - ignore_accuracy: 0.4279 - val_loss: 0.0934 - val_acc: 0.9000 - val_precision_4: 0.9035 - val_recall_4: 0.8963 - val_ignore_accuracy: 0.7779\n",
            "Epoch 5/15\n",
            "38/38 [==============================] - 157s 4s/step - loss: 0.0988 - acc: 0.8980 - precision_4: 0.9119 - recall_4: 0.8758 - ignore_accuracy: 0.4945 - val_loss: 0.0920 - val_acc: 0.9002 - val_precision_4: 0.9035 - val_recall_4: 0.8974 - val_ignore_accuracy: 0.7967\n",
            "Epoch 6/15\n",
            "38/38 [==============================] - 157s 4s/step - loss: 0.0966 - acc: 0.8988 - precision_4: 0.9131 - recall_4: 0.8781 - ignore_accuracy: 0.5128 - val_loss: 0.0900 - val_acc: 0.9009 - val_precision_4: 0.9082 - val_recall_4: 0.8960 - val_ignore_accuracy: 0.8066\n",
            "Epoch 7/15\n",
            "38/38 [==============================] - 157s 4s/step - loss: 0.0938 - acc: 0.9001 - precision_4: 0.9166 - recall_4: 0.8791 - ignore_accuracy: 0.5539 - val_loss: 0.0875 - val_acc: 0.9043 - val_precision_4: 0.9190 - val_recall_4: 0.8942 - val_ignore_accuracy: 0.6503\n",
            "Epoch 8/15\n",
            "38/38 [==============================] - 157s 4s/step - loss: 0.0916 - acc: 0.9009 - precision_4: 0.9201 - recall_4: 0.8799 - ignore_accuracy: 0.5621 - val_loss: 0.0859 - val_acc: 0.9051 - val_precision_4: 0.9175 - val_recall_4: 0.8978 - val_ignore_accuracy: 0.6766\n",
            "Epoch 9/15\n",
            "38/38 [==============================] - 157s 4s/step - loss: 0.0886 - acc: 0.9030 - precision_4: 0.9237 - recall_4: 0.8826 - ignore_accuracy: 0.5967 - val_loss: 0.0836 - val_acc: 0.9072 - val_precision_4: 0.9281 - val_recall_4: 0.8945 - val_ignore_accuracy: 0.6639\n",
            "Epoch 10/15\n",
            "38/38 [==============================] - 157s 4s/step - loss: 0.0860 - acc: 0.9039 - precision_4: 0.9271 - recall_4: 0.8835 - ignore_accuracy: 0.6044 - val_loss: 0.0835 - val_acc: 0.9076 - val_precision_4: 0.9201 - val_recall_4: 0.9031 - val_ignore_accuracy: 0.7202\n",
            "Epoch 11/15\n",
            "38/38 [==============================] - 157s 4s/step - loss: 0.0837 - acc: 0.9062 - precision_4: 0.9315 - recall_4: 0.8865 - ignore_accuracy: 0.6201 - val_loss: 0.0799 - val_acc: 0.9098 - val_precision_4: 0.9300 - val_recall_4: 0.8997 - val_ignore_accuracy: 0.7056\n",
            "Epoch 12/15\n",
            "38/38 [==============================] - 157s 4s/step - loss: 0.0812 - acc: 0.9080 - precision_4: 0.9343 - recall_4: 0.8883 - ignore_accuracy: 0.6182 - val_loss: 0.0778 - val_acc: 0.9121 - val_precision_4: 0.9348 - val_recall_4: 0.8992 - val_ignore_accuracy: 0.7023\n",
            "Epoch 13/15\n",
            "38/38 [==============================] - 157s 4s/step - loss: 0.0791 - acc: 0.9104 - precision_4: 0.9375 - recall_4: 0.8910 - ignore_accuracy: 0.6316 - val_loss: 0.0763 - val_acc: 0.9129 - val_precision_4: 0.9362 - val_recall_4: 0.8998 - val_ignore_accuracy: 0.7201\n",
            "Epoch 14/15\n",
            "38/38 [==============================] - 156s 4s/step - loss: 0.0764 - acc: 0.9129 - precision_4: 0.9415 - recall_4: 0.8938 - ignore_accuracy: 0.6307 - val_loss: 0.0752 - val_acc: 0.9149 - val_precision_4: 0.9364 - val_recall_4: 0.9034 - val_ignore_accuracy: 0.6904\n",
            "Epoch 15/15\n",
            "38/38 [==============================] - 156s 4s/step - loss: 0.0747 - acc: 0.9148 - precision_4: 0.9440 - recall_4: 0.8962 - ignore_accuracy: 0.6408 - val_loss: 0.0741 - val_acc: 0.9160 - val_precision_4: 0.9402 - val_recall_4: 0.9016 - val_ignore_accuracy: 0.6785\n"
          ],
          "name": "stdout"
        },
        {
          "output_type": "execute_result",
          "data": {
            "text/plain": [
              "<tensorflow.python.keras.callbacks.History at 0x7f41fb03c690>"
            ]
          },
          "metadata": {
            "tags": []
          },
          "execution_count": 93
        }
      ]
    },
    {
      "cell_type": "code",
      "metadata": {
        "colab": {
          "base_uri": "https://localhost:8080/"
        },
        "id": "a5dW0WX_01aw",
        "outputId": "f1a08b4d-a5bb-4233-afc5-c4b0ecb07dd6"
      },
      "source": [
        "model_4.save('my_model_4')"
      ],
      "execution_count": 94,
      "outputs": [
        {
          "output_type": "stream",
          "text": [
            "INFO:tensorflow:Assets written to: my_model_4/assets\n"
          ],
          "name": "stdout"
        },
        {
          "output_type": "stream",
          "text": [
            "INFO:tensorflow:Assets written to: my_model_4/assets\n"
          ],
          "name": "stderr"
        }
      ]
    },
    {
      "cell_type": "code",
      "metadata": {
        "colab": {
          "base_uri": "https://localhost:8080/"
        },
        "id": "cE_YWda45G4C",
        "outputId": "706763e5-254a-42b2-a47d-041cd5cd16e1"
      },
      "source": [
        "eval_results_4 = model_4.evaluate(x=[X_test_sent, X_test_pos, X_test_rank, X_test_morph, X_test_rel, X_test_head, X_test_headpos],\n",
        "                                y=y_test)"
      ],
      "execution_count": 95,
      "outputs": [
        {
          "output_type": "stream",
          "text": [
            "50/50 [==============================] - 19s 375ms/step - loss: 0.0715 - acc: 0.9156 - precision_4: 0.9409 - recall_4: 0.9008 - ignore_accuracy: 0.6812\n"
          ],
          "name": "stdout"
        }
      ]
    },
    {
      "cell_type": "code",
      "metadata": {
        "id": "NB48_l9SAyc2"
      },
      "source": [
        "metrics_df.loc[len(metrics_df)] = ['7 Input, biLSTM, 2 Dense', eval_results_4[0], eval_results_4[1], eval_results_4[2], eval_results_4[3], eval_results_4[4]]"
      ],
      "execution_count": null,
      "outputs": []
    },
    {
      "cell_type": "code",
      "metadata": {
        "colab": {
          "base_uri": "https://localhost:8080/",
          "height": 164
        },
        "id": "pomGSV-nAnZJ",
        "outputId": "30a4e807-f47f-4f87-a707-937c1bbd3d01"
      },
      "source": [
        "metrics_df"
      ],
      "execution_count": 104,
      "outputs": [
        {
          "output_type": "execute_result",
          "data": {
            "text/html": [
              "<div>\n",
              "<style scoped>\n",
              "    .dataframe tbody tr th:only-of-type {\n",
              "        vertical-align: middle;\n",
              "    }\n",
              "\n",
              "    .dataframe tbody tr th {\n",
              "        vertical-align: top;\n",
              "    }\n",
              "\n",
              "    .dataframe thead th {\n",
              "        text-align: right;\n",
              "    }\n",
              "</style>\n",
              "<table border=\"1\" class=\"dataframe\">\n",
              "  <thead>\n",
              "    <tr style=\"text-align: right;\">\n",
              "      <th></th>\n",
              "      <th>Model type</th>\n",
              "      <th>Loss</th>\n",
              "      <th>Accuracy</th>\n",
              "      <th>Precision</th>\n",
              "      <th>Recall</th>\n",
              "      <th>Custom accuracy</th>\n",
              "    </tr>\n",
              "  </thead>\n",
              "  <tbody>\n",
              "    <tr>\n",
              "      <th>0</th>\n",
              "      <td>4 Input, biLSTM, Dense</td>\n",
              "      <td>0.079551</td>\n",
              "      <td>0.905396</td>\n",
              "      <td>0.912322</td>\n",
              "      <td>0.899707</td>\n",
              "      <td>0.693643</td>\n",
              "    </tr>\n",
              "    <tr>\n",
              "      <th>1</th>\n",
              "      <td>7 Input, biLSTM, Dense</td>\n",
              "      <td>0.069799</td>\n",
              "      <td>0.908815</td>\n",
              "      <td>0.925157</td>\n",
              "      <td>0.894731</td>\n",
              "      <td>0.599692</td>\n",
              "    </tr>\n",
              "    <tr>\n",
              "      <th>2</th>\n",
              "      <td>7 Input, biLSTM, Dense</td>\n",
              "      <td>0.066909</td>\n",
              "      <td>0.917183</td>\n",
              "      <td>0.939530</td>\n",
              "      <td>0.899043</td>\n",
              "      <td>0.658773</td>\n",
              "    </tr>\n",
              "    <tr>\n",
              "      <th>3</th>\n",
              "      <td>7 Input, biLSTM, 2 Dense</td>\n",
              "      <td>0.071474</td>\n",
              "      <td>0.915576</td>\n",
              "      <td>0.940868</td>\n",
              "      <td>0.900804</td>\n",
              "      <td>0.681202</td>\n",
              "    </tr>\n",
              "  </tbody>\n",
              "</table>\n",
              "</div>"
            ],
            "text/plain": [
              "                 Model type      Loss  ...    Recall  Custom accuracy\n",
              "0    4 Input, biLSTM, Dense  0.079551  ...  0.899707         0.693643\n",
              "1    7 Input, biLSTM, Dense  0.069799  ...  0.894731         0.599692\n",
              "2    7 Input, biLSTM, Dense  0.066909  ...  0.899043         0.658773\n",
              "3  7 Input, biLSTM, 2 Dense  0.071474  ...  0.900804         0.681202\n",
              "\n",
              "[4 rows x 6 columns]"
            ]
          },
          "metadata": {
            "tags": []
          },
          "execution_count": 104
        }
      ]
    },
    {
      "cell_type": "code",
      "metadata": {
        "id": "ypBiOoOAeHyC"
      },
      "source": [
        "preds_4 = model_4.predict([X_test_sent, X_test_pos, X_test_rank, X_test_morph, X_test_rel, X_test_head, X_test_headpos])"
      ],
      "execution_count": 102,
      "outputs": []
    },
    {
      "cell_type": "code",
      "metadata": {
        "id": "6Xl8EvB0A09S"
      },
      "source": [
        "pred_pr_4 = predicate_precision(y_test, preds_4).numpy()\n",
        "pred_re_4 = predicate_recall(y_test, preds_4).numpy()\n",
        "agent_pr_4 = agent_precision(y_test, preds_4).numpy()\n",
        "agent_re_4 = agent_recall(y_test, preds_4).numpy()\n",
        "patient_pr_4 = patient_precision(y_test, preds_4).numpy()\n",
        "patient_re_4 = patient_recall(y_test, preds_4).numpy()"
      ],
      "execution_count": 105,
      "outputs": []
    },
    {
      "cell_type": "code",
      "metadata": {
        "id": "8qnki_MqA2VL"
      },
      "source": [
        "role_metrics_df.loc[len(role_metrics_df)] = ['7 Input, Dense, biLSTM, 2 Dense', pred_pr_4, pred_re_4, agent_pr_4, agent_re_4, patient_pr_4, patient_re_4]"
      ],
      "execution_count": 106,
      "outputs": []
    },
    {
      "cell_type": "code",
      "metadata": {
        "colab": {
          "base_uri": "https://localhost:8080/",
          "height": 164
        },
        "id": "x4W0Cqsjef61",
        "outputId": "aa054bc6-3ace-4108-a06f-d87efa52c8e4"
      },
      "source": [
        "role_metrics_df"
      ],
      "execution_count": 109,
      "outputs": [
        {
          "output_type": "execute_result",
          "data": {
            "text/html": [
              "<div>\n",
              "<style scoped>\n",
              "    .dataframe tbody tr th:only-of-type {\n",
              "        vertical-align: middle;\n",
              "    }\n",
              "\n",
              "    .dataframe tbody tr th {\n",
              "        vertical-align: top;\n",
              "    }\n",
              "\n",
              "    .dataframe thead th {\n",
              "        text-align: right;\n",
              "    }\n",
              "</style>\n",
              "<table border=\"1\" class=\"dataframe\">\n",
              "  <thead>\n",
              "    <tr style=\"text-align: right;\">\n",
              "      <th></th>\n",
              "      <th>Model type</th>\n",
              "      <th>Predicate Precision</th>\n",
              "      <th>Predicate Recall</th>\n",
              "      <th>Agent Precision</th>\n",
              "      <th>Agent Recall</th>\n",
              "      <th>Patient Precision</th>\n",
              "      <th>Patient Recall</th>\n",
              "    </tr>\n",
              "  </thead>\n",
              "  <tbody>\n",
              "    <tr>\n",
              "      <th>0</th>\n",
              "      <td>4 Input, biLSTM, Dense</td>\n",
              "      <td>0.706337</td>\n",
              "      <td>0.322058</td>\n",
              "      <td>0.250000</td>\n",
              "      <td>0.003497</td>\n",
              "      <td>0.000000</td>\n",
              "      <td>0.000</td>\n",
              "    </tr>\n",
              "    <tr>\n",
              "      <th>1</th>\n",
              "      <td>7 Input, biLSTM, Dense</td>\n",
              "      <td>0.635135</td>\n",
              "      <td>0.496829</td>\n",
              "      <td>0.488372</td>\n",
              "      <td>0.073427</td>\n",
              "      <td>0.483871</td>\n",
              "      <td>0.060</td>\n",
              "    </tr>\n",
              "    <tr>\n",
              "      <th>2</th>\n",
              "      <td>7 Input, Dense, biLSTM, Dense</td>\n",
              "      <td>0.726502</td>\n",
              "      <td>0.664553</td>\n",
              "      <td>0.451613</td>\n",
              "      <td>0.195804</td>\n",
              "      <td>0.413333</td>\n",
              "      <td>0.124</td>\n",
              "    </tr>\n",
              "    <tr>\n",
              "      <th>3</th>\n",
              "      <td>7 Input, Dense, biLSTM, 2 Dense</td>\n",
              "      <td>0.751177</td>\n",
              "      <td>0.674419</td>\n",
              "      <td>0.352941</td>\n",
              "      <td>0.083916</td>\n",
              "      <td>0.247525</td>\n",
              "      <td>0.100</td>\n",
              "    </tr>\n",
              "  </tbody>\n",
              "</table>\n",
              "</div>"
            ],
            "text/plain": [
              "                        Model type  ...  Patient Recall\n",
              "0           4 Input, biLSTM, Dense  ...           0.000\n",
              "1           7 Input, biLSTM, Dense  ...           0.060\n",
              "2    7 Input, Dense, biLSTM, Dense  ...           0.124\n",
              "3  7 Input, Dense, biLSTM, 2 Dense  ...           0.100\n",
              "\n",
              "[4 rows x 7 columns]"
            ]
          },
          "metadata": {
            "tags": []
          },
          "execution_count": 109
        }
      ]
    },
    {
      "cell_type": "code",
      "metadata": {
        "colab": {
          "base_uri": "https://localhost:8080/"
        },
        "id": "yQj5ZTfHJkFW",
        "outputId": "f68401f2-fad3-472e-9659-0f71ed357e8d"
      },
      "source": [
        "all_roles = []\n",
        "for y in tqdm(preds_4):\n",
        "    for pred in y:\n",
        "        try:\n",
        "            all_roles.append(id2role[np.argmax(pred)])\n",
        "        except:\n",
        "            pass"
      ],
      "execution_count": 110,
      "outputs": [
        {
          "output_type": "stream",
          "text": [
            "100%|██████████| 1591/1591 [00:00<00:00, 2816.08it/s]\n"
          ],
          "name": "stderr"
        }
      ]
    },
    {
      "cell_type": "code",
      "metadata": {
        "colab": {
          "base_uri": "https://localhost:8080/"
        },
        "id": "xyahuH8DJxOa",
        "outputId": "33cd3108-6c3f-4fb9-f774-63672ad74beb"
      },
      "source": [
        "Counter(all_roles)"
      ],
      "execution_count": 111,
      "outputs": [
        {
          "output_type": "execute_result",
          "data": {
            "text/plain": [
              "Counter({'_': 194159,\n",
              "         'агенс': 68,\n",
              "         'говорящий': 3,\n",
              "         'место': 1,\n",
              "         'пациенс': 101,\n",
              "         'предикат': 1274,\n",
              "         'причина': 31,\n",
              "         'субъект перемещения': 8,\n",
              "         'субъект психологического состояния': 42,\n",
              "         'тема': 6})"
            ]
          },
          "metadata": {
            "tags": []
          },
          "execution_count": 111
        }
      ]
    },
    {
      "cell_type": "markdown",
      "metadata": {
        "id": "tE0sijnA56y_"
      },
      "source": [
        "# Сравнение эмбеддингов"
      ]
    },
    {
      "cell_type": "code",
      "metadata": {
        "id": "n2yPwHFp_ye7"
      },
      "source": [
        "# один вход для лексических эмбеддингов\n",
        "word_in = Input(shape=(sent_max_len))\n",
        "emb_word = Embedding(input_dim=len(word2id), output_dim=300, trainable=False, weights=[weights_2], mask_zero=True)(word_in)\n",
        "word_dense = Dense(128, activation='relu')(emb_word)\n",
        "word_dense = Dropout(0.3)(word_dense)\n",
        "\n",
        "# другой вход для частей речи\n",
        "pos_in = Input(shape=(sent_max_len))\n",
        "emb_pos = Embedding(input_dim=len(pos2id), output_dim=20, mask_zero=True)(pos_in)\n",
        "pos_dense = Dense(128, activation='relu')(emb_pos)\n",
        "pos_dense = Dropout(0.3)(pos_dense)\n",
        "\n",
        "# и вход для синтаксических рангов\n",
        "rank_in = Input(shape=(sent_max_len))\n",
        "emb_rank = Embedding(input_dim=len(rank2id), output_dim=30, mask_zero=True)(rank_in)\n",
        "rank_dense = Dense(128, activation='relu')(emb_rank)\n",
        "rank_dense = Dropout(0.3)(rank_dense)\n",
        "\n",
        "# и вход для морф признаков\n",
        "morph_in = Input(shape=(sent_max_len))\n",
        "emb_morph = Embedding(input_dim=len(morph2id), output_dim=100, mask_zero=True)(morph_in)\n",
        "morph_dense = Dense(128, activation='relu')(emb_morph)\n",
        "morph_dense = Dropout(0.3)(morph_dense)\n",
        "\n",
        "# и вход для отношения к вершине\n",
        "rel_in = Input(shape=(sent_max_len))\n",
        "emb_rel = Embedding(input_dim=len(rel2id), output_dim=20, mask_zero=True)(rel_in)\n",
        "rel_dense = Dense(128, activation='relu')(emb_rel)\n",
        "rel_dense = Dropout(0.3)(rel_dense)\n",
        "\n",
        "# один вход для лексических эмбеддингов вершин\n",
        "head_in = Input(shape=(sent_max_len))\n",
        "emb_head = Embedding(input_dim=len(word2id), output_dim=300, trainable=False, weights=[weights_2], mask_zero=True)(head_in)\n",
        "head_dense = Dense(128, activation='relu')(emb_head)\n",
        "head_dense = Dropout(0.3)(head_dense)\n",
        "\n",
        "# другой вход для частей речи вершин\n",
        "headpos_in = Input(shape=(sent_max_len))\n",
        "emb_headpos = Embedding(input_dim=len(pos2id), output_dim=20, mask_zero=True)(headpos_in)\n",
        "headpos_dense = Dense(128, activation='relu')(emb_headpos)\n",
        "headpos_dense = Dropout(0.3)(headpos_dense)\n",
        "\n",
        "x = concatenate([word_dense, pos_dense, rank_dense, morph_dense, rel_dense, head_dense, headpos_dense])\n",
        "\n",
        "main_lstm = Bidirectional(LSTM(units=128, return_sequences=True,\n",
        "                               recurrent_dropout=0.2))(x)\n",
        "\n",
        "out_1 = TimeDistributed(Dense(128, activation=\"relu\"))(main_lstm)\n",
        "dropout = Dropout(0.5)(out_1)\n",
        "\n",
        "out = TimeDistributed(Dense(len(role2id), activation=\"softmax\"))(dropout)\n",
        "\n",
        "model_4_2 = Model(inputs=[word_in, pos_in, rank_in, morph_in, rel_in, head_in, headpos_in], outputs=out)\n",
        "\n",
        "\n",
        "optimizer = optimizers.Adam(learning_rate=0.001)\n",
        "model_4_2.compile(optimizer=optimizer, loss=\"categorical_crossentropy\", metrics=[\"acc\", Precision(), Recall(), ignore_accuracy])"
      ],
      "execution_count": null,
      "outputs": []
    },
    {
      "cell_type": "code",
      "metadata": {
        "id": "IYLnHj-fBOmJ"
      },
      "source": [
        "model_4_2.fit([X_train_sent, X_train_pos, X_train_rank, X_train_morph, X_train_rel, X_train_head, X_train_headpos], y_train,\n",
        "          validation_data=([X_val_sent, X_val_pos, X_val_rank, X_val_morph, X_val_rel, X_val_head, X_val_headpos], y_val),\n",
        "          batch_size=128, epochs=15, verbose=1)"
      ],
      "execution_count": null,
      "outputs": []
    },
    {
      "cell_type": "code",
      "metadata": {
        "id": "N6ZFnt9Q_9Y-"
      },
      "source": [
        "# один вход для лексических эмбеддингов\n",
        "word_in = Input(shape=(sent_max_len))\n",
        "emb_word = Embedding(input_dim=len(word2id), output_dim=300, trainable=False, weights=[weights_3], mask_zero=True)(word_in)\n",
        "word_dense = Dense(128, activation='relu')(emb_word)\n",
        "word_dense = Dropout(0.3)(word_dense)\n",
        "\n",
        "# другой вход для частей речи\n",
        "pos_in = Input(shape=(sent_max_len))\n",
        "emb_pos = Embedding(input_dim=len(pos2id), output_dim=20, mask_zero=True)(pos_in)\n",
        "pos_dense = Dense(128, activation='relu')(emb_pos)\n",
        "pos_dense = Dropout(0.3)(pos_dense)\n",
        "\n",
        "# и вход для синтаксических рангов\n",
        "rank_in = Input(shape=(sent_max_len))\n",
        "emb_rank = Embedding(input_dim=len(rank2id), output_dim=30, mask_zero=True)(rank_in)\n",
        "rank_dense = Dense(128, activation='relu')(emb_rank)\n",
        "rank_dense = Dropout(0.3)(rank_dense)\n",
        "\n",
        "# и вход для морф признаков\n",
        "morph_in = Input(shape=(sent_max_len))\n",
        "emb_morph = Embedding(input_dim=len(morph2id), output_dim=100, mask_zero=True)(morph_in)\n",
        "morph_dense = Dense(128, activation='relu')(emb_morph)\n",
        "morph_dense = Dropout(0.3)(morph_dense)\n",
        "\n",
        "# и вход для отношения к вершине\n",
        "rel_in = Input(shape=(sent_max_len))\n",
        "emb_rel = Embedding(input_dim=len(rel2id), output_dim=20, mask_zero=True)(rel_in)\n",
        "rel_dense = Dense(128, activation='relu')(emb_rel)\n",
        "rel_dense = Dropout(0.3)(rel_dense)\n",
        "\n",
        "# один вход для лексических эмбеддингов вершин\n",
        "head_in = Input(shape=(sent_max_len))\n",
        "emb_head = Embedding(input_dim=len(word2id), output_dim=300, trainable=False, weights=[weights_3], mask_zero=True)(head_in)\n",
        "head_dense = Dense(128, activation='relu')(emb_head)\n",
        "head_dense = Dropout(0.3)(head_dense)\n",
        "\n",
        "# другой вход для частей речи вершин\n",
        "headpos_in = Input(shape=(sent_max_len))\n",
        "emb_headpos = Embedding(input_dim=len(pos2id), output_dim=20, mask_zero=True)(headpos_in)\n",
        "headpos_dense = Dense(128, activation='relu')(emb_headpos)\n",
        "headpos_dense = Dropout(0.3)(headpos_dense)\n",
        "\n",
        "x = concatenate([word_dense, pos_dense, rank_dense, morph_dense, rel_dense, head_dense, headpos_dense])\n",
        "\n",
        "main_lstm = Bidirectional(LSTM(units=128, return_sequences=True,\n",
        "                               recurrent_dropout=0.2))(x)\n",
        "\n",
        "out_1 = TimeDistributed(Dense(128, activation=\"relu\"))(main_lstm)\n",
        "dropout = Dropout(0.5)(out_1)\n",
        "\n",
        "out = TimeDistributed(Dense(len(role2id), activation=\"softmax\"))(dropout)\n",
        "\n",
        "model_4 = Model(inputs=[word_in, pos_in, rank_in, morph_in, rel_in, head_in, headpos_in], outputs=out)\n",
        "\n",
        "\n",
        "optimizer = optimizers.Adam(learning_rate=0.001)\n",
        "model_4.compile(optimizer=optimizer, loss=\"categorical_crossentropy\", metrics=[\"acc\", Precision(), Recall(), ignore_accuracy])"
      ],
      "execution_count": null,
      "outputs": []
    },
    {
      "cell_type": "markdown",
      "metadata": {
        "id": "bEDdnXp0HVvw"
      },
      "source": [
        "# Предсказание"
      ]
    },
    {
      "cell_type": "code",
      "metadata": {
        "id": "5IFyj9JLHW0e"
      },
      "source": [
        "data_file = open(\"ru_syntagrus-ud-test.conllu\", \"r\", encoding=\"utf-8\")\n",
        "rows = data_file.read().strip().split('#')[1:]"
      ],
      "execution_count": null,
      "outputs": []
    },
    {
      "cell_type": "code",
      "metadata": {
        "colab": {
          "base_uri": "https://localhost:8080/"
        },
        "id": "znEVV3_qAQdQ",
        "outputId": "daad2092-a328-4a5b-9621-9386ee4c6a43"
      },
      "source": [
        "syntagrus = pd.DataFrame()\n",
        "for i in tqdm(range(len(rows))):\n",
        "    if i % 2 == 0:\n",
        "        id = rows[i].split('=')[1].strip()\n",
        "    else:\n",
        "        new_sent = []\n",
        "        words = rows[i].split('\\n')[1:-2]\n",
        "        for word in words:\n",
        "            info = word.split('\\t') + [id]\n",
        "            new_sent.append(info)\n",
        "        syntagrus = syntagrus.append(pd.DataFrame(new_sent), ignore_index=True)"
      ],
      "execution_count": null,
      "outputs": [
        {
          "output_type": "stream",
          "text": [
            "100%|██████████| 12982/12982 [01:43<00:00, 125.86it/s]\n"
          ],
          "name": "stderr"
        }
      ]
    },
    {
      "cell_type": "code",
      "metadata": {
        "id": "d0KOF18kd1HK"
      },
      "source": [
        "syntagrus.columns = ['index', 'wordform', 'lemma', 'POS', 'Xpos', 'features', 'parent', 'link_name', 'relation', 'space', 'FullIndex']"
      ],
      "execution_count": null,
      "outputs": []
    },
    {
      "cell_type": "code",
      "metadata": {
        "colab": {
          "base_uri": "https://localhost:8080/",
          "height": 194
        },
        "id": "BBxrmI8aHfDG",
        "outputId": "81f81b4d-fdf5-4104-85ae-699d28490053"
      },
      "source": [
        "syntagrus.head()"
      ],
      "execution_count": null,
      "outputs": [
        {
          "output_type": "execute_result",
          "data": {
            "text/html": [
              "<div>\n",
              "<style scoped>\n",
              "    .dataframe tbody tr th:only-of-type {\n",
              "        vertical-align: middle;\n",
              "    }\n",
              "\n",
              "    .dataframe tbody tr th {\n",
              "        vertical-align: top;\n",
              "    }\n",
              "\n",
              "    .dataframe thead th {\n",
              "        text-align: right;\n",
              "    }\n",
              "</style>\n",
              "<table border=\"1\" class=\"dataframe\">\n",
              "  <thead>\n",
              "    <tr style=\"text-align: right;\">\n",
              "      <th></th>\n",
              "      <th>index</th>\n",
              "      <th>wordform</th>\n",
              "      <th>lemma</th>\n",
              "      <th>POS</th>\n",
              "      <th>Xpos</th>\n",
              "      <th>features</th>\n",
              "      <th>parent</th>\n",
              "      <th>link_name</th>\n",
              "      <th>relation</th>\n",
              "      <th>space</th>\n",
              "      <th>FullIndex</th>\n",
              "    </tr>\n",
              "  </thead>\n",
              "  <tbody>\n",
              "    <tr>\n",
              "      <th>0</th>\n",
              "      <td>1</td>\n",
              "      <td>В</td>\n",
              "      <td>в</td>\n",
              "      <td>ADP</td>\n",
              "      <td>_</td>\n",
              "      <td>_</td>\n",
              "      <td>3</td>\n",
              "      <td>case</td>\n",
              "      <td>3:case</td>\n",
              "      <td>_</td>\n",
              "      <td>2003Armeniya.xml_1</td>\n",
              "    </tr>\n",
              "    <tr>\n",
              "      <th>1</th>\n",
              "      <td>2</td>\n",
              "      <td>советский</td>\n",
              "      <td>советский</td>\n",
              "      <td>ADJ</td>\n",
              "      <td>_</td>\n",
              "      <td>Animacy=Inan|Case=Acc|Degree=Pos|Gender=Masc|N...</td>\n",
              "      <td>3</td>\n",
              "      <td>amod</td>\n",
              "      <td>3:amod</td>\n",
              "      <td>_</td>\n",
              "      <td>2003Armeniya.xml_1</td>\n",
              "    </tr>\n",
              "    <tr>\n",
              "      <th>2</th>\n",
              "      <td>3</td>\n",
              "      <td>период</td>\n",
              "      <td>период</td>\n",
              "      <td>NOUN</td>\n",
              "      <td>_</td>\n",
              "      <td>Animacy=Inan|Case=Acc|Gender=Masc|Number=Sing</td>\n",
              "      <td>11</td>\n",
              "      <td>obl</td>\n",
              "      <td>11:obl</td>\n",
              "      <td>_</td>\n",
              "      <td>2003Armeniya.xml_1</td>\n",
              "    </tr>\n",
              "    <tr>\n",
              "      <th>3</th>\n",
              "      <td>4</td>\n",
              "      <td>времени</td>\n",
              "      <td>время</td>\n",
              "      <td>NOUN</td>\n",
              "      <td>_</td>\n",
              "      <td>Animacy=Inan|Case=Gen|Gender=Neut|Number=Sing</td>\n",
              "      <td>3</td>\n",
              "      <td>nmod</td>\n",
              "      <td>3:nmod</td>\n",
              "      <td>_</td>\n",
              "      <td>2003Armeniya.xml_1</td>\n",
              "    </tr>\n",
              "    <tr>\n",
              "      <th>4</th>\n",
              "      <td>5</td>\n",
              "      <td>число</td>\n",
              "      <td>число</td>\n",
              "      <td>NOUN</td>\n",
              "      <td>_</td>\n",
              "      <td>Animacy=Inan|Case=Acc|Gender=Neut|Number=Sing</td>\n",
              "      <td>11</td>\n",
              "      <td>obj</td>\n",
              "      <td>11:obj</td>\n",
              "      <td>_</td>\n",
              "      <td>2003Armeniya.xml_1</td>\n",
              "    </tr>\n",
              "  </tbody>\n",
              "</table>\n",
              "</div>"
            ],
            "text/plain": [
              "  index   wordform      lemma  ... relation space           FullIndex\n",
              "0     1          В          в  ...   3:case     _  2003Armeniya.xml_1\n",
              "1     2  советский  советский  ...   3:amod     _  2003Armeniya.xml_1\n",
              "2     3     период     период  ...   11:obl     _  2003Armeniya.xml_1\n",
              "3     4    времени      время  ...   3:nmod     _  2003Armeniya.xml_1\n",
              "4     5      число      число  ...   11:obj     _  2003Armeniya.xml_1\n",
              "\n",
              "[5 rows x 11 columns]"
            ]
          },
          "metadata": {
            "tags": []
          },
          "execution_count": 127
        }
      ]
    },
    {
      "cell_type": "code",
      "metadata": {
        "colab": {
          "base_uri": "https://localhost:8080/"
        },
        "id": "ThjndVudZNmB",
        "outputId": "4cbb9ff2-e32b-4ffc-d1b2-5decef16b6de"
      },
      "source": [
        "len(syntagrus)"
      ],
      "execution_count": null,
      "outputs": [
        {
          "output_type": "execute_result",
          "data": {
            "text/plain": [
              "117521"
            ]
          },
          "metadata": {
            "tags": []
          },
          "execution_count": 129
        }
      ]
    },
    {
      "cell_type": "code",
      "metadata": {
        "id": "jHk3FnV2ZXrq"
      },
      "source": [
        "for index, row in tqdm(syntagrus.iterrows()):\n",
        "    parent = row.parent\n",
        "    fullindex = row.FullIndex\n",
        "    if parent != '0':\n",
        "        value = syntagrus.loc[(syntagrus['FullIndex'] == fullindex) & (syntagrus['index'] == parent)]\n",
        "        syntagrus.loc[index, 'lemma_parent'] = value['lemma'].values[0]\n",
        "        syntagrus.loc[index, 'pos_parent'] = value['POS'].values[0]\n",
        "    else:\n",
        "        syntagrus.loc[index, 'lemma_parent'] = '_'\n",
        "        syntagrus.loc[index, 'pos_parent'] = '_'"
      ],
      "execution_count": null,
      "outputs": []
    },
    {
      "cell_type": "code",
      "metadata": {
        "id": "XiNd8RMyqyPR"
      },
      "source": [
        "syntagrus.to_csv('syntagrus_modified.xlsx', sep='\\t')"
      ],
      "execution_count": null,
      "outputs": []
    },
    {
      "cell_type": "code",
      "metadata": {
        "id": "BOtP7AIlGcT0"
      },
      "source": [
        "syntagrus = pd.read_csv('syntagrus_modified.xlsx', sep='\\t', index_col=0)"
      ],
      "execution_count": 112,
      "outputs": []
    },
    {
      "cell_type": "code",
      "metadata": {
        "id": "E9z6oY78hATA"
      },
      "source": [
        "syntagrus.drop(syntagrus[syntagrus.parent == '_'].index, inplace=True)"
      ],
      "execution_count": 113,
      "outputs": []
    },
    {
      "cell_type": "code",
      "metadata": {
        "id": "3ZSvN0HtZQYf"
      },
      "source": [
        "def create_parent_index(self_index, parent_index):\n",
        "    if int(parent_index) != 0:\n",
        "        return int(parent_index) - int(self_index)\n",
        "    else:\n",
        "        return 0"
      ],
      "execution_count": 114,
      "outputs": []
    },
    {
      "cell_type": "code",
      "metadata": {
        "id": "c8n9NffPRUkg",
        "colab": {
          "base_uri": "https://localhost:8080/"
        },
        "outputId": "0a28bbf6-7dcd-4ffa-c88b-3394cb277daa"
      },
      "source": [
        "syntagrus['rel'] = syntagrus[['index', 'parent']].progress_apply(lambda x: create_parent_index(*x), axis=1)"
      ],
      "execution_count": 115,
      "outputs": [
        {
          "output_type": "stream",
          "text": [
            "100%|██████████| 117327/117327 [00:01<00:00, 96214.21it/s] \n"
          ],
          "name": "stderr"
        }
      ]
    },
    {
      "cell_type": "code",
      "metadata": {
        "id": "GZ_RqKX4i4IJ"
      },
      "source": [
        "sent_groups = syntagrus.groupby('FullIndex').indices\n",
        "sent_indices = sent_groups.keys()"
      ],
      "execution_count": 116,
      "outputs": []
    },
    {
      "cell_type": "code",
      "metadata": {
        "id": "Av4PeWG3qUXa"
      },
      "source": [
        "sent_max_len = syntagrus['FullIndex'].value_counts().max()"
      ],
      "execution_count": 117,
      "outputs": []
    },
    {
      "cell_type": "code",
      "metadata": {
        "id": "8dc9AgapieCU"
      },
      "source": [
        "def data2ints(column, smth2id):\n",
        "    int_data = []\n",
        "    for full_index in sent_indices:\n",
        "        start = sent_groups[full_index][0]\n",
        "        end = sent_groups[full_index][-1]\n",
        "        seq = column[start:end+1]\n",
        "        int_seq = []\n",
        "        for i in seq:\n",
        "            int_seq.append(smth2id.get(i, 1))\n",
        "        int_data.append(int_seq)\n",
        "    return int_data"
      ],
      "execution_count": 118,
      "outputs": []
    },
    {
      "cell_type": "code",
      "metadata": {
        "id": "iJIyQGYZPYxx"
      },
      "source": [
        "X_synt_sent_ids = data2ints(syntagrus.lemma, word2id)\n",
        "X_synt_pos_ids = data2ints(syntagrus.POS, pos2id)\n",
        "X_synt_rank_ids = data2ints(syntagrus.link_name, rank2id)\n",
        "X_synt_morph_ids = data2ints(syntagrus.features, morph2id)\n",
        "X_synt_rel_ids = data2ints(syntagrus.rel, rel2id)\n",
        "X_synt_head_ids = data2ints(syntagrus.lemma_parent, word2id)\n",
        "X_synt_headpos_ids = data2ints(syntagrus.pos_parent, pos2id)"
      ],
      "execution_count": 119,
      "outputs": []
    },
    {
      "cell_type": "code",
      "metadata": {
        "id": "s9zWAkJ8SR41"
      },
      "source": [
        "X_synt_sent = pad_sequences(X_synt_sent_ids, maxlen=sent_max_len, padding='post')\n",
        "X_synt_pos = pad_sequences(X_synt_pos_ids, maxlen=sent_max_len, padding='post')\n",
        "X_synt_rank = pad_sequences(X_synt_rank_ids, maxlen=sent_max_len, padding='post')\n",
        "X_synt_morph = pad_sequences(X_synt_morph_ids, maxlen=sent_max_len, padding='post')\n",
        "X_synt_rel = pad_sequences(X_synt_rel_ids, maxlen=sent_max_len, padding='post')\n",
        "X_synt_head = pad_sequences(X_synt_head_ids, maxlen=sent_max_len, padding='post')\n",
        "X_synt_headpos = pad_sequences(X_synt_headpos_ids, maxlen=sent_max_len, padding='post')"
      ],
      "execution_count": 120,
      "outputs": []
    },
    {
      "cell_type": "markdown",
      "metadata": {
        "id": "J5g28pbfEpK7"
      },
      "source": [
        "## Предсказание модели 4"
      ]
    },
    {
      "cell_type": "code",
      "metadata": {
        "id": "HRhpuVt6SSFn"
      },
      "source": [
        "y_pred = model_4.predict([X_synt_sent, X_synt_pos, X_synt_rank, X_synt_morph, X_synt_rel, X_synt_head, X_synt_headpos])"
      ],
      "execution_count": 121,
      "outputs": []
    },
    {
      "cell_type": "code",
      "metadata": {
        "id": "k115PH8skExw",
        "colab": {
          "base_uri": "https://localhost:8080/"
        },
        "outputId": "392eac49-2334-4dcc-e9b5-7342e0a3dd2d"
      },
      "source": [
        "all_roles = []\n",
        "for y in tqdm(y_pred):\n",
        "    for pred in y:\n",
        "        try:\n",
        "            all_roles.append(id2role[np.argmax(pred)])\n",
        "        except:\n",
        "            pass"
      ],
      "execution_count": 122,
      "outputs": [
        {
          "output_type": "stream",
          "text": [
            "100%|██████████| 6491/6491 [00:02<00:00, 3129.28it/s]\n"
          ],
          "name": "stderr"
        }
      ]
    },
    {
      "cell_type": "code",
      "metadata": {
        "colab": {
          "base_uri": "https://localhost:8080/"
        },
        "id": "Y7AEjPsKTVji",
        "outputId": "0b093d4c-da54-4fbe-9feb-2a3c2842259f"
      },
      "source": [
        "Counter(all_roles)"
      ],
      "execution_count": 123,
      "outputs": [
        {
          "output_type": "execute_result",
          "data": {
            "text/plain": [
              "Counter({'_': 797107,\n",
              "         'агенс': 39,\n",
              "         'говорящий': 1,\n",
              "         'пациенс': 33,\n",
              "         'предикат': 1158,\n",
              "         'причина': 25,\n",
              "         'субъект перемещения': 2,\n",
              "         'субъект психологического состояния': 23,\n",
              "         'тема': 5})"
            ]
          },
          "metadata": {
            "tags": []
          },
          "execution_count": 123
        }
      ]
    },
    {
      "cell_type": "code",
      "metadata": {
        "id": "6JZ9HbIlzrQD",
        "colab": {
          "base_uri": "https://localhost:8080/"
        },
        "outputId": "888ccd75-f46c-41aa-fb65-3e6dce79063b"
      },
      "source": [
        "final_df = pd.DataFrame()\n",
        "\n",
        "for key, roles in tqdm(list(zip(sent_indices, y_pred))):\n",
        "    max_len = len(sent_groups[key])\n",
        "    list_of_roles = []\n",
        "    for pred in roles[:max_len]:\n",
        "        list_of_roles.append(id2role[np.argmax(pred)])\n",
        "    new_df = syntagrus[syntagrus['FullIndex'] == key]\n",
        "    new_df['role'] = list_of_roles\n",
        "    final_df = final_df.append(new_df, ignore_index=True)"
      ],
      "execution_count": 124,
      "outputs": [
        {
          "output_type": "stream",
          "text": [
            "100%|██████████| 6491/6491 [04:04<00:00, 26.55it/s]\n"
          ],
          "name": "stderr"
        }
      ]
    },
    {
      "cell_type": "code",
      "metadata": {
        "id": "1GDiiM77cRv2"
      },
      "source": [
        "final_df.drop(['lemma_parent', 'pos_parent', 'rel'], axis=1).to_csv('final_df_model_4.xlsx', sep='\\t')"
      ],
      "execution_count": 126,
      "outputs": []
    },
    {
      "cell_type": "markdown",
      "metadata": {
        "id": "A2m34GKSExOg"
      },
      "source": [
        "## Предсказание модели 3"
      ]
    },
    {
      "cell_type": "code",
      "metadata": {
        "id": "y0Ol-EBsEnNw"
      },
      "source": [
        "y_pred = model_3.predict([X_synt_sent, X_synt_pos, X_synt_rank, X_synt_morph, X_synt_rel, X_synt_head, X_synt_headpos])"
      ],
      "execution_count": 127,
      "outputs": []
    },
    {
      "cell_type": "code",
      "metadata": {
        "colab": {
          "base_uri": "https://localhost:8080/"
        },
        "id": "vZFcx8y6EnN0",
        "outputId": "f43180f9-aff3-4511-96e3-1617ccdf2f44"
      },
      "source": [
        "all_roles = []\n",
        "for y in tqdm(y_pred):\n",
        "    for pred in y:\n",
        "        try:\n",
        "            all_roles.append(id2role[np.argmax(pred)])\n",
        "        except:\n",
        "            pass"
      ],
      "execution_count": 128,
      "outputs": [
        {
          "output_type": "stream",
          "text": [
            "100%|██████████| 6491/6491 [00:02<00:00, 3132.32it/s]\n"
          ],
          "name": "stderr"
        }
      ]
    },
    {
      "cell_type": "code",
      "metadata": {
        "colab": {
          "base_uri": "https://localhost:8080/"
        },
        "id": "TvGaR5XkEnN1",
        "outputId": "4ff2f8f9-671c-4aae-8588-2462a3d926c0"
      },
      "source": [
        "Counter(all_roles)"
      ],
      "execution_count": 129,
      "outputs": [
        {
          "output_type": "execute_result",
          "data": {
            "text/plain": [
              "Counter({'_': 796514,\n",
              "         'агенс': 162,\n",
              "         'адресат': 6,\n",
              "         'говорящий': 77,\n",
              "         'конечная точка': 9,\n",
              "         'место': 6,\n",
              "         'пациенс': 46,\n",
              "         'пациенс перемещения': 2,\n",
              "         'предикат': 1351,\n",
              "         'причина': 20,\n",
              "         'результат': 9,\n",
              "         'содержание высказывания': 6,\n",
              "         'содержание мысли': 1,\n",
              "         'субъект перемещения': 78,\n",
              "         'субъект психологического состояния': 36,\n",
              "         'тема': 70})"
            ]
          },
          "metadata": {
            "tags": []
          },
          "execution_count": 129
        }
      ]
    },
    {
      "cell_type": "code",
      "metadata": {
        "colab": {
          "base_uri": "https://localhost:8080/"
        },
        "id": "uP_VB5u0EnN4",
        "outputId": "cdaa05c2-b431-477b-ea9c-f7297cf2c966"
      },
      "source": [
        "final_df_3 = pd.DataFrame()\n",
        "\n",
        "for key, roles in tqdm(list(zip(sent_indices, y_pred))):\n",
        "    max_len = len(sent_groups[key])\n",
        "    list_of_roles = []\n",
        "    for pred in roles[:max_len]:\n",
        "        list_of_roles.append(id2role[np.argmax(pred)])\n",
        "    new_df = syntagrus[syntagrus['FullIndex'] == key]\n",
        "    new_df['role'] = list_of_roles\n",
        "    final_df_3 = final_df_3.append(new_df, ignore_index=True)"
      ],
      "execution_count": 130,
      "outputs": [
        {
          "output_type": "stream",
          "text": [
            "100%|██████████| 6491/6491 [00:57<00:00, 112.16it/s]\n"
          ],
          "name": "stderr"
        }
      ]
    },
    {
      "cell_type": "code",
      "metadata": {
        "colab": {
          "base_uri": "https://localhost:8080/",
          "height": 839
        },
        "id": "qR_b1wMkEnN5",
        "outputId": "c601ce1d-91a4-4938-ac49-9fdcc99d727b"
      },
      "source": [
        "final_df_3.head(30)"
      ],
      "execution_count": 132,
      "outputs": [
        {
          "output_type": "execute_result",
          "data": {
            "text/html": [
              "<div>\n",
              "<style scoped>\n",
              "    .dataframe tbody tr th:only-of-type {\n",
              "        vertical-align: middle;\n",
              "    }\n",
              "\n",
              "    .dataframe tbody tr th {\n",
              "        vertical-align: top;\n",
              "    }\n",
              "\n",
              "    .dataframe thead th {\n",
              "        text-align: right;\n",
              "    }\n",
              "</style>\n",
              "<table border=\"1\" class=\"dataframe\">\n",
              "  <thead>\n",
              "    <tr style=\"text-align: right;\">\n",
              "      <th></th>\n",
              "      <th>index</th>\n",
              "      <th>wordform</th>\n",
              "      <th>lemma</th>\n",
              "      <th>POS</th>\n",
              "      <th>Xpos</th>\n",
              "      <th>features</th>\n",
              "      <th>parent</th>\n",
              "      <th>link_name</th>\n",
              "      <th>relation</th>\n",
              "      <th>space</th>\n",
              "      <th>FullIndex</th>\n",
              "      <th>lemma_parent</th>\n",
              "      <th>pos_parent</th>\n",
              "      <th>rel</th>\n",
              "      <th>role</th>\n",
              "    </tr>\n",
              "  </thead>\n",
              "  <tbody>\n",
              "    <tr>\n",
              "      <th>0</th>\n",
              "      <td>1</td>\n",
              "      <td>Принуждать</td>\n",
              "      <td>принуждать</td>\n",
              "      <td>VERB</td>\n",
              "      <td>_</td>\n",
              "      <td>Aspect=Imp|VerbForm=Inf|Voice=Act</td>\n",
              "      <td>17</td>\n",
              "      <td>csubj</td>\n",
              "      <td>17:csubj</td>\n",
              "      <td>_</td>\n",
              "      <td>uppsalaKorp_704.xml_9</td>\n",
              "      <td>мочь</td>\n",
              "      <td>VERB</td>\n",
              "      <td>16</td>\n",
              "      <td>_</td>\n",
              "    </tr>\n",
              "    <tr>\n",
              "      <th>1</th>\n",
              "      <td>2</td>\n",
              "      <td>людей</td>\n",
              "      <td>человек</td>\n",
              "      <td>NOUN</td>\n",
              "      <td>_</td>\n",
              "      <td>Animacy=Anim|Case=Acc|Gender=Masc|Number=Plur</td>\n",
              "      <td>1</td>\n",
              "      <td>obj</td>\n",
              "      <td>1:obj</td>\n",
              "      <td>_</td>\n",
              "      <td>uppsalaKorp_704.xml_9</td>\n",
              "      <td>принуждать</td>\n",
              "      <td>VERB</td>\n",
              "      <td>-1</td>\n",
              "      <td>_</td>\n",
              "    </tr>\n",
              "    <tr>\n",
              "      <th>2</th>\n",
              "      <td>3</td>\n",
              "      <td>к</td>\n",
              "      <td>к</td>\n",
              "      <td>ADP</td>\n",
              "      <td>_</td>\n",
              "      <td>_</td>\n",
              "      <td>4</td>\n",
              "      <td>case</td>\n",
              "      <td>4:case</td>\n",
              "      <td>_</td>\n",
              "      <td>uppsalaKorp_704.xml_9</td>\n",
              "      <td>изучение</td>\n",
              "      <td>NOUN</td>\n",
              "      <td>1</td>\n",
              "      <td>_</td>\n",
              "    </tr>\n",
              "    <tr>\n",
              "      <th>3</th>\n",
              "      <td>4</td>\n",
              "      <td>изучению</td>\n",
              "      <td>изучение</td>\n",
              "      <td>NOUN</td>\n",
              "      <td>_</td>\n",
              "      <td>Animacy=Inan|Case=Dat|Gender=Neut|Number=Sing</td>\n",
              "      <td>1</td>\n",
              "      <td>obl</td>\n",
              "      <td>1:obl</td>\n",
              "      <td>_</td>\n",
              "      <td>uppsalaKorp_704.xml_9</td>\n",
              "      <td>принуждать</td>\n",
              "      <td>VERB</td>\n",
              "      <td>-3</td>\n",
              "      <td>_</td>\n",
              "    </tr>\n",
              "    <tr>\n",
              "      <th>4</th>\n",
              "      <td>5</td>\n",
              "      <td>того</td>\n",
              "      <td>то</td>\n",
              "      <td>PRON</td>\n",
              "      <td>_</td>\n",
              "      <td>Animacy=Inan|Case=Gen|Gender=Neut|Number=Sing</td>\n",
              "      <td>4</td>\n",
              "      <td>nmod</td>\n",
              "      <td>4:nmod</td>\n",
              "      <td>SpaceAfter=No</td>\n",
              "      <td>uppsalaKorp_704.xml_9</td>\n",
              "      <td>изучение</td>\n",
              "      <td>NOUN</td>\n",
              "      <td>-1</td>\n",
              "      <td>_</td>\n",
              "    </tr>\n",
              "    <tr>\n",
              "      <th>5</th>\n",
              "      <td>6</td>\n",
              "      <td>,</td>\n",
              "      <td>,</td>\n",
              "      <td>PUNCT</td>\n",
              "      <td>_</td>\n",
              "      <td>_</td>\n",
              "      <td>11</td>\n",
              "      <td>punct</td>\n",
              "      <td>11:punct</td>\n",
              "      <td>_</td>\n",
              "      <td>uppsalaKorp_704.xml_9</td>\n",
              "      <td>желать</td>\n",
              "      <td>VERB</td>\n",
              "      <td>5</td>\n",
              "      <td>_</td>\n",
              "    </tr>\n",
              "    <tr>\n",
              "      <th>6</th>\n",
              "      <td>7</td>\n",
              "      <td>что</td>\n",
              "      <td>что</td>\n",
              "      <td>SCONJ</td>\n",
              "      <td>_</td>\n",
              "      <td>_</td>\n",
              "      <td>11</td>\n",
              "      <td>mark</td>\n",
              "      <td>11:mark</td>\n",
              "      <td>_</td>\n",
              "      <td>uppsalaKorp_704.xml_9</td>\n",
              "      <td>желать</td>\n",
              "      <td>VERB</td>\n",
              "      <td>4</td>\n",
              "      <td>_</td>\n",
              "    </tr>\n",
              "    <tr>\n",
              "      <th>7</th>\n",
              "      <td>8</td>\n",
              "      <td>они</td>\n",
              "      <td>они</td>\n",
              "      <td>PRON</td>\n",
              "      <td>_</td>\n",
              "      <td>Case=Nom|Number=Plur|Person=3</td>\n",
              "      <td>11</td>\n",
              "      <td>nsubj</td>\n",
              "      <td>11:nsubj</td>\n",
              "      <td>_</td>\n",
              "      <td>uppsalaKorp_704.xml_9</td>\n",
              "      <td>желать</td>\n",
              "      <td>VERB</td>\n",
              "      <td>3</td>\n",
              "      <td>_</td>\n",
              "    </tr>\n",
              "    <tr>\n",
              "      <th>8</th>\n",
              "      <td>9</td>\n",
              "      <td>знать</td>\n",
              "      <td>знать</td>\n",
              "      <td>VERB</td>\n",
              "      <td>_</td>\n",
              "      <td>Aspect=Imp|VerbForm=Inf|Voice=Act</td>\n",
              "      <td>11</td>\n",
              "      <td>xcomp</td>\n",
              "      <td>11:xcomp</td>\n",
              "      <td>_</td>\n",
              "      <td>uppsalaKorp_704.xml_9</td>\n",
              "      <td>желать</td>\n",
              "      <td>VERB</td>\n",
              "      <td>2</td>\n",
              "      <td>_</td>\n",
              "    </tr>\n",
              "    <tr>\n",
              "      <th>9</th>\n",
              "      <td>10</td>\n",
              "      <td>не</td>\n",
              "      <td>не</td>\n",
              "      <td>PART</td>\n",
              "      <td>_</td>\n",
              "      <td>_</td>\n",
              "      <td>11</td>\n",
              "      <td>advmod</td>\n",
              "      <td>11:advmod</td>\n",
              "      <td>_</td>\n",
              "      <td>uppsalaKorp_704.xml_9</td>\n",
              "      <td>желать</td>\n",
              "      <td>VERB</td>\n",
              "      <td>1</td>\n",
              "      <td>_</td>\n",
              "    </tr>\n",
              "    <tr>\n",
              "      <th>10</th>\n",
              "      <td>11</td>\n",
              "      <td>желают</td>\n",
              "      <td>желать</td>\n",
              "      <td>VERB</td>\n",
              "      <td>_</td>\n",
              "      <td>Aspect=Imp|Mood=Ind|Number=Plur|Person=3|Tense...</td>\n",
              "      <td>5</td>\n",
              "      <td>acl</td>\n",
              "      <td>5:acl</td>\n",
              "      <td>SpaceAfter=No</td>\n",
              "      <td>uppsalaKorp_704.xml_9</td>\n",
              "      <td>то</td>\n",
              "      <td>PRON</td>\n",
              "      <td>-6</td>\n",
              "      <td>_</td>\n",
              "    </tr>\n",
              "    <tr>\n",
              "      <th>11</th>\n",
              "      <td>12</td>\n",
              "      <td>,</td>\n",
              "      <td>,</td>\n",
              "      <td>PUNCT</td>\n",
              "      <td>_</td>\n",
              "      <td>_</td>\n",
              "      <td>1</td>\n",
              "      <td>punct</td>\n",
              "      <td>1:punct</td>\n",
              "      <td>_</td>\n",
              "      <td>uppsalaKorp_704.xml_9</td>\n",
              "      <td>принуждать</td>\n",
              "      <td>VERB</td>\n",
              "      <td>-11</td>\n",
              "      <td>_</td>\n",
              "    </tr>\n",
              "    <tr>\n",
              "      <th>12</th>\n",
              "      <td>13</td>\n",
              "      <td>ничего</td>\n",
              "      <td>ничто</td>\n",
              "      <td>PRON</td>\n",
              "      <td>_</td>\n",
              "      <td>Case=Gen</td>\n",
              "      <td>15</td>\n",
              "      <td>obl</td>\n",
              "      <td>15:obl</td>\n",
              "      <td>_</td>\n",
              "      <td>uppsalaKorp_704.xml_9</td>\n",
              "      <td>дать</td>\n",
              "      <td>VERB</td>\n",
              "      <td>2</td>\n",
              "      <td>_</td>\n",
              "    </tr>\n",
              "    <tr>\n",
              "      <th>13</th>\n",
              "      <td>14</td>\n",
              "      <td>путного</td>\n",
              "      <td>путный</td>\n",
              "      <td>ADJ</td>\n",
              "      <td>_</td>\n",
              "      <td>Case=Gen|Degree=Pos|Gender=Neut|Number=Sing</td>\n",
              "      <td>13</td>\n",
              "      <td>amod</td>\n",
              "      <td>13:amod</td>\n",
              "      <td>_</td>\n",
              "      <td>uppsalaKorp_704.xml_9</td>\n",
              "      <td>ничто</td>\n",
              "      <td>PRON</td>\n",
              "      <td>-1</td>\n",
              "      <td>_</td>\n",
              "    </tr>\n",
              "    <tr>\n",
              "      <th>14</th>\n",
              "      <td>15</td>\n",
              "      <td>дать</td>\n",
              "      <td>дать</td>\n",
              "      <td>VERB</td>\n",
              "      <td>_</td>\n",
              "      <td>Aspect=Perf|VerbForm=Inf|Voice=Act</td>\n",
              "      <td>17</td>\n",
              "      <td>xcomp</td>\n",
              "      <td>17:xcomp</td>\n",
              "      <td>_</td>\n",
              "      <td>uppsalaKorp_704.xml_9</td>\n",
              "      <td>мочь</td>\n",
              "      <td>VERB</td>\n",
              "      <td>2</td>\n",
              "      <td>_</td>\n",
              "    </tr>\n",
              "    <tr>\n",
              "      <th>15</th>\n",
              "      <td>16</td>\n",
              "      <td>не</td>\n",
              "      <td>не</td>\n",
              "      <td>PART</td>\n",
              "      <td>_</td>\n",
              "      <td>_</td>\n",
              "      <td>17</td>\n",
              "      <td>advmod</td>\n",
              "      <td>17:advmod</td>\n",
              "      <td>_</td>\n",
              "      <td>uppsalaKorp_704.xml_9</td>\n",
              "      <td>мочь</td>\n",
              "      <td>VERB</td>\n",
              "      <td>1</td>\n",
              "      <td>_</td>\n",
              "    </tr>\n",
              "    <tr>\n",
              "      <th>16</th>\n",
              "      <td>17</td>\n",
              "      <td>может</td>\n",
              "      <td>мочь</td>\n",
              "      <td>VERB</td>\n",
              "      <td>_</td>\n",
              "      <td>Aspect=Imp|Mood=Ind|Number=Sing|Person=3|Tense...</td>\n",
              "      <td>0</td>\n",
              "      <td>root</td>\n",
              "      <td>0:root</td>\n",
              "      <td>SpaceAfter=No</td>\n",
              "      <td>uppsalaKorp_704.xml_9</td>\n",
              "      <td>_</td>\n",
              "      <td>_</td>\n",
              "      <td>0</td>\n",
              "      <td>_</td>\n",
              "    </tr>\n",
              "    <tr>\n",
              "      <th>17</th>\n",
              "      <td>18</td>\n",
              "      <td>,</td>\n",
              "      <td>,</td>\n",
              "      <td>PUNCT</td>\n",
              "      <td>_</td>\n",
              "      <td>_</td>\n",
              "      <td>23</td>\n",
              "      <td>punct</td>\n",
              "      <td>23:punct</td>\n",
              "      <td>_</td>\n",
              "      <td>uppsalaKorp_704.xml_9</td>\n",
              "      <td>соблюсти</td>\n",
              "      <td>VERB</td>\n",
              "      <td>5</td>\n",
              "      <td>_</td>\n",
              "    </tr>\n",
              "    <tr>\n",
              "      <th>18</th>\n",
              "      <td>19</td>\n",
              "      <td>если</td>\n",
              "      <td>если</td>\n",
              "      <td>SCONJ</td>\n",
              "      <td>_</td>\n",
              "      <td>_</td>\n",
              "      <td>23</td>\n",
              "      <td>mark</td>\n",
              "      <td>23:mark</td>\n",
              "      <td>_</td>\n",
              "      <td>uppsalaKorp_704.xml_9</td>\n",
              "      <td>соблюсти</td>\n",
              "      <td>VERB</td>\n",
              "      <td>4</td>\n",
              "      <td>_</td>\n",
              "    </tr>\n",
              "    <tr>\n",
              "      <th>19</th>\n",
              "      <td>20</td>\n",
              "      <td>даже</td>\n",
              "      <td>даже</td>\n",
              "      <td>PART</td>\n",
              "      <td>_</td>\n",
              "      <td>_</td>\n",
              "      <td>21</td>\n",
              "      <td>advmod</td>\n",
              "      <td>21:advmod</td>\n",
              "      <td>_</td>\n",
              "      <td>uppsalaKorp_704.xml_9</td>\n",
              "      <td>и</td>\n",
              "      <td>PART</td>\n",
              "      <td>1</td>\n",
              "      <td>_</td>\n",
              "    </tr>\n",
              "    <tr>\n",
              "      <th>20</th>\n",
              "      <td>21</td>\n",
              "      <td>и</td>\n",
              "      <td>и</td>\n",
              "      <td>PART</td>\n",
              "      <td>_</td>\n",
              "      <td>_</td>\n",
              "      <td>23</td>\n",
              "      <td>advmod</td>\n",
              "      <td>23:advmod</td>\n",
              "      <td>_</td>\n",
              "      <td>uppsalaKorp_704.xml_9</td>\n",
              "      <td>соблюсти</td>\n",
              "      <td>VERB</td>\n",
              "      <td>2</td>\n",
              "      <td>_</td>\n",
              "    </tr>\n",
              "    <tr>\n",
              "      <th>21</th>\n",
              "      <td>22</td>\n",
              "      <td>будет</td>\n",
              "      <td>быть</td>\n",
              "      <td>AUX</td>\n",
              "      <td>_</td>\n",
              "      <td>Aspect=Imp|Mood=Ind|Number=Sing|Person=3|Tense...</td>\n",
              "      <td>23</td>\n",
              "      <td>aux:pass</td>\n",
              "      <td>23:aux:pass</td>\n",
              "      <td>_</td>\n",
              "      <td>uppsalaKorp_704.xml_9</td>\n",
              "      <td>соблюсти</td>\n",
              "      <td>VERB</td>\n",
              "      <td>1</td>\n",
              "      <td>_</td>\n",
              "    </tr>\n",
              "    <tr>\n",
              "      <th>22</th>\n",
              "      <td>23</td>\n",
              "      <td>соблюдена</td>\n",
              "      <td>соблюсти</td>\n",
              "      <td>VERB</td>\n",
              "      <td>_</td>\n",
              "      <td>Aspect=Perf|Gender=Fem|Number=Sing|Tense=Past|...</td>\n",
              "      <td>17</td>\n",
              "      <td>advcl</td>\n",
              "      <td>17:advcl</td>\n",
              "      <td>_</td>\n",
              "      <td>uppsalaKorp_704.xml_9</td>\n",
              "      <td>мочь</td>\n",
              "      <td>VERB</td>\n",
              "      <td>-6</td>\n",
              "      <td>_</td>\n",
              "    </tr>\n",
              "    <tr>\n",
              "      <th>23</th>\n",
              "      <td>24</td>\n",
              "      <td>видимость</td>\n",
              "      <td>видимость</td>\n",
              "      <td>NOUN</td>\n",
              "      <td>_</td>\n",
              "      <td>Animacy=Inan|Case=Nom|Gender=Fem|Number=Sing</td>\n",
              "      <td>23</td>\n",
              "      <td>nsubj:pass</td>\n",
              "      <td>23:nsubj:pass</td>\n",
              "      <td>_</td>\n",
              "      <td>uppsalaKorp_704.xml_9</td>\n",
              "      <td>соблюсти</td>\n",
              "      <td>VERB</td>\n",
              "      <td>-1</td>\n",
              "      <td>_</td>\n",
              "    </tr>\n",
              "    <tr>\n",
              "      <th>24</th>\n",
              "      <td>25</td>\n",
              "      <td>этого</td>\n",
              "      <td>этот</td>\n",
              "      <td>DET</td>\n",
              "      <td>_</td>\n",
              "      <td>Case=Gen|Gender=Neut|Number=Sing</td>\n",
              "      <td>26</td>\n",
              "      <td>det</td>\n",
              "      <td>26:det</td>\n",
              "      <td>_</td>\n",
              "      <td>uppsalaKorp_704.xml_9</td>\n",
              "      <td>изучение</td>\n",
              "      <td>NOUN</td>\n",
              "      <td>1</td>\n",
              "      <td>_</td>\n",
              "    </tr>\n",
              "    <tr>\n",
              "      <th>25</th>\n",
              "      <td>26</td>\n",
              "      <td>изучения</td>\n",
              "      <td>изучение</td>\n",
              "      <td>NOUN</td>\n",
              "      <td>_</td>\n",
              "      <td>Animacy=Inan|Case=Gen|Gender=Neut|Number=Sing</td>\n",
              "      <td>24</td>\n",
              "      <td>nmod</td>\n",
              "      <td>24:nmod</td>\n",
              "      <td>SpaceAfter=No</td>\n",
              "      <td>uppsalaKorp_704.xml_9</td>\n",
              "      <td>видимость</td>\n",
              "      <td>NOUN</td>\n",
              "      <td>-2</td>\n",
              "      <td>_</td>\n",
              "    </tr>\n",
              "    <tr>\n",
              "      <th>26</th>\n",
              "      <td>27</td>\n",
              "      <td>.</td>\n",
              "      <td>.</td>\n",
              "      <td>PUNCT</td>\n",
              "      <td>_</td>\n",
              "      <td>_</td>\n",
              "      <td>17</td>\n",
              "      <td>punct</td>\n",
              "      <td>17:punct</td>\n",
              "      <td>_</td>\n",
              "      <td>uppsalaKorp_704.xml_9</td>\n",
              "      <td>мочь</td>\n",
              "      <td>VERB</td>\n",
              "      <td>-10</td>\n",
              "      <td>_</td>\n",
              "    </tr>\n",
              "  </tbody>\n",
              "</table>\n",
              "</div>"
            ],
            "text/plain": [
              "    index    wordform       lemma    POS  ... lemma_parent pos_parent  rel role\n",
              "0       1  Принуждать  принуждать   VERB  ...         мочь       VERB   16    _\n",
              "1       2       людей     человек   NOUN  ...   принуждать       VERB   -1    _\n",
              "2       3           к           к    ADP  ...     изучение       NOUN    1    _\n",
              "3       4    изучению    изучение   NOUN  ...   принуждать       VERB   -3    _\n",
              "4       5        того          то   PRON  ...     изучение       NOUN   -1    _\n",
              "5       6           ,           ,  PUNCT  ...       желать       VERB    5    _\n",
              "6       7         что         что  SCONJ  ...       желать       VERB    4    _\n",
              "7       8         они         они   PRON  ...       желать       VERB    3    _\n",
              "8       9       знать       знать   VERB  ...       желать       VERB    2    _\n",
              "9      10          не          не   PART  ...       желать       VERB    1    _\n",
              "10     11      желают      желать   VERB  ...           то       PRON   -6    _\n",
              "11     12           ,           ,  PUNCT  ...   принуждать       VERB  -11    _\n",
              "12     13      ничего       ничто   PRON  ...         дать       VERB    2    _\n",
              "13     14     путного      путный    ADJ  ...        ничто       PRON   -1    _\n",
              "14     15        дать        дать   VERB  ...         мочь       VERB    2    _\n",
              "15     16          не          не   PART  ...         мочь       VERB    1    _\n",
              "16     17       может        мочь   VERB  ...            _          _    0    _\n",
              "17     18           ,           ,  PUNCT  ...     соблюсти       VERB    5    _\n",
              "18     19        если        если  SCONJ  ...     соблюсти       VERB    4    _\n",
              "19     20        даже        даже   PART  ...            и       PART    1    _\n",
              "20     21           и           и   PART  ...     соблюсти       VERB    2    _\n",
              "21     22       будет        быть    AUX  ...     соблюсти       VERB    1    _\n",
              "22     23   соблюдена    соблюсти   VERB  ...         мочь       VERB   -6    _\n",
              "23     24   видимость   видимость   NOUN  ...     соблюсти       VERB   -1    _\n",
              "24     25       этого        этот    DET  ...     изучение       NOUN    1    _\n",
              "25     26    изучения    изучение   NOUN  ...    видимость       NOUN   -2    _\n",
              "26     27           .           .  PUNCT  ...         мочь       VERB  -10    _\n",
              "\n",
              "[27 rows x 15 columns]"
            ]
          },
          "metadata": {
            "tags": []
          },
          "execution_count": 132
        }
      ]
    },
    {
      "cell_type": "code",
      "metadata": {
        "id": "-776N_T-EnN5"
      },
      "source": [
        "final_df_3.drop(['lemma_parent', 'pos_parent', 'rel'], axis=1).to_csv('final_df_model_3.xlsx', sep='\\t')"
      ],
      "execution_count": 138,
      "outputs": []
    },
    {
      "cell_type": "code",
      "metadata": {
        "id": "P9FfcswbGjrX"
      },
      "source": [
        ""
      ],
      "execution_count": null,
      "outputs": []
    }
  ]
}